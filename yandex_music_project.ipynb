{
  "cells": [
    {
      "cell_type": "markdown",
      "metadata": {
        "deletable": false,
        "editable": false,
        "id": "E0vqbgi9ay0H"
      },
      "source": [
        "# Яндекс Музыка"
      ]
    },
    {
      "cell_type": "markdown",
      "metadata": {
        "deletable": false,
        "editable": false,
        "id": "VUC88oWjTJw2"
      },
      "source": [
        "Сравнение Москвы и Петербурга окружено мифами. Например:\n",
        " * Москва — мегаполис, подчинённый жёсткому ритму рабочей недели;\n",
        " * Петербург — культурная столица, со своими вкусами.\n",
        "\n",
        "На данных Яндекс Музыки вы сравните поведение пользователей двух столиц.\n",
        "\n",
        "**Цель исследования** — проверьте три гипотезы:\n",
        "1. Активность пользователей зависит от дня недели. Причём в Москве и Петербурге это проявляется по-разному.\n",
        "2. В понедельник утром в Москве преобладают одни жанры, а в Петербурге — другие. Так же и вечером пятницы преобладают разные жанры — в зависимости от города.\n",
        "3. Москва и Петербург предпочитают разные жанры музыки. В Москве чаще слушают поп-музыку, в Петербурге — русский рэп.\n",
        "\n",
        "**Ход исследования**\n",
        "\n",
        "Данные о поведении пользователей вы получите из файла `yandex_music_project.csv`. О качестве данных ничего не известно. Поэтому перед проверкой гипотез понадобится обзор данных.\n",
        "\n",
        "Вы проверите данные на ошибки и оцените их влияние на исследование. Затем, на этапе предобработки вы поищете возможность исправить самые критичные ошибки данных.\n",
        "\n",
        "Таким образом, исследование пройдёт в три этапа:\n",
        " 1. Обзор данных.\n",
        " 2. Предобработка данных.\n",
        " 3. Проверка гипотез.\n",
        "\n"
      ]
    },
    {
      "cell_type": "markdown",
      "metadata": {
        "deletable": false,
        "editable": false,
        "id": "Ml1hmfXC_Zcs"
      },
      "source": [
        "## Обзор данных\n",
        "\n",
        "Составьте первое представление о данных Яндекс Музыки.\n",
        "\n",
        "\n"
      ]
    },
    {
      "cell_type": "markdown",
      "metadata": {
        "deletable": false,
        "editable": false,
        "id": "57eAOGIz_Zcs",
        "tags": [
          "start_task"
        ]
      },
      "source": [
        "**Задание 1**\n",
        "\n",
        "Основной инструмент аналитика — `pandas`. Импортируйте эту библиотеку."
      ]
    },
    {
      "cell_type": "code",
      "execution_count": null,
      "metadata": {
        "deletable": false,
        "id": "AXN7PHPN_Zcs"
      },
      "outputs": [],
      "source": [
        "import pandas as pd# импорт библиотеки pandas"
      ]
    },
    {
      "cell_type": "markdown",
      "metadata": {
        "deletable": false,
        "editable": false,
        "id": "SG23P8tt_Zcs",
        "tags": [
          "start_task"
        ]
      },
      "source": [
        "**Задание 2**\n",
        "\n",
        "Прочитайте файл `yandex_music_project.csv` из папки `/datasets` и сохраните его в переменной `df`:"
      ]
    },
    {
      "cell_type": "code",
      "execution_count": null,
      "metadata": {
        "deletable": false,
        "id": "fFVu7vqh_Zct"
      },
      "outputs": [],
      "source": [
        "df=pd.read_csv('/datasets/yandex_music_project.csv')# чтение файла с данными и сохранение в df"
      ]
    },
    {
      "cell_type": "markdown",
      "metadata": {
        "deletable": false,
        "editable": false,
        "id": "rDoOMd3uTqnZ",
        "tags": [
          "start_task"
        ]
      },
      "source": [
        "**Задание 3**\n",
        "\n",
        "\n",
        "Выведите на экран первые десять строк таблицы:"
      ]
    },
    {
      "cell_type": "code",
      "execution_count": null,
      "metadata": {
        "deletable": false,
        "id": "oWTVX3gW_Zct",
        "outputId": "98890f72-2d7c-4ca3-fab9-f39f1e46557b"
      },
      "outputs": [
        {
          "data": {
            "text/html": [
              "<div>\n",
              "<style scoped>\n",
              "    .dataframe tbody tr th:only-of-type {\n",
              "        vertical-align: middle;\n",
              "    }\n",
              "\n",
              "    .dataframe tbody tr th {\n",
              "        vertical-align: top;\n",
              "    }\n",
              "\n",
              "    .dataframe thead th {\n",
              "        text-align: right;\n",
              "    }\n",
              "</style>\n",
              "<table border=\"1\" class=\"dataframe\">\n",
              "  <thead>\n",
              "    <tr style=\"text-align: right;\">\n",
              "      <th></th>\n",
              "      <th>userID</th>\n",
              "      <th>Track</th>\n",
              "      <th>artist</th>\n",
              "      <th>genre</th>\n",
              "      <th>City</th>\n",
              "      <th>time</th>\n",
              "      <th>Day</th>\n",
              "    </tr>\n",
              "  </thead>\n",
              "  <tbody>\n",
              "    <tr>\n",
              "      <th>0</th>\n",
              "      <td>FFB692EC</td>\n",
              "      <td>Kamigata To Boots</td>\n",
              "      <td>The Mass Missile</td>\n",
              "      <td>rock</td>\n",
              "      <td>Saint-Petersburg</td>\n",
              "      <td>20:28:33</td>\n",
              "      <td>Wednesday</td>\n",
              "    </tr>\n",
              "    <tr>\n",
              "      <th>1</th>\n",
              "      <td>55204538</td>\n",
              "      <td>Delayed Because of Accident</td>\n",
              "      <td>Andreas Rönnberg</td>\n",
              "      <td>rock</td>\n",
              "      <td>Moscow</td>\n",
              "      <td>14:07:09</td>\n",
              "      <td>Friday</td>\n",
              "    </tr>\n",
              "    <tr>\n",
              "      <th>2</th>\n",
              "      <td>20EC38</td>\n",
              "      <td>Funiculì funiculà</td>\n",
              "      <td>Mario Lanza</td>\n",
              "      <td>pop</td>\n",
              "      <td>Saint-Petersburg</td>\n",
              "      <td>20:58:07</td>\n",
              "      <td>Wednesday</td>\n",
              "    </tr>\n",
              "    <tr>\n",
              "      <th>3</th>\n",
              "      <td>A3DD03C9</td>\n",
              "      <td>Dragons in the Sunset</td>\n",
              "      <td>Fire + Ice</td>\n",
              "      <td>folk</td>\n",
              "      <td>Saint-Petersburg</td>\n",
              "      <td>08:37:09</td>\n",
              "      <td>Monday</td>\n",
              "    </tr>\n",
              "    <tr>\n",
              "      <th>4</th>\n",
              "      <td>E2DC1FAE</td>\n",
              "      <td>Soul People</td>\n",
              "      <td>Space Echo</td>\n",
              "      <td>dance</td>\n",
              "      <td>Moscow</td>\n",
              "      <td>08:34:34</td>\n",
              "      <td>Monday</td>\n",
              "    </tr>\n",
              "    <tr>\n",
              "      <th>5</th>\n",
              "      <td>842029A1</td>\n",
              "      <td>Преданная</td>\n",
              "      <td>IMPERVTOR</td>\n",
              "      <td>rusrap</td>\n",
              "      <td>Saint-Petersburg</td>\n",
              "      <td>13:09:41</td>\n",
              "      <td>Friday</td>\n",
              "    </tr>\n",
              "    <tr>\n",
              "      <th>6</th>\n",
              "      <td>4CB90AA5</td>\n",
              "      <td>True</td>\n",
              "      <td>Roman Messer</td>\n",
              "      <td>dance</td>\n",
              "      <td>Moscow</td>\n",
              "      <td>13:00:07</td>\n",
              "      <td>Wednesday</td>\n",
              "    </tr>\n",
              "    <tr>\n",
              "      <th>7</th>\n",
              "      <td>F03E1C1F</td>\n",
              "      <td>Feeling This Way</td>\n",
              "      <td>Polina Griffith</td>\n",
              "      <td>dance</td>\n",
              "      <td>Moscow</td>\n",
              "      <td>20:47:49</td>\n",
              "      <td>Wednesday</td>\n",
              "    </tr>\n",
              "    <tr>\n",
              "      <th>8</th>\n",
              "      <td>8FA1D3BE</td>\n",
              "      <td>И вновь продолжается бой</td>\n",
              "      <td>NaN</td>\n",
              "      <td>ruspop</td>\n",
              "      <td>Moscow</td>\n",
              "      <td>09:17:40</td>\n",
              "      <td>Friday</td>\n",
              "    </tr>\n",
              "    <tr>\n",
              "      <th>9</th>\n",
              "      <td>E772D5C0</td>\n",
              "      <td>Pessimist</td>\n",
              "      <td>NaN</td>\n",
              "      <td>dance</td>\n",
              "      <td>Saint-Petersburg</td>\n",
              "      <td>21:20:49</td>\n",
              "      <td>Wednesday</td>\n",
              "    </tr>\n",
              "  </tbody>\n",
              "</table>\n",
              "</div>"
            ],
            "text/plain": [
              "     userID                        Track            artist   genre  \\\n",
              "0  FFB692EC            Kamigata To Boots  The Mass Missile    rock   \n",
              "1  55204538  Delayed Because of Accident  Andreas Rönnberg    rock   \n",
              "2    20EC38            Funiculì funiculà       Mario Lanza     pop   \n",
              "3  A3DD03C9        Dragons in the Sunset        Fire + Ice    folk   \n",
              "4  E2DC1FAE                  Soul People        Space Echo   dance   \n",
              "5  842029A1                    Преданная         IMPERVTOR  rusrap   \n",
              "6  4CB90AA5                         True      Roman Messer   dance   \n",
              "7  F03E1C1F             Feeling This Way   Polina Griffith   dance   \n",
              "8  8FA1D3BE     И вновь продолжается бой               NaN  ruspop   \n",
              "9  E772D5C0                    Pessimist               NaN   dance   \n",
              "\n",
              "             City        time        Day  \n",
              "0  Saint-Petersburg  20:28:33  Wednesday  \n",
              "1            Moscow  14:07:09     Friday  \n",
              "2  Saint-Petersburg  20:58:07  Wednesday  \n",
              "3  Saint-Petersburg  08:37:09     Monday  \n",
              "4            Moscow  08:34:34     Monday  \n",
              "5  Saint-Petersburg  13:09:41     Friday  \n",
              "6            Moscow  13:00:07  Wednesday  \n",
              "7            Moscow  20:47:49  Wednesday  \n",
              "8            Moscow  09:17:40     Friday  \n",
              "9  Saint-Petersburg  21:20:49  Wednesday  "
            ]
          },
          "execution_count": 3,
          "metadata": {},
          "output_type": "execute_result"
        }
      ],
      "source": [
        "df.head(10)# получение первых 10 строк таблицы df"
      ]
    },
    {
      "cell_type": "markdown",
      "metadata": {
        "deletable": false,
        "editable": false,
        "id": "EO73Kwic_Zct",
        "tags": [
          "start_task"
        ]
      },
      "source": [
        "**Задание 4**\n",
        "\n",
        "\n",
        "Одной командой получить общую информацию о таблице c помощью метода `info()`:"
      ]
    },
    {
      "cell_type": "code",
      "execution_count": null,
      "metadata": {
        "deletable": false,
        "id": "DSf2kIb-_Zct",
        "outputId": "d7433fe8-5412-430c-99a1-4385bcb062a5"
      },
      "outputs": [
        {
          "name": "stdout",
          "output_type": "stream",
          "text": [
            "<class 'pandas.core.frame.DataFrame'>\n",
            "RangeIndex: 65079 entries, 0 to 65078\n",
            "Data columns (total 7 columns):\n",
            " #   Column    Non-Null Count  Dtype \n",
            "---  ------    --------------  ----- \n",
            " 0     userID  65079 non-null  object\n",
            " 1   Track     63848 non-null  object\n",
            " 2   artist    57876 non-null  object\n",
            " 3   genre     63881 non-null  object\n",
            " 4     City    65079 non-null  object\n",
            " 5   time      65079 non-null  object\n",
            " 6   Day       65079 non-null  object\n",
            "dtypes: object(7)\n",
            "memory usage: 3.5+ MB\n"
          ]
        }
      ],
      "source": [
        "df.info()# получение общей информации о данных в таблице df"
      ]
    },
    {
      "cell_type": "markdown",
      "metadata": {
        "deletable": false,
        "editable": false,
        "id": "TaQ2Iwbr_Zct"
      },
      "source": [
        "Итак, в таблице семь столбцов. Тип данных во всех столбцах — `object`.\n",
        "\n",
        "Согласно документации к данным:\n",
        "* `userID` — идентификатор пользователя;\n",
        "* `Track` — название трека;  \n",
        "* `artist` — имя исполнителя;\n",
        "* `genre` — название жанра;\n",
        "* `City` — город пользователя;\n",
        "* `time` — время начала прослушивания;\n",
        "* `Day` — день недели.\n",
        "\n",
        "Количество значений в столбцах различается. Значит, в данных есть пропущенные значения."
      ]
    },
    {
      "cell_type": "markdown",
      "metadata": {
        "deletable": false,
        "editable": false,
        "id": "rAfziTBDmf2h",
        "tags": [
          "start_task"
        ]
      },
      "source": [
        "**Задание 5**\n",
        "\n",
        "**Вопрос со свободной формой ответа**\n",
        "\n",
        "В названиях колонок видны нарушения стиля:\n",
        "* Строчные буквы сочетаются с прописными.\n",
        "* Встречаются пробелы.\n",
        "\n",
        "Какое третье нарушение?"
      ]
    },
    {
      "cell_type": "code",
      "execution_count": null,
      "metadata": {
        "id": "jD8EXEIvmf2h"
      },
      "outputs": [],
      "source": [
        "#Встречаются пропуски в колонке 'artist'# Напишите ваш ответ здесь комментарием. Не удаляйте символ #. Не меняйте тип этой ячейки на Markdown."
      ]
    },
    {
      "cell_type": "markdown",
      "metadata": {
        "deletable": false,
        "editable": false,
        "id": "MCB6-dXG_Zct"
      },
      "source": [
        "**Выводы**\n",
        "\n",
        "В каждой строке таблицы — данные о прослушанном треке. Часть колонок описывает саму композицию: название, исполнителя и жанр. Остальные данные рассказывают о пользователе: из какого он города, когда он слушал музыку.\n",
        "\n",
        "Предварительно можно утверждать, что данных достаточно для проверки гипотез. Но встречаются пропуски в данных, а в названиях колонок — расхождения с хорошим стилем.\n",
        "\n",
        "Чтобы двигаться дальше, нужно устранить проблемы в данных."
      ]
    },
    {
      "cell_type": "markdown",
      "metadata": {
        "deletable": false,
        "editable": false,
        "id": "SjYF6Ub9_Zct"
      },
      "source": [
        "## Предобработка данных\n",
        "Исправьте стиль в заголовках столбцов, исключите пропуски. Затем проверьте данные на дубликаты."
      ]
    },
    {
      "cell_type": "markdown",
      "metadata": {
        "deletable": false,
        "editable": false,
        "id": "dIaKXr29_Zct",
        "tags": [
          "start_task"
        ]
      },
      "source": [
        "### Стиль заголовков\n",
        "\n",
        "**Задание 6**\n",
        "\n",
        "Выведите на экран названия столбцов:"
      ]
    },
    {
      "cell_type": "code",
      "execution_count": null,
      "metadata": {
        "deletable": false,
        "id": "oKOTdF_Q_Zct",
        "outputId": "47a0a643-217d-44d6-9f88-e3077467dfea"
      },
      "outputs": [
        {
          "data": {
            "text/plain": [
              "Index(['  userID', 'Track', 'artist', 'genre', '  City  ', 'time', 'Day'], dtype='object')"
            ]
          },
          "execution_count": 6,
          "metadata": {},
          "output_type": "execute_result"
        }
      ],
      "source": [
        "df.columns# перечень названий столбцов таблицы df"
      ]
    },
    {
      "cell_type": "markdown",
      "metadata": {
        "deletable": false,
        "editable": false,
        "id": "zj5534cv_Zct",
        "tags": [
          "start_task"
        ]
      },
      "source": [
        "**Задание 7**\n",
        "\n",
        "\n",
        "Приведите названия в соответствие с хорошим стилем:\n",
        "* несколько слов в названии запишите в «змеином_регистре»,\n",
        "* все символы сделайте строчными,\n",
        "* устраните пробелы.\n",
        "\n",
        "Для этого переименуйте колонки так:\n",
        "* `'  userID'` → `'user_id'`;\n",
        "* `'Track'` → `'track'`;\n",
        "* `'  City  '` → `'city'`;\n",
        "* `'Day'` → `'day'`."
      ]
    },
    {
      "cell_type": "code",
      "execution_count": null,
      "metadata": {
        "deletable": false,
        "id": "ISlFqs5y_Zct"
      },
      "outputs": [],
      "source": [
        "df=df.rename(columns={'  userID':'user_id','Track':'track','  City  ':'city','Day':'day'})"
      ]
    },
    {
      "cell_type": "markdown",
      "metadata": {
        "deletable": false,
        "editable": false,
        "id": "1dqbh00J_Zct",
        "tags": [
          "start_task"
        ]
      },
      "source": [
        "**Задание 8**\n",
        "\n",
        "\n",
        "Проверьте результат. Для этого ещё раз выведите на экран названия столбцов:"
      ]
    },
    {
      "cell_type": "code",
      "execution_count": null,
      "metadata": {
        "deletable": false,
        "id": "d4NOAmTW_Zct",
        "outputId": "7832021b-97fe-4189-9087-f8ba055c3cee"
      },
      "outputs": [
        {
          "data": {
            "text/plain": [
              "Index(['user_id', 'track', 'artist', 'genre', 'city', 'time', 'day'], dtype='object')"
            ]
          },
          "execution_count": 8,
          "metadata": {},
          "output_type": "execute_result"
        }
      ],
      "source": [
        "df.columns# проверка результатов - перечень названий столбцов"
      ]
    },
    {
      "cell_type": "markdown",
      "metadata": {
        "deletable": false,
        "editable": false,
        "id": "5ISfbcfY_Zct",
        "tags": [
          "start_task"
        ]
      },
      "source": [
        "### Пропуски значений\n",
        "\n",
        "**Задание 9**\n",
        "\n",
        "Сначала посчитайте, сколько в таблице пропущенных значений. Для этого достаточно двух методов `pandas`:"
      ]
    },
    {
      "cell_type": "code",
      "execution_count": null,
      "metadata": {
        "deletable": false,
        "id": "RskX29qr_Zct",
        "outputId": "670083c6-7b92-4faf-ccb7-f318d4c75997"
      },
      "outputs": [
        {
          "data": {
            "text/plain": [
              "user_id       0\n",
              "track      1231\n",
              "artist     7203\n",
              "genre      1198\n",
              "city          0\n",
              "time          0\n",
              "day           0\n",
              "dtype: int64"
            ]
          },
          "execution_count": 9,
          "metadata": {},
          "output_type": "execute_result"
        }
      ],
      "source": [
        "df.isna().sum()# подсчёт пропусков"
      ]
    },
    {
      "cell_type": "markdown",
      "metadata": {
        "deletable": false,
        "editable": false,
        "id": "qubhgnlO_Zct"
      },
      "source": [
        "Не все пропущенные значения влияют на исследование. Так в `track` и `artist` пропуски не важны для вашей работы. Достаточно заменить их явными обозначениями.\n",
        "\n",
        "Но пропуски в `genre` могут помешать сравнению музыкальных вкусов в Москве и Санкт-Петербурге. На практике было бы правильно установить причину пропусков и восстановить данные. Такой возможности нет в учебном проекте. Придётся:\n",
        "* заполнить и эти пропуски явными обозначениями;\n",
        "* оценить, насколько они повредят расчётам."
      ]
    },
    {
      "cell_type": "markdown",
      "metadata": {
        "deletable": false,
        "editable": false,
        "id": "fSv2laPA_Zct",
        "tags": [
          "start_task"
        ]
      },
      "source": [
        "**Задание 10**\n",
        "\n",
        "Замените пропущенные значения в столбцах `track`, `artist` и `genre` на строку `'unknown'`. Для этого создайте список `columns_to_replace`, переберите его элементы циклом `for` и для каждого столбца выполните замену пропущенных значений:"
      ]
    },
    {
      "cell_type": "code",
      "execution_count": null,
      "metadata": {
        "deletable": false,
        "id": "KplB5qWs_Zct"
      },
      "outputs": [],
      "source": [
        "columns_to_replace=['track','artist','genre']\n",
        "for columns in columns_to_replace:\n",
        "    df[columns]=df[columns].fillna('unknown')# перебор названий столбцов в цикле и замена пропущенных значений на 'unknown'"
      ]
    },
    {
      "cell_type": "markdown",
      "metadata": {
        "deletable": false,
        "editable": false,
        "id": "Ilsm-MZo_Zct",
        "tags": [
          "start_task"
        ]
      },
      "source": [
        "**Задание 11**\n",
        "\n",
        "Убедитесь, что в таблице не осталось пропусков. Для этого ещё раз посчитайте пропущенные значения."
      ]
    },
    {
      "cell_type": "code",
      "execution_count": null,
      "metadata": {
        "deletable": false,
        "id": "Tq4nYRX4_Zct",
        "outputId": "8993dd78-e58f-45ab-b27e-c2f1147fdc17"
      },
      "outputs": [
        {
          "data": {
            "text/plain": [
              "user_id    0\n",
              "track      0\n",
              "artist     0\n",
              "genre      0\n",
              "city       0\n",
              "time       0\n",
              "day        0\n",
              "dtype: int64"
            ]
          },
          "execution_count": 11,
          "metadata": {},
          "output_type": "execute_result"
        }
      ],
      "source": [
        "df.isna().sum()# подсчёт пропусков"
      ]
    },
    {
      "cell_type": "markdown",
      "metadata": {
        "deletable": false,
        "editable": false,
        "id": "BWKRtBJ3_Zct",
        "tags": [
          "start_task"
        ]
      },
      "source": [
        "### Дубликаты\n",
        "\n",
        "**Задание 12**\n",
        "\n",
        "Посчитайте явные дубликаты в таблице одной командой:"
      ]
    },
    {
      "cell_type": "code",
      "execution_count": null,
      "metadata": {
        "deletable": false,
        "id": "36eES_S0_Zct",
        "outputId": "0b3d8439-cf34-46d7-9937-da9ae28bd2ab"
      },
      "outputs": [
        {
          "data": {
            "text/plain": [
              "3826"
            ]
          },
          "execution_count": 12,
          "metadata": {},
          "output_type": "execute_result"
        }
      ],
      "source": [
        "df.duplicated().sum()# подсчёт явных дубликатов"
      ]
    },
    {
      "cell_type": "markdown",
      "metadata": {
        "deletable": false,
        "editable": false,
        "id": "Ot25h6XR_Zct",
        "tags": [
          "start_task"
        ]
      },
      "source": [
        "**Задание 13**\n",
        "\n",
        "Вызовите специальный метод `pandas`, чтобы удалить явные дубликаты:"
      ]
    },
    {
      "cell_type": "code",
      "execution_count": null,
      "metadata": {
        "deletable": false,
        "id": "exFHq6tt_Zct"
      },
      "outputs": [],
      "source": [
        "df=df.drop_duplicates()# удаление явных дубликатов"
      ]
    },
    {
      "cell_type": "markdown",
      "metadata": {
        "deletable": false,
        "editable": false,
        "id": "Im2YwBEG_Zct",
        "tags": [
          "start_task"
        ]
      },
      "source": [
        "**Задание 14**\n",
        "\n",
        "Ещё раз посчитайте явные дубликаты в таблице — убедитесь, что полностью от них избавились:"
      ]
    },
    {
      "cell_type": "code",
      "execution_count": null,
      "metadata": {
        "deletable": false,
        "id": "-8PuNWQ0_Zct",
        "outputId": "1f313354-72fe-4274-e8ab-4d9e6e5904fa"
      },
      "outputs": [
        {
          "data": {
            "text/plain": [
              "0"
            ]
          },
          "execution_count": 14,
          "metadata": {},
          "output_type": "execute_result"
        }
      ],
      "source": [
        "df.duplicated().sum()# проверка на отсутствие дубликатов"
      ]
    },
    {
      "cell_type": "markdown",
      "metadata": {
        "deletable": false,
        "editable": false,
        "id": "QlFBsxAr_Zct"
      },
      "source": [
        "Теперь избавьтесь от неявных дубликатов в колонке `genre`. Например, название одного и того же жанра может быть записано немного по-разному. Такие ошибки тоже повлияют на результат исследования."
      ]
    },
    {
      "cell_type": "markdown",
      "metadata": {
        "deletable": false,
        "editable": false,
        "id": "eSjWwsOh_Zct",
        "tags": [
          "start_task"
        ]
      },
      "source": [
        "**Задание 15**\n",
        "\n",
        "Выведите на экран список уникальных названий жанров, отсортированный в алфавитном порядке. Для этого:\n",
        "1. извлеките нужный столбец датафрейма;\n",
        "2. примените к нему метод сортировки;\n",
        "3. для отсортированного столбца вызовите метод, который вернёт уникальные значения из столбца."
      ]
    },
    {
      "cell_type": "code",
      "execution_count": null,
      "metadata": {
        "deletable": false,
        "id": "JIUcqzZN_Zct",
        "outputId": "a396b073-3bf4-4451-a217-b77c17836242"
      },
      "outputs": [
        {
          "data": {
            "text/plain": [
              "array(['acid', 'acoustic', 'action', 'adult', 'africa', 'afrikaans',\n",
              "       'alternative', 'alternativepunk', 'ambient', 'americana',\n",
              "       'animated', 'anime', 'arabesk', 'arabic', 'arena',\n",
              "       'argentinetango', 'art', 'audiobook', 'author', 'avantgarde',\n",
              "       'axé', 'baile', 'balkan', 'beats', 'bigroom', 'black', 'bluegrass',\n",
              "       'blues', 'bollywood', 'bossa', 'brazilian', 'breakbeat', 'breaks',\n",
              "       'broadway', 'cantautori', 'cantopop', 'canzone', 'caribbean',\n",
              "       'caucasian', 'celtic', 'chamber', 'chanson', 'children', 'chill',\n",
              "       'chinese', 'choral', 'christian', 'christmas', 'classical',\n",
              "       'classicmetal', 'club', 'colombian', 'comedy', 'conjazz',\n",
              "       'contemporary', 'country', 'cuban', 'dance', 'dancehall',\n",
              "       'dancepop', 'dark', 'death', 'deep', 'deutschrock', 'deutschspr',\n",
              "       'dirty', 'disco', 'dnb', 'documentary', 'downbeat', 'downtempo',\n",
              "       'drum', 'dub', 'dubstep', 'eastern', 'easy', 'electronic',\n",
              "       'electropop', 'emo', 'entehno', 'epicmetal', 'estrada', 'ethnic',\n",
              "       'eurofolk', 'european', 'experimental', 'extrememetal', 'fado',\n",
              "       'fairytail', 'film', 'fitness', 'flamenco', 'folk', 'folklore',\n",
              "       'folkmetal', 'folkrock', 'folktronica', 'forró', 'frankreich',\n",
              "       'französisch', 'french', 'funk', 'future', 'gangsta', 'garage',\n",
              "       'german', 'ghazal', 'gitarre', 'glitch', 'gospel', 'gothic',\n",
              "       'grime', 'grunge', 'gypsy', 'handsup', \"hard'n'heavy\", 'hardcore',\n",
              "       'hardstyle', 'hardtechno', 'hip', 'hip-hop', 'hiphop',\n",
              "       'historisch', 'holiday', 'hop', 'horror', 'house', 'hymn', 'idm',\n",
              "       'independent', 'indian', 'indie', 'indipop', 'industrial',\n",
              "       'inspirational', 'instrumental', 'international', 'irish', 'jam',\n",
              "       'japanese', 'jazz', 'jewish', 'jpop', 'jungle', 'k-pop',\n",
              "       'karadeniz', 'karaoke', 'kayokyoku', 'korean', 'laiko', 'latin',\n",
              "       'latino', 'leftfield', 'local', 'lounge', 'loungeelectronic',\n",
              "       'lovers', 'malaysian', 'mandopop', 'marschmusik', 'meditative',\n",
              "       'mediterranean', 'melodic', 'metal', 'metalcore', 'mexican',\n",
              "       'middle', 'minimal', 'miscellaneous', 'modern', 'mood', 'mpb',\n",
              "       'muslim', 'native', 'neoklassik', 'neue', 'new', 'newage',\n",
              "       'newwave', 'nu', 'nujazz', 'numetal', 'oceania', 'old', 'opera',\n",
              "       'orchestral', 'other', 'piano', 'podcasts', 'pop', 'popdance',\n",
              "       'popelectronic', 'popeurodance', 'poprussian', 'post',\n",
              "       'posthardcore', 'postrock', 'power', 'progmetal', 'progressive',\n",
              "       'psychedelic', 'punjabi', 'punk', 'quebecois', 'ragga', 'ram',\n",
              "       'rancheras', 'rap', 'rave', 'reggae', 'reggaeton', 'regional',\n",
              "       'relax', 'religious', 'retro', 'rhythm', 'rnb', 'rnr', 'rock',\n",
              "       'rockabilly', 'rockalternative', 'rockindie', 'rockother',\n",
              "       'romance', 'roots', 'ruspop', 'rusrap', 'rusrock', 'russian',\n",
              "       'salsa', 'samba', 'scenic', 'schlager', 'self', 'sertanejo',\n",
              "       'shanson', 'shoegazing', 'showtunes', 'singer', 'ska', 'skarock',\n",
              "       'slow', 'smooth', 'soft', 'soul', 'soulful', 'sound', 'soundtrack',\n",
              "       'southern', 'specialty', 'speech', 'spiritual', 'sport',\n",
              "       'stonerrock', 'surf', 'swing', 'synthpop', 'synthrock',\n",
              "       'sängerportrait', 'tango', 'tanzorchester', 'taraftar', 'tatar',\n",
              "       'tech', 'techno', 'teen', 'thrash', 'top', 'traditional',\n",
              "       'tradjazz', 'trance', 'tribal', 'trip', 'triphop', 'tropical',\n",
              "       'türk', 'türkçe', 'ukrrock', 'unknown', 'urban', 'uzbek',\n",
              "       'variété', 'vi', 'videogame', 'vocal', 'western', 'world',\n",
              "       'worldbeat', 'ïîï', 'электроника'], dtype=object)"
            ]
          },
          "execution_count": 15,
          "metadata": {},
          "output_type": "execute_result"
        }
      ],
      "source": [
        "df.sort_values(by = 'genre',ascending=True)['genre'].unique()"
      ]
    },
    {
      "cell_type": "markdown",
      "metadata": {
        "deletable": false,
        "editable": false,
        "id": "qej-Qmuo_Zct",
        "tags": [
          "start_task"
        ]
      },
      "source": [
        "**Задание 16**\n",
        "\n",
        "Просмотрите список и найдите неявные дубликаты названия `hiphop`. Это могут быть названия с ошибками или альтернативные названия того же жанра.\n",
        "\n",
        "Вы увидите следующие неявные дубликаты:\n",
        "* *hip*,\n",
        "* *hop*,\n",
        "* *hip-hop*.\n",
        "\n",
        "Чтобы очистить от них таблицу используйте метод `replace()` с двумя аргументами: списком строк-дубликатов (включащий *hip*, *hop* и *hip-hop*) и строкой с правильным значением. Вам нужно исправить колонку `genre` в таблице `df`: заменить каждое значение из списка дубликатов на верное. Вместо `hip`, `hop` и `hip-hop` в таблице должно быть значение `hiphop`:"
      ]
    },
    {
      "cell_type": "code",
      "execution_count": null,
      "metadata": {
        "deletable": false,
        "id": "ErNDkmns_Zct"
      },
      "outputs": [],
      "source": [
        "df['genre']=df['genre'].replace('hip','hiphop')\n",
        "df['genre']=df['genre'].replace('hop','hiphop')\n",
        "df['genre']=df['genre'].replace('hip-hop','hiphop')\n",
        "\n",
        "\n",
        "\n",
        "\n",
        "\n",
        "# Устранение неявных дубликатов"
      ]
    },
    {
      "cell_type": "markdown",
      "metadata": {
        "deletable": false,
        "editable": false,
        "id": "zQKF16_RG15m",
        "tags": [
          "start_task"
        ]
      },
      "source": [
        "**Задание 17**\n",
        "\n",
        "Проверьте, что заменили неправильные названия:\n",
        "\n",
        "*   hip,\n",
        "*   hop,\n",
        "*   hip-hop.\n",
        "\n",
        "Выведите отсортированный список уникальных значений столбца `genre`:"
      ]
    },
    {
      "cell_type": "code",
      "execution_count": null,
      "metadata": {
        "deletable": false,
        "id": "wvixALnFG15m",
        "outputId": "a10a55f6-451b-4a4f-fea1-3ffbe7b1eb9b"
      },
      "outputs": [
        {
          "data": {
            "text/plain": [
              "array(['acid', 'acoustic', 'action', 'adult', 'africa', 'afrikaans',\n",
              "       'alternative', 'alternativepunk', 'ambient', 'americana',\n",
              "       'animated', 'anime', 'arabesk', 'arabic', 'arena',\n",
              "       'argentinetango', 'art', 'audiobook', 'author', 'avantgarde',\n",
              "       'axé', 'baile', 'balkan', 'beats', 'bigroom', 'black', 'bluegrass',\n",
              "       'blues', 'bollywood', 'bossa', 'brazilian', 'breakbeat', 'breaks',\n",
              "       'broadway', 'cantautori', 'cantopop', 'canzone', 'caribbean',\n",
              "       'caucasian', 'celtic', 'chamber', 'chanson', 'children', 'chill',\n",
              "       'chinese', 'choral', 'christian', 'christmas', 'classical',\n",
              "       'classicmetal', 'club', 'colombian', 'comedy', 'conjazz',\n",
              "       'contemporary', 'country', 'cuban', 'dance', 'dancehall',\n",
              "       'dancepop', 'dark', 'death', 'deep', 'deutschrock', 'deutschspr',\n",
              "       'dirty', 'disco', 'dnb', 'documentary', 'downbeat', 'downtempo',\n",
              "       'drum', 'dub', 'dubstep', 'eastern', 'easy', 'electronic',\n",
              "       'electropop', 'emo', 'entehno', 'epicmetal', 'estrada', 'ethnic',\n",
              "       'eurofolk', 'european', 'experimental', 'extrememetal', 'fado',\n",
              "       'fairytail', 'film', 'fitness', 'flamenco', 'folk', 'folklore',\n",
              "       'folkmetal', 'folkrock', 'folktronica', 'forró', 'frankreich',\n",
              "       'französisch', 'french', 'funk', 'future', 'gangsta', 'garage',\n",
              "       'german', 'ghazal', 'gitarre', 'glitch', 'gospel', 'gothic',\n",
              "       'grime', 'grunge', 'gypsy', 'handsup', \"hard'n'heavy\", 'hardcore',\n",
              "       'hardstyle', 'hardtechno', 'hiphop', 'historisch', 'holiday',\n",
              "       'horror', 'house', 'hymn', 'idm', 'independent', 'indian', 'indie',\n",
              "       'indipop', 'industrial', 'inspirational', 'instrumental',\n",
              "       'international', 'irish', 'jam', 'japanese', 'jazz', 'jewish',\n",
              "       'jpop', 'jungle', 'k-pop', 'karadeniz', 'karaoke', 'kayokyoku',\n",
              "       'korean', 'laiko', 'latin', 'latino', 'leftfield', 'local',\n",
              "       'lounge', 'loungeelectronic', 'lovers', 'malaysian', 'mandopop',\n",
              "       'marschmusik', 'meditative', 'mediterranean', 'melodic', 'metal',\n",
              "       'metalcore', 'mexican', 'middle', 'minimal', 'miscellaneous',\n",
              "       'modern', 'mood', 'mpb', 'muslim', 'native', 'neoklassik', 'neue',\n",
              "       'new', 'newage', 'newwave', 'nu', 'nujazz', 'numetal', 'oceania',\n",
              "       'old', 'opera', 'orchestral', 'other', 'piano', 'podcasts', 'pop',\n",
              "       'popdance', 'popelectronic', 'popeurodance', 'poprussian', 'post',\n",
              "       'posthardcore', 'postrock', 'power', 'progmetal', 'progressive',\n",
              "       'psychedelic', 'punjabi', 'punk', 'quebecois', 'ragga', 'ram',\n",
              "       'rancheras', 'rap', 'rave', 'reggae', 'reggaeton', 'regional',\n",
              "       'relax', 'religious', 'retro', 'rhythm', 'rnb', 'rnr', 'rock',\n",
              "       'rockabilly', 'rockalternative', 'rockindie', 'rockother',\n",
              "       'romance', 'roots', 'ruspop', 'rusrap', 'rusrock', 'russian',\n",
              "       'salsa', 'samba', 'scenic', 'schlager', 'self', 'sertanejo',\n",
              "       'shanson', 'shoegazing', 'showtunes', 'singer', 'ska', 'skarock',\n",
              "       'slow', 'smooth', 'soft', 'soul', 'soulful', 'sound', 'soundtrack',\n",
              "       'southern', 'specialty', 'speech', 'spiritual', 'sport',\n",
              "       'stonerrock', 'surf', 'swing', 'synthpop', 'synthrock',\n",
              "       'sängerportrait', 'tango', 'tanzorchester', 'taraftar', 'tatar',\n",
              "       'tech', 'techno', 'teen', 'thrash', 'top', 'traditional',\n",
              "       'tradjazz', 'trance', 'tribal', 'trip', 'triphop', 'tropical',\n",
              "       'türk', 'türkçe', 'ukrrock', 'unknown', 'urban', 'uzbek',\n",
              "       'variété', 'vi', 'videogame', 'vocal', 'western', 'world',\n",
              "       'worldbeat', 'ïîï', 'электроника'], dtype=object)"
            ]
          },
          "execution_count": 17,
          "metadata": {},
          "output_type": "execute_result"
        }
      ],
      "source": [
        "df.sort_values(by='genre',ascending=True)['genre'].unique()# Проверка на неявные дубликаты"
      ]
    },
    {
      "cell_type": "markdown",
      "metadata": {
        "deletable": false,
        "editable": false,
        "id": "jz6a9-7HQUDd"
      },
      "source": [
        "**Выводы**\n",
        "\n",
        "Предобработка обнаружила три проблемы в данных:\n",
        "\n",
        "- нарушения в стиле заголовков,\n",
        "- пропущенные значения,\n",
        "- дубликаты — явные и неявные.\n",
        "\n",
        "Вы исправили заголовки, чтобы упростить работу с таблицей. Без дубликатов исследование станет более точным.\n",
        "\n",
        "Пропущенные значения вы заменили на `'unknown'`. Ещё предстоит увидеть, не повредят ли исследованию пропуски в колонке `genre`.\n",
        "\n",
        "Теперь можно перейти к проверке гипотез."
      ]
    },
    {
      "cell_type": "markdown",
      "metadata": {
        "deletable": false,
        "editable": false,
        "id": "WttZHXH0SqKk"
      },
      "source": [
        "## Проверка гипотез"
      ]
    },
    {
      "cell_type": "markdown",
      "metadata": {
        "deletable": false,
        "editable": false,
        "id": "Im936VVi_Zcu"
      },
      "source": [
        "### Сравнение поведения пользователей двух столиц"
      ]
    },
    {
      "cell_type": "markdown",
      "metadata": {
        "deletable": false,
        "editable": false,
        "id": "nwt_MuaL_Zcu"
      },
      "source": [
        "Первая гипотеза утверждает, что пользователи по-разному слушают музыку в Москве и Санкт-Петербурге. Проверьте это предположение по данным о трёх днях недели — понедельнике, среде и пятнице. Для этого:\n",
        "\n",
        "* Разделите пользователей Москвы и Санкт-Петербурга.\n",
        "* Сравните, сколько треков послушала каждая группа пользователей в понедельник, среду и пятницу.\n"
      ]
    },
    {
      "cell_type": "markdown",
      "metadata": {
        "deletable": false,
        "editable": false,
        "id": "8Dw_YMmT_Zcu",
        "tags": [
          "start_task"
        ]
      },
      "source": [
        "**Задание 18**\n",
        "\n",
        "Для тренировки сначала выполните каждый из расчётов по отдельности.\n",
        "\n",
        "Оцените активность пользователей в каждом городе. Сгруппируйте данные по городу и посчитайте прослушивания в каждой группе.\n",
        "\n"
      ]
    },
    {
      "cell_type": "code",
      "execution_count": null,
      "metadata": {
        "deletable": false,
        "id": "0_Qs96oh_Zcu",
        "outputId": "84c68046-ea94-4662-efbf-96c79bad40a6"
      },
      "outputs": [
        {
          "data": {
            "text/plain": [
              "city\n",
              "Moscow              42741\n",
              "Saint-Petersburg    18512\n",
              "Name: day, dtype: int64"
            ]
          },
          "execution_count": 18,
          "metadata": {},
          "output_type": "execute_result"
        }
      ],
      "source": [
        "df.groupby('city')['day'].count()\n",
        "\n",
        "\n",
        "#Подсчёт прослушиваний в каждом городе"
      ]
    },
    {
      "cell_type": "markdown",
      "metadata": {
        "deletable": false,
        "editable": false,
        "id": "dzli3w8o_Zcu",
        "tags": [
          "start_task"
        ]
      },
      "source": [
        "В Москве прослушиваний больше, чем в Петербурге. Из этого не следует, что московские пользователи чаще слушают музыку. Просто самих пользователей в Москве больше.\n",
        "\n",
        "**Задание 19**\n",
        "\n",
        "Теперь сгруппируйте данные по дню недели и посчитайте прослушивания в понедельник, среду и пятницу. Учтите, что в данных есть информация о прослушиваниях только за эти дни.\n"
      ]
    },
    {
      "cell_type": "code",
      "execution_count": null,
      "metadata": {
        "deletable": false,
        "id": "uZMKjiJz_Zcu",
        "outputId": "2c4d55a8-3335-4301-a0bc-46c35a9179e7"
      },
      "outputs": [
        {
          "data": {
            "text/plain": [
              "day\n",
              "Friday       21840\n",
              "Monday       21354\n",
              "Wednesday    18059\n",
              "Name: city, dtype: int64"
            ]
          },
          "execution_count": 19,
          "metadata": {},
          "output_type": "execute_result"
        }
      ],
      "source": [
        "df.groupby('day')['city'].count()\n",
        "\n",
        "# Подсчёт прослушиваний в каждый из трёх дней"
      ]
    },
    {
      "cell_type": "markdown",
      "metadata": {
        "deletable": false,
        "editable": false,
        "id": "cC2tNrlL_Zcu"
      },
      "source": [
        "В среднем пользователи из двух городов менее активны по средам. Но картина может измениться, если рассмотреть каждый город в отдельности."
      ]
    },
    {
      "cell_type": "markdown",
      "metadata": {
        "deletable": false,
        "editable": false,
        "id": "POzs8bGa_Zcu",
        "tags": [
          "start_task"
        ]
      },
      "source": [
        "**Задание 20**\n",
        "\n",
        "\n",
        "Вы видели, как работает группировка по городу и по дням недели. Теперь напишите функцию, которая объединит два эти расчёта.\n",
        "\n",
        "Создайте функцию `number_tracks()`, которая посчитает прослушивания для заданного дня и города. Ей понадобятся два параметра:\n",
        "* день недели,\n",
        "* название города.\n",
        "\n",
        "В функции сохраните в переменную строки исходной таблицы, у которых значение:\n",
        "  * в колонке `day` равно параметру `day`,\n",
        "  * в колонке `city` равно параметру `city`.\n",
        "\n",
        "Для этого примените последовательную фильтрацию с логической индексацией (или сложные логические выражения в одну строку, если вы уже знакомы с ними).\n",
        "\n",
        "Затем посчитайте значения в столбце `user_id` получившейся таблицы. Результат сохраните в новую переменную. Верните эту переменную из функции."
      ]
    },
    {
      "cell_type": "code",
      "execution_count": null,
      "metadata": {
        "deletable": false,
        "id": "Nz3GdQB1_Zcu"
      },
      "outputs": [],
      "source": [
        "\n",
        "# <создание функции number_tracks()>\n",
        "# Объявляется функция с двумя параметрами: day, city.\n",
        "def number_tracks(day, city):\n",
        "# В переменной track_list сохраняются те строки таблицы df, для которых\n",
        "# значение в столбце 'day' равно параметру day и одновременно значение\n",
        "# в столбце 'city' равно параметру city (используйте последовательную фильтрацию\n",
        "# с помощью логической индексации или сложные логические выражения в одну строку, если вы уже знакомы с ними).\n",
        "    track_list=df[(df['day']==day) & (df['city']==city)]\n",
        "# В переменной track_list_count сохраняется число значений столбца 'user_id',\n",
        "# рассчитанное методом count() для таблицы track_list.\n",
        "    track_list_count = track_list['user_id'].count()\n",
        "# Функция возвращает число - значение track_list_count.\n",
        "    return track_list_count\n",
        "\n",
        "# Функция для подсчёта прослушиваний для конкретного города и дня.\n",
        "# С помощью последовательной фильтрации с логической индексацией она\n",
        "# сначала получит из исходной таблицы строки с нужным днём,\n",
        "# затем из результата отфильтрует строки с нужным городом,\n",
        "# методом count() посчитает количество значений в колонке user_id.\n",
        "# Это количество функция вернёт в качестве результата"
      ]
    },
    {
      "cell_type": "markdown",
      "metadata": {
        "deletable": false,
        "editable": false,
        "id": "ytf7xFrFJQ2r",
        "tags": [
          "start_task"
        ]
      },
      "source": [
        "**Задание 21**\n",
        "\n",
        "Вызовите `number_tracks()` шесть раз, меняя значение параметров — так, чтобы получить данные для каждого города в каждый из трёх дней."
      ]
    },
    {
      "cell_type": "code",
      "execution_count": null,
      "metadata": {
        "deletable": false,
        "id": "rJcRATNQ_Zcu",
        "outputId": "eed4f452-443b-4c47-a050-d82ba270a182"
      },
      "outputs": [
        {
          "data": {
            "text/plain": [
              "15740"
            ]
          },
          "execution_count": 21,
          "metadata": {},
          "output_type": "execute_result"
        }
      ],
      "source": [
        "number_tracks('Monday', 'Moscow')# количество прослушиваний в Москве по понедельникам"
      ]
    },
    {
      "cell_type": "code",
      "execution_count": null,
      "metadata": {
        "deletable": false,
        "id": "hq_ncZ5T_Zcu",
        "outputId": "93aede2f-33e2-4ed1-b20d-f2ef773a9682"
      },
      "outputs": [
        {
          "data": {
            "text/plain": [
              "5614"
            ]
          },
          "execution_count": 22,
          "metadata": {},
          "output_type": "execute_result"
        }
      ],
      "source": [
        "number_tracks('Monday', 'Saint-Petersburg')# количество прослушиваний в Санкт-Петербурге по понедельникам"
      ]
    },
    {
      "cell_type": "code",
      "execution_count": null,
      "metadata": {
        "deletable": false,
        "id": "_NTy2VPU_Zcu",
        "outputId": "cce277ec-a8c3-40fa-a586-d0e95fc973fc"
      },
      "outputs": [
        {
          "data": {
            "text/plain": [
              "11056"
            ]
          },
          "execution_count": 23,
          "metadata": {},
          "output_type": "execute_result"
        }
      ],
      "source": [
        "number_tracks('Wednesday', 'Moscow')# количество прослушиваний в Москве по средам"
      ]
    },
    {
      "cell_type": "code",
      "execution_count": null,
      "metadata": {
        "deletable": false,
        "id": "j2y3TAwo_Zcu",
        "outputId": "6d156528-c093-460c-9b3e-ba7013697244"
      },
      "outputs": [
        {
          "data": {
            "text/plain": [
              "7003"
            ]
          },
          "execution_count": 24,
          "metadata": {},
          "output_type": "execute_result"
        }
      ],
      "source": [
        "number_tracks('Wednesday', 'Saint-Petersburg')# количество прослушиваний в Санкт-Петербурге по средам"
      ]
    },
    {
      "cell_type": "code",
      "execution_count": null,
      "metadata": {
        "deletable": false,
        "id": "vYDw5u_K_Zcu",
        "outputId": "5be72e94-f3dc-4a72-c1b7-3da7eb4469ea"
      },
      "outputs": [
        {
          "data": {
            "text/plain": [
              "15945"
            ]
          },
          "execution_count": 25,
          "metadata": {},
          "output_type": "execute_result"
        }
      ],
      "source": [
        "number_tracks('Friday', 'Moscow')# количество прослушиваний в Москве по пятницам"
      ]
    },
    {
      "cell_type": "code",
      "execution_count": null,
      "metadata": {
        "deletable": false,
        "id": "8_yzFtW3_Zcu",
        "outputId": "957e0e39-d6f3-42cd-a0e2-da8c50a9419e"
      },
      "outputs": [
        {
          "data": {
            "text/plain": [
              "5895"
            ]
          },
          "execution_count": 26,
          "metadata": {},
          "output_type": "execute_result"
        }
      ],
      "source": [
        "number_tracks('Friday', 'Saint-Petersburg')# количество прослушиваний в Санкт-Петербурге по пятницам"
      ]
    },
    {
      "cell_type": "markdown",
      "metadata": {
        "deletable": false,
        "editable": false,
        "id": "7QXffbO-_Zcu",
        "tags": [
          "start_task"
        ]
      },
      "source": [
        "**Задание 22**\n",
        "\n",
        "Создайте c помощью конструктора `pd.DataFrame` таблицу, где\n",
        "* названия колонок — `['city', 'monday', 'wednesday', 'friday']`;\n",
        "* данные — результаты, которые вы получили с помощью `number_tracks`."
      ]
    },
    {
      "cell_type": "code",
      "execution_count": null,
      "metadata": {
        "deletable": false,
        "id": "APAcLpOr_Zcu",
        "outputId": "02604329-4d1f-4240-98d6-83c73b46a0a4"
      },
      "outputs": [
        {
          "data": {
            "text/html": [
              "<div>\n",
              "<style scoped>\n",
              "    .dataframe tbody tr th:only-of-type {\n",
              "        vertical-align: middle;\n",
              "    }\n",
              "\n",
              "    .dataframe tbody tr th {\n",
              "        vertical-align: top;\n",
              "    }\n",
              "\n",
              "    .dataframe thead th {\n",
              "        text-align: right;\n",
              "    }\n",
              "</style>\n",
              "<table border=\"1\" class=\"dataframe\">\n",
              "  <thead>\n",
              "    <tr style=\"text-align: right;\">\n",
              "      <th></th>\n",
              "      <th>city</th>\n",
              "      <th>monday</th>\n",
              "      <th>wednesday</th>\n",
              "      <th>friday</th>\n",
              "    </tr>\n",
              "  </thead>\n",
              "  <tbody>\n",
              "    <tr>\n",
              "      <th>0</th>\n",
              "      <td>Москва</td>\n",
              "      <td>15740</td>\n",
              "      <td>11056</td>\n",
              "      <td>15945</td>\n",
              "    </tr>\n",
              "    <tr>\n",
              "      <th>1</th>\n",
              "      <td>Санкт-Петербург</td>\n",
              "      <td>5614</td>\n",
              "      <td>7003</td>\n",
              "      <td>5895</td>\n",
              "    </tr>\n",
              "  </tbody>\n",
              "</table>\n",
              "</div>"
            ],
            "text/plain": [
              "              city  monday  wednesday  friday\n",
              "0           Москва   15740      11056   15945\n",
              "1  Санкт-Петербург    5614       7003    5895"
            ]
          },
          "execution_count": 27,
          "metadata": {},
          "output_type": "execute_result"
        }
      ],
      "source": [
        "\n",
        "info = pd.DataFrame(data=[['Москва', 15740, 11056, 15945], ['Санкт-Петербург', 5614,7003,5895]], columns=['city', 'monday','wednesday','friday'])\n",
        "info\n",
        "\n",
        "\n",
        "#Таблица с результатами"
      ]
    },
    {
      "cell_type": "markdown",
      "metadata": {
        "deletable": false,
        "editable": false,
        "id": "-EgPIHYu_Zcu"
      },
      "source": [
        "**Выводы**\n",
        "\n",
        "Данные показывают разницу поведения пользователей:\n",
        "\n",
        "- В Москве пик прослушиваний приходится на понедельник и пятницу, а в среду заметен спад.\n",
        "- В Петербурге, наоборот, больше слушают музыку по средам. Активность в понедельник и пятницу здесь почти в равной мере уступает среде.\n",
        "\n",
        "Значит, данные говорят в пользу первой гипотезы."
      ]
    },
    {
      "cell_type": "markdown",
      "metadata": {
        "deletable": false,
        "editable": false,
        "id": "atZAxtq4_Zcu"
      },
      "source": [
        "### Музыка в начале и в конце недели"
      ]
    },
    {
      "cell_type": "markdown",
      "metadata": {
        "deletable": false,
        "editable": false,
        "id": "eXrQqXFH_Zcu"
      },
      "source": [
        "Согласно второй гипотезе, утром в понедельник в Москве преобладают одни жанры, а в Петербурге — другие. Так же и вечером пятницы преобладают разные жанры — в зависимости от города."
      ]
    },
    {
      "cell_type": "markdown",
      "metadata": {
        "deletable": false,
        "editable": false,
        "id": "S8UcW6Hw_Zcu",
        "tags": [
          "start_task"
        ]
      },
      "source": [
        "**Задание 23**\n",
        "\n",
        "Сохраните таблицы с данными в две переменные:\n",
        "* по Москве — в `moscow_general`;\n",
        "* по Санкт-Петербургу — в `spb_general`."
      ]
    },
    {
      "cell_type": "code",
      "execution_count": null,
      "metadata": {
        "deletable": false,
        "id": "qeaFfM_P_Zcu"
      },
      "outputs": [],
      "source": [
        "moscow_general = df[df['city']=='Moscow']\n",
        "\n",
        "# получение таблицы moscow_general из тех строк таблицы df,\n",
        "\n",
        "# для которых значение в столбце 'city' равно 'Moscow'\n"
      ]
    },
    {
      "cell_type": "code",
      "execution_count": null,
      "metadata": {
        "deletable": false,
        "id": "ORaVRKto_Zcu"
      },
      "outputs": [],
      "source": [
        "spb_general = df[df['city']=='Saint-Petersburg']\n",
        "\n",
        "# получение таблицы spb_general из тех строк таблицы df,\n",
        "# для которых значение в столбце 'city' равно 'Saint-Petersburg'\n"
      ]
    },
    {
      "cell_type": "markdown",
      "metadata": {
        "deletable": false,
        "editable": false,
        "id": "MEJV-CX2_Zcu",
        "tags": [
          "start_task"
        ]
      },
      "source": [
        "**Задание 24**\n",
        "\n",
        "Создайте функцию `genre_weekday()` с четырьмя параметрами:\n",
        "* таблица (датафрейм) с данными,\n",
        "* день недели,\n",
        "* начальная временная метка в формате 'hh:mm',\n",
        "* последняя временная метка в формате 'hh:mm'.\n",
        "\n",
        "Функция должна вернуть информацию о топ-10 жанров тех треков, которые прослушивали в указанный день, в промежутке между двумя отметками времени."
      ]
    },
    {
      "cell_type": "code",
      "execution_count": null,
      "metadata": {
        "deletable": false,
        "id": "laJT9BYl_Zcu"
      },
      "outputs": [],
      "source": [
        "# Объявление функции genre_weekday() с параметрами table, day, time1, time2,\n",
        "# которая возвращает информацию о самых популярных жанрах в указанный день в\n",
        "# заданное время:\n",
        "# 1) в переменную genre_df сохраняются те строки переданного датафрейма table, для\n",
        "#    которых одновременно:\n",
        "#    - значение в столбце day равно значению аргумента day\n",
        "#    - значение в столбце time больше значения аргумента time1\n",
        "#    - значение в столбце time меньше значения аргумента time2\n",
        "#    Используйте последовательную фильтрацию с помощью логической индексации.\n",
        "# 2) сгруппировать датафрейм genre_df по столбцу genre, взять один из его\n",
        "#    столбцов и посчитать методом count() количество записей для каждого из\n",
        "#    присутствующих жанров, получившийся Series записать в переменную\n",
        "#    genre_df_count\n",
        "# 3) отсортировать genre_df_count по убыванию встречаемости и сохранить\n",
        "#    в переменную genre_df_sorted\n",
        "# 4) вернуть Series из 10 первых значений genre_df_sorted, это будут топ-10\n",
        "#    популярных жанров (в указанный день, в заданное время)\n",
        "\n",
        "def genre_weekday(df, day, time1, time2):\n",
        "    # последовательная фильтрация\n",
        "    # оставляем в genre_df только те строки df, у которых день равен day\n",
        "    genre_df = df[df['day']==day] # ваш код здесь\n",
        "    # оставляем в genre_df только те строки genre_df, у которых время меньше time2\n",
        "    genre_df = genre_df[df['time']<time2]# ваш код здесь\n",
        "    # оставляем в genre_df только те строки genre_df, у которых время больше time1\n",
        "    genre_df = genre_df[df['time']>time1] # ваш код здесь\n",
        "    # сгруппируем отфильтрованный датафрейм по столбцу с названиями жанров, возьмём столбец genre и посчитаем кол-во строк для каждого жанра методом count()\n",
        "    genre_df_grouped = genre_df.groupby('genre')['genre'].count() # ваш код здесь\n",
        "    # отсортируем результат по убыванию (чтобы в начале Series оказались самые популярные жанры)\n",
        "    genre_df_sorted =  genre_df_grouped.sort_values(ascending = False)# ваш код здесь\n",
        "    # вернём Series с 10 самыми популярными жанрами в указанный отрезок времени заданного дня\n",
        "    return genre_df_sorted[:10]\n"
      ]
    },
    {
      "cell_type": "markdown",
      "metadata": {
        "deletable": false,
        "editable": false,
        "id": "la2s2_PF_Zcu",
        "tags": [
          "start_task"
        ]
      },
      "source": [
        "**Задание 25**\n",
        "\n",
        "\n",
        "Cравните результаты функции `genre_weekday()` для Москвы и Санкт-Петербурга в понедельник утром (с 7:00 до 11:00) и в пятницу вечером (с 17:00 до 23:00):"
      ]
    },
    {
      "cell_type": "code",
      "execution_count": null,
      "metadata": {
        "deletable": false,
        "id": "yz7itPUQ_Zcu",
        "outputId": "44c639b0-832f-4751-99bd-dc8d130e82f9"
      },
      "outputs": [
        {
          "name": "stderr",
          "output_type": "stream",
          "text": [
            "/tmp/ipykernel_70/1410551700.py:24: UserWarning: Boolean Series key will be reindexed to match DataFrame index.\n",
            "  genre_df = genre_df[df['time']<time2]# ваш код здесь\n",
            "/tmp/ipykernel_70/1410551700.py:26: UserWarning: Boolean Series key will be reindexed to match DataFrame index.\n",
            "  genre_df = genre_df[df['time']>time1] # ваш код здесь\n"
          ]
        },
        {
          "data": {
            "text/plain": [
              "genre\n",
              "pop            781\n",
              "dance          549\n",
              "electronic     480\n",
              "rock           474\n",
              "hiphop         286\n",
              "ruspop         186\n",
              "world          181\n",
              "rusrap         175\n",
              "alternative    164\n",
              "unknown        161\n",
              "Name: genre, dtype: int64"
            ]
          },
          "execution_count": 31,
          "metadata": {},
          "output_type": "execute_result"
        }
      ],
      "source": [
        "genre_weekday(moscow_general, 'Monday', '07:00', '11:00')\n",
        "# вызов функции для утра понедельника в Москве (вместо df — таблица moscow_general)\n",
        "# объекты, хранящие время, являются строками и сравниваются как строки\n",
        "# пример вызова: genre_weekday(moscow_general, 'Monday', '07:00', '11:00')"
      ]
    },
    {
      "cell_type": "code",
      "execution_count": null,
      "metadata": {
        "deletable": false,
        "id": "kwUcHPdy_Zcu",
        "outputId": "8302de2d-b3d6-4e1a-bcd7-d27e78c82d86"
      },
      "outputs": [
        {
          "name": "stderr",
          "output_type": "stream",
          "text": [
            "/tmp/ipykernel_70/1410551700.py:24: UserWarning: Boolean Series key will be reindexed to match DataFrame index.\n",
            "  genre_df = genre_df[df['time']<time2]# ваш код здесь\n",
            "/tmp/ipykernel_70/1410551700.py:26: UserWarning: Boolean Series key will be reindexed to match DataFrame index.\n",
            "  genre_df = genre_df[df['time']>time1] # ваш код здесь\n"
          ]
        },
        {
          "data": {
            "text/plain": [
              "genre\n",
              "pop            218\n",
              "dance          182\n",
              "rock           162\n",
              "electronic     147\n",
              "hiphop          80\n",
              "ruspop          64\n",
              "alternative     58\n",
              "rusrap          55\n",
              "jazz            44\n",
              "classical       40\n",
              "Name: genre, dtype: int64"
            ]
          },
          "execution_count": 32,
          "metadata": {},
          "output_type": "execute_result"
        }
      ],
      "source": [
        "genre_weekday(spb_general, 'Monday', '07:00', '11:00')\n",
        "# вызов функции для утра понедельника в Петербурге (вместо df — таблица spb_general"
      ]
    },
    {
      "cell_type": "code",
      "execution_count": null,
      "metadata": {
        "deletable": false,
        "id": "EzXVRE1o_Zcu",
        "outputId": "b88a49be-59b8-41e6-e6ba-8c5f532ec349"
      },
      "outputs": [
        {
          "name": "stderr",
          "output_type": "stream",
          "text": [
            "/tmp/ipykernel_70/1410551700.py:24: UserWarning: Boolean Series key will be reindexed to match DataFrame index.\n",
            "  genre_df = genre_df[df['time']<time2]# ваш код здесь\n",
            "/tmp/ipykernel_70/1410551700.py:26: UserWarning: Boolean Series key will be reindexed to match DataFrame index.\n",
            "  genre_df = genre_df[df['time']>time1] # ваш код здесь\n"
          ]
        },
        {
          "data": {
            "text/plain": [
              "genre\n",
              "pop            713\n",
              "rock           517\n",
              "dance          495\n",
              "electronic     482\n",
              "hiphop         273\n",
              "world          208\n",
              "ruspop         170\n",
              "alternative    163\n",
              "classical      163\n",
              "rusrap         142\n",
              "Name: genre, dtype: int64"
            ]
          },
          "execution_count": 33,
          "metadata": {},
          "output_type": "execute_result"
        }
      ],
      "source": [
        "genre_weekday(moscow_general, 'Friday', '17:00', '23:00')\n",
        "# вызов функции для вечера пятницы в Москве"
      ]
    },
    {
      "cell_type": "code",
      "execution_count": null,
      "metadata": {
        "deletable": false,
        "id": "JZaEKu5v_Zcu",
        "outputId": "9e9599cf-2798-402c-aad1-b7bab7240d22"
      },
      "outputs": [
        {
          "name": "stderr",
          "output_type": "stream",
          "text": [
            "/tmp/ipykernel_70/1410551700.py:24: UserWarning: Boolean Series key will be reindexed to match DataFrame index.\n",
            "  genre_df = genre_df[df['time']<time2]# ваш код здесь\n",
            "/tmp/ipykernel_70/1410551700.py:26: UserWarning: Boolean Series key will be reindexed to match DataFrame index.\n",
            "  genre_df = genre_df[df['time']>time1] # ваш код здесь\n"
          ]
        },
        {
          "data": {
            "text/plain": [
              "genre\n",
              "pop            256\n",
              "electronic     216\n",
              "rock           216\n",
              "dance          210\n",
              "hiphop          97\n",
              "alternative     63\n",
              "jazz            61\n",
              "classical       60\n",
              "rusrap          59\n",
              "world           54\n",
              "Name: genre, dtype: int64"
            ]
          },
          "execution_count": 34,
          "metadata": {},
          "output_type": "execute_result"
        }
      ],
      "source": [
        "genre_weekday(spb_general, 'Friday', '17:00', '23:00')\n",
        "# вызов функции для вечера пятницы в Петербурге"
      ]
    },
    {
      "cell_type": "markdown",
      "metadata": {
        "deletable": false,
        "editable": false,
        "id": "wrCe4MNX_Zcu"
      },
      "source": [
        "**Выводы**\n",
        "\n",
        "Если сравнить топ-10 жанров в понедельник утром, можно сделать такие выводы:\n",
        "\n",
        "1. В Москве и Петербурге слушают похожую музыку. Единственное отличие — в московский рейтинг вошёл жанр “world”, а в петербургский — джаз и классика.\n",
        "\n",
        "2. В Москве пропущенных значений оказалось так много, что значение `'unknown'` заняло десятое место среди самых популярных жанров. Значит, пропущенные значения занимают существенную долю в данных и угрожают достоверности исследования.\n",
        "\n",
        "Вечер пятницы не меняет эту картину. Некоторые жанры поднимаются немного выше, другие спускаются, но в целом топ-10 остаётся тем же самым.\n",
        "\n",
        "Таким образом, вторая гипотеза подтвердилась лишь частично:\n",
        "* Пользователи слушают похожую музыку в начале недели и в конце.\n",
        "* Разница между Москвой и Петербургом не слишком выражена. В Москве чаще слушают русскую популярную музыку, в Петербурге — джаз.\n",
        "\n",
        "Однако пропуски в данных ставят под сомнение этот результат. В Москве их так много, что рейтинг топ-10 мог бы выглядеть иначе, если бы не утерянные  данные о жанрах."
      ]
    },
    {
      "cell_type": "markdown",
      "metadata": {
        "deletable": false,
        "editable": false,
        "id": "JolODAqr_Zcu"
      },
      "source": [
        "### Жанровые предпочтения в Москве и Петербурге\n",
        "\n",
        "Гипотеза: Петербург — столица рэпа, музыку этого жанра там слушают чаще, чем в Москве.  А Москва — город контрастов, в котором, тем не менее, преобладает поп-музыка."
      ]
    },
    {
      "cell_type": "markdown",
      "metadata": {
        "deletable": false,
        "editable": false,
        "id": "DlegSvaT_Zcu",
        "tags": [
          "start_task"
        ]
      },
      "source": [
        "**Задание 26**\n",
        "\n",
        "Сгруппируйте таблицу `moscow_general` по жанру и посчитайте прослушивания треков каждого жанра методом `count()`. Затем отсортируйте результат в порядке убывания и сохраните его в таблице `moscow_genres`."
      ]
    },
    {
      "cell_type": "code",
      "execution_count": null,
      "metadata": {
        "deletable": false,
        "id": "r19lIPke_Zcu"
      },
      "outputs": [],
      "source": [
        "moscow_genres = moscow_general.groupby('genre')['genre'].count().sort_values(ascending = False)\n",
        "# одной строкой: группировка таблицы moscow_general по столбцу 'genre',\n",
        "# подсчёт числа значений 'genre' в этой группировке методом count(),\n",
        "# сортировка получившегося Series в порядке убывания и сохранение в moscow_genres"
      ]
    },
    {
      "cell_type": "markdown",
      "metadata": {
        "deletable": false,
        "editable": false,
        "id": "6kMuomxTiIr8",
        "tags": [
          "start_task"
        ]
      },
      "source": [
        "**Задание 27**\n",
        "\n",
        "Выведите на экран первые десять строк `moscow_genres`:"
      ]
    },
    {
      "cell_type": "code",
      "execution_count": null,
      "metadata": {
        "deletable": false,
        "id": "WhCSooF8_Zcv",
        "outputId": "758e2e38-8df6-4c1a-b9de-93888481392f"
      },
      "outputs": [
        {
          "data": {
            "text/plain": [
              "genre\n",
              "pop            5892\n",
              "dance          4435\n",
              "rock           3965\n",
              "electronic     3786\n",
              "hiphop         2096\n",
              "classical      1616\n",
              "world          1432\n",
              "alternative    1379\n",
              "ruspop         1372\n",
              "rusrap         1161\n",
              "Name: genre, dtype: int64"
            ]
          },
          "execution_count": 36,
          "metadata": {},
          "output_type": "execute_result"
        }
      ],
      "source": [
        "moscow_genres.head(10)# просмотр первых 10 строк moscow_genres"
      ]
    },
    {
      "cell_type": "markdown",
      "metadata": {
        "deletable": false,
        "editable": false,
        "id": "cnPG2vnN_Zcv",
        "tags": [
          "start_task"
        ]
      },
      "source": [
        "**Задание 28**\n",
        "\n",
        "\n",
        "Теперь повторите то же и для Петербурга.\n",
        "\n",
        "Сгруппируйте таблицу `spb_general` по жанру. Посчитайте прослушивания треков каждого жанра. Результат отсортируйте в порядке убывания и сохраните в таблице `spb_genres`:\n"
      ]
    },
    {
      "cell_type": "code",
      "execution_count": null,
      "metadata": {
        "deletable": false,
        "id": "gluLIpE7_Zcv"
      },
      "outputs": [],
      "source": [
        "spb_genres = spb_general.groupby('genre')['genre'].count().sort_values(ascending = False)\n",
        "# одной строкой: группировка таблицы spb_general по столбцу 'genre',\n",
        "# подсчёт числа значений 'genre' в этой группировке методом count(),\n",
        "# сортировка получившегося Series в порядке убывания и сохранение в spb_genres"
      ]
    },
    {
      "cell_type": "markdown",
      "metadata": {
        "deletable": false,
        "editable": false,
        "id": "5Doha_ODgyQ8",
        "tags": [
          "start_task"
        ]
      },
      "source": [
        "**Задание 29**\n",
        "\n",
        "Выведите на экран первые десять строк `spb_genres`:"
      ]
    },
    {
      "cell_type": "code",
      "execution_count": null,
      "metadata": {
        "deletable": false,
        "id": "uaGJHjVU_Zcv"
      },
      "outputs": [],
      "source": [
        "spb_genres.head(10)# просмотр первых 10 строк spb_genres"
      ]
    },
    {
      "cell_type": "markdown",
      "metadata": {
        "deletable": false,
        "editable": false,
        "id": "RY51YJYu_Zcv"
      },
      "source": [
        "**Выводы**"
      ]
    },
    {
      "cell_type": "markdown",
      "metadata": {
        "deletable": false,
        "editable": false,
        "id": "nVhnJEm__Zcv"
      },
      "source": [
        "Гипотеза частично подтвердилась:\n",
        "* Поп-музыка — самый популярный жанр в Москве, как и предполагала гипотеза. Более того, в топ-10 жанров встречается близкий жанр — русская популярная музыка.\n",
        "* Вопреки ожиданиям, рэп одинаково популярен в Москве и Петербурге.\n"
      ]
    },
    {
      "cell_type": "markdown",
      "metadata": {
        "deletable": false,
        "editable": false,
        "id": "ykKQ0N65_Zcv"
      },
      "source": [
        "## Итоги исследования"
      ]
    },
    {
      "cell_type": "markdown",
      "metadata": {
        "deletable": false,
        "editable": false,
        "id": "tjUwbHb3_Zcv"
      },
      "source": [
        "Вы проверили три гипотезы и установили:\n",
        "\n",
        "1. День недели по-разному влияет на активность пользователей в Москве и Петербурге.\n",
        "\n",
        "Первая гипотеза полностью подтвердилась.\n",
        "\n",
        "2. Музыкальные предпочтения не сильно меняются в течение недели — будь то Москва или Петербург. Небольшие различия заметны в начале недели, по понедельникам:\n",
        "* в Москве слушают музыку жанра “world”,\n",
        "* в Петербурге — джаз и классику.\n",
        "\n",
        "Таким образом, вторая гипотеза подтвердилась лишь отчасти. Этот результат мог оказаться иным, если бы не пропуски в данных.\n",
        "\n",
        "3. Во вкусах пользователей Москвы и Петербурга больше общего чем различий. Вопреки ожиданиям, предпочтения жанров в Петербурге напоминают московские.\n",
        "\n",
        "Третья гипотеза не подтвердилась. Если различия в предпочтениях и существуют, на основной массе пользователей они незаметны.\n",
        "\n",
        "**На практике исследования содержат проверки статистических гипотез.**\n",
        "Из данных одного сервиса не всегда можно сделать вывод о всех жителях города.\n",
        "Проверки статистических гипотез покажут, насколько они достоверны, исходя из имеющихся данных.\n",
        "С методами проверок гипотез вы ещё познакомитесь в следующих темах."
      ]
    }
  ],
  "metadata": {
    "ExecuteTimeLog": [
      {
        "duration": 53,
        "start_time": "2022-10-03T15:20:40.140Z"
      },
      {
        "duration": 431,
        "start_time": "2022-10-03T15:20:55.277Z"
      },
      {
        "duration": 141,
        "start_time": "2022-10-03T15:21:09.643Z"
      },
      {
        "duration": 31,
        "start_time": "2022-10-03T15:22:18.324Z"
      },
      {
        "duration": 490,
        "start_time": "2022-10-03T15:22:46.890Z"
      },
      {
        "duration": 18,
        "start_time": "2022-10-03T15:22:56.103Z"
      },
      {
        "duration": 34,
        "start_time": "2022-10-03T15:23:01.318Z"
      },
      {
        "duration": 5,
        "start_time": "2022-10-03T15:32:43.612Z"
      },
      {
        "duration": 97,
        "start_time": "2022-10-03T15:35:59.042Z"
      },
      {
        "duration": 132,
        "start_time": "2022-10-03T15:36:23.315Z"
      },
      {
        "duration": 84,
        "start_time": "2022-10-03T15:39:28.151Z"
      },
      {
        "duration": 98,
        "start_time": "2022-10-03T15:39:35.349Z"
      },
      {
        "duration": 132,
        "start_time": "2022-10-03T15:39:41.280Z"
      },
      {
        "duration": 73,
        "start_time": "2022-10-03T15:39:46.879Z"
      },
      {
        "duration": 108,
        "start_time": "2022-10-03T15:40:38.770Z"
      },
      {
        "duration": 8,
        "start_time": "2022-10-03T15:41:03.459Z"
      },
      {
        "duration": 21,
        "start_time": "2022-10-03T15:41:21.313Z"
      },
      {
        "duration": 5,
        "start_time": "2022-10-03T15:42:02.191Z"
      },
      {
        "duration": 13,
        "start_time": "2022-10-03T15:43:12.188Z"
      },
      {
        "duration": 5,
        "start_time": "2022-10-03T15:43:26.672Z"
      },
      {
        "duration": 12,
        "start_time": "2022-10-03T15:44:00.806Z"
      },
      {
        "duration": 19,
        "start_time": "2022-10-03T15:44:06.345Z"
      },
      {
        "duration": 4,
        "start_time": "2022-10-03T15:44:14.926Z"
      },
      {
        "duration": 32,
        "start_time": "2022-10-03T15:45:52.391Z"
      },
      {
        "duration": 20,
        "start_time": "2022-10-03T15:55:09.600Z"
      },
      {
        "duration": 43,
        "start_time": "2022-10-03T15:55:41.581Z"
      },
      {
        "duration": 115,
        "start_time": "2022-10-03T15:57:06.523Z"
      },
      {
        "duration": 74,
        "start_time": "2022-10-03T15:57:13.100Z"
      },
      {
        "duration": 88,
        "start_time": "2022-10-03T15:58:19.757Z"
      },
      {
        "duration": 74,
        "start_time": "2022-10-03T15:58:49.521Z"
      },
      {
        "duration": 85,
        "start_time": "2022-10-03T15:59:10.125Z"
      },
      {
        "duration": 69,
        "start_time": "2022-10-03T15:59:14.031Z"
      },
      {
        "duration": 9,
        "start_time": "2022-10-03T16:01:22.254Z"
      },
      {
        "duration": 7,
        "start_time": "2022-10-03T16:06:39.442Z"
      },
      {
        "duration": 6,
        "start_time": "2022-10-03T16:06:43.239Z"
      },
      {
        "duration": 89,
        "start_time": "2022-10-03T16:06:57.266Z"
      },
      {
        "duration": 8,
        "start_time": "2022-10-03T16:07:07.066Z"
      },
      {
        "duration": 13,
        "start_time": "2022-10-03T16:08:01.978Z"
      },
      {
        "duration": 6,
        "start_time": "2022-10-03T16:09:00.257Z"
      },
      {
        "duration": 8,
        "start_time": "2022-10-03T16:09:06.072Z"
      },
      {
        "duration": 7,
        "start_time": "2022-10-03T16:10:05.714Z"
      },
      {
        "duration": 7,
        "start_time": "2022-10-03T16:10:14.012Z"
      },
      {
        "duration": 8,
        "start_time": "2022-10-03T16:10:21.844Z"
      },
      {
        "duration": 8,
        "start_time": "2022-10-03T16:10:34.824Z"
      },
      {
        "duration": 71,
        "start_time": "2022-10-03T16:10:51.523Z"
      },
      {
        "duration": 8,
        "start_time": "2022-10-03T16:10:58.923Z"
      },
      {
        "duration": 7,
        "start_time": "2022-10-03T16:11:57.459Z"
      },
      {
        "duration": 8,
        "start_time": "2022-10-03T16:12:40.018Z"
      },
      {
        "duration": 10,
        "start_time": "2022-10-03T16:12:51.597Z"
      },
      {
        "duration": 7,
        "start_time": "2022-10-03T16:14:24.079Z"
      },
      {
        "duration": 5,
        "start_time": "2022-10-03T16:15:44.236Z"
      },
      {
        "duration": 3,
        "start_time": "2022-10-03T16:16:10.205Z"
      },
      {
        "duration": 3,
        "start_time": "2022-10-03T16:16:15.605Z"
      },
      {
        "duration": 7,
        "start_time": "2022-10-03T16:16:26.731Z"
      },
      {
        "duration": 8,
        "start_time": "2022-10-03T16:16:45.549Z"
      },
      {
        "duration": 49,
        "start_time": "2022-10-03T16:17:38.107Z"
      },
      {
        "duration": 414,
        "start_time": "2022-10-03T16:21:46.045Z"
      },
      {
        "duration": 206,
        "start_time": "2022-10-03T16:21:46.461Z"
      },
      {
        "duration": 37,
        "start_time": "2022-10-03T16:21:46.670Z"
      },
      {
        "duration": 37,
        "start_time": "2022-10-03T16:21:46.711Z"
      },
      {
        "duration": 75,
        "start_time": "2022-10-03T16:21:46.750Z"
      },
      {
        "duration": 0,
        "start_time": "2022-10-03T16:21:46.827Z"
      },
      {
        "duration": 0,
        "start_time": "2022-10-03T16:21:46.829Z"
      },
      {
        "duration": 0,
        "start_time": "2022-10-03T16:21:46.831Z"
      },
      {
        "duration": 0,
        "start_time": "2022-10-03T16:21:46.832Z"
      },
      {
        "duration": 0,
        "start_time": "2022-10-03T16:21:46.833Z"
      },
      {
        "duration": 0,
        "start_time": "2022-10-03T16:21:46.834Z"
      },
      {
        "duration": 0,
        "start_time": "2022-10-03T16:21:46.836Z"
      },
      {
        "duration": 0,
        "start_time": "2022-10-03T16:21:46.837Z"
      },
      {
        "duration": 0,
        "start_time": "2022-10-03T16:21:46.839Z"
      },
      {
        "duration": 0,
        "start_time": "2022-10-03T16:21:46.841Z"
      },
      {
        "duration": 0,
        "start_time": "2022-10-03T16:21:46.843Z"
      },
      {
        "duration": 0,
        "start_time": "2022-10-03T16:21:46.844Z"
      },
      {
        "duration": 0,
        "start_time": "2022-10-03T16:21:46.844Z"
      },
      {
        "duration": 0,
        "start_time": "2022-10-03T16:21:46.846Z"
      },
      {
        "duration": 0,
        "start_time": "2022-10-03T16:21:46.847Z"
      },
      {
        "duration": 0,
        "start_time": "2022-10-03T16:21:46.848Z"
      },
      {
        "duration": 0,
        "start_time": "2022-10-03T16:21:46.850Z"
      },
      {
        "duration": 0,
        "start_time": "2022-10-03T16:21:46.851Z"
      },
      {
        "duration": 0,
        "start_time": "2022-10-03T16:21:46.852Z"
      },
      {
        "duration": 0,
        "start_time": "2022-10-03T16:21:46.853Z"
      },
      {
        "duration": 0,
        "start_time": "2022-10-03T16:21:46.854Z"
      },
      {
        "duration": 0,
        "start_time": "2022-10-03T16:21:46.856Z"
      },
      {
        "duration": 0,
        "start_time": "2022-10-03T16:21:46.857Z"
      },
      {
        "duration": 0,
        "start_time": "2022-10-03T16:21:46.859Z"
      },
      {
        "duration": 0,
        "start_time": "2022-10-03T16:21:46.861Z"
      },
      {
        "duration": 0,
        "start_time": "2022-10-03T16:21:46.862Z"
      },
      {
        "duration": 1,
        "start_time": "2022-10-03T16:21:46.863Z"
      },
      {
        "duration": 0,
        "start_time": "2022-10-03T16:21:46.896Z"
      },
      {
        "duration": 0,
        "start_time": "2022-10-03T16:21:46.897Z"
      },
      {
        "duration": 0,
        "start_time": "2022-10-03T16:21:46.898Z"
      },
      {
        "duration": 0,
        "start_time": "2022-10-03T16:21:46.899Z"
      },
      {
        "duration": 0,
        "start_time": "2022-10-03T16:21:46.906Z"
      },
      {
        "duration": 0,
        "start_time": "2022-10-03T16:21:46.907Z"
      },
      {
        "duration": 6,
        "start_time": "2022-10-03T16:22:12.503Z"
      },
      {
        "duration": 17,
        "start_time": "2022-10-03T16:22:20.366Z"
      },
      {
        "duration": 7,
        "start_time": "2022-10-03T16:22:25.199Z"
      },
      {
        "duration": 35,
        "start_time": "2022-10-03T16:22:29.174Z"
      },
      {
        "duration": 23,
        "start_time": "2022-10-03T16:22:35.246Z"
      },
      {
        "duration": 37,
        "start_time": "2022-10-03T16:22:39.178Z"
      },
      {
        "duration": 80,
        "start_time": "2022-10-03T16:22:43.144Z"
      },
      {
        "duration": 89,
        "start_time": "2022-10-03T16:22:47.175Z"
      },
      {
        "duration": 96,
        "start_time": "2022-10-03T16:22:50.836Z"
      },
      {
        "duration": 9,
        "start_time": "2022-10-03T16:22:56.810Z"
      },
      {
        "duration": 8,
        "start_time": "2022-10-03T16:23:34.685Z"
      },
      {
        "duration": 7,
        "start_time": "2022-10-03T16:23:37.799Z"
      },
      {
        "duration": 19,
        "start_time": "2022-10-03T16:23:48.314Z"
      },
      {
        "duration": 18,
        "start_time": "2022-10-03T16:24:01.829Z"
      },
      {
        "duration": 69,
        "start_time": "2022-10-03T16:24:19.815Z"
      },
      {
        "duration": 8,
        "start_time": "2022-10-03T16:24:56.233Z"
      },
      {
        "duration": 83,
        "start_time": "2022-10-03T16:26:26.381Z"
      },
      {
        "duration": 64,
        "start_time": "2022-10-03T16:26:29.598Z"
      },
      {
        "duration": 9,
        "start_time": "2022-10-03T16:26:33.945Z"
      },
      {
        "duration": 11,
        "start_time": "2022-10-03T16:27:10.707Z"
      },
      {
        "duration": 11,
        "start_time": "2022-10-03T16:32:57.933Z"
      },
      {
        "duration": 9,
        "start_time": "2022-10-03T16:33:12.482Z"
      },
      {
        "duration": 6,
        "start_time": "2022-10-03T16:33:26.412Z"
      },
      {
        "duration": 5,
        "start_time": "2022-10-03T16:33:30.514Z"
      },
      {
        "duration": 6,
        "start_time": "2022-10-03T16:33:44.576Z"
      },
      {
        "duration": 7,
        "start_time": "2022-10-03T16:33:55.623Z"
      },
      {
        "duration": 7,
        "start_time": "2022-10-03T16:34:07.336Z"
      },
      {
        "duration": 8,
        "start_time": "2022-10-03T16:41:51.477Z"
      },
      {
        "duration": 11,
        "start_time": "2022-10-03T16:43:00.734Z"
      },
      {
        "duration": 10,
        "start_time": "2022-10-03T16:43:11.159Z"
      },
      {
        "duration": 19,
        "start_time": "2022-10-03T16:43:23.398Z"
      },
      {
        "duration": 8,
        "start_time": "2022-10-03T16:59:44.450Z"
      },
      {
        "duration": 58,
        "start_time": "2022-10-03T17:01:39.602Z"
      },
      {
        "duration": 55,
        "start_time": "2022-10-03T17:02:28.043Z"
      },
      {
        "duration": 12,
        "start_time": "2022-10-03T17:03:03.984Z"
      },
      {
        "duration": 82,
        "start_time": "2022-10-03T17:03:21.531Z"
      },
      {
        "duration": 11,
        "start_time": "2022-10-03T17:03:27.977Z"
      },
      {
        "duration": 13,
        "start_time": "2022-10-03T17:04:37.499Z"
      },
      {
        "duration": 84,
        "start_time": "2022-10-03T17:05:30.488Z"
      },
      {
        "duration": 59,
        "start_time": "2022-10-03T17:06:00.348Z"
      },
      {
        "duration": 13,
        "start_time": "2022-10-03T17:23:22.034Z"
      },
      {
        "duration": 7,
        "start_time": "2022-10-03T17:23:46.046Z"
      },
      {
        "duration": 8,
        "start_time": "2022-10-03T17:24:21.476Z"
      },
      {
        "duration": 11,
        "start_time": "2022-10-03T17:24:32.072Z"
      },
      {
        "duration": 119,
        "start_time": "2022-10-03T17:25:49.795Z"
      },
      {
        "duration": 56,
        "start_time": "2022-10-03T17:26:02.194Z"
      },
      {
        "duration": 13,
        "start_time": "2022-10-03T17:32:57.767Z"
      },
      {
        "duration": 12,
        "start_time": "2022-10-03T17:33:22.115Z"
      },
      {
        "duration": 11,
        "start_time": "2022-10-03T17:34:32.434Z"
      },
      {
        "duration": 12,
        "start_time": "2022-10-03T18:32:09.415Z"
      },
      {
        "duration": 95,
        "start_time": "2022-10-03T18:33:20.371Z"
      },
      {
        "duration": 14,
        "start_time": "2022-10-03T18:33:35.194Z"
      },
      {
        "duration": 12,
        "start_time": "2022-10-03T18:35:32.576Z"
      },
      {
        "duration": 11,
        "start_time": "2022-10-03T18:36:07.715Z"
      },
      {
        "duration": 11,
        "start_time": "2022-10-03T18:39:05.979Z"
      },
      {
        "duration": 35,
        "start_time": "2022-10-03T18:39:32.243Z"
      },
      {
        "duration": 11,
        "start_time": "2022-10-03T18:40:15.699Z"
      },
      {
        "duration": 4,
        "start_time": "2022-10-03T18:42:11.762Z"
      },
      {
        "duration": 8,
        "start_time": "2022-10-03T18:42:19.924Z"
      },
      {
        "duration": 8,
        "start_time": "2022-10-03T18:42:55.433Z"
      },
      {
        "duration": 54,
        "start_time": "2022-10-03T18:43:35.078Z"
      },
      {
        "duration": 475,
        "start_time": "2022-10-03T18:44:30.073Z"
      },
      {
        "duration": 194,
        "start_time": "2022-10-03T18:44:30.550Z"
      },
      {
        "duration": 20,
        "start_time": "2022-10-03T18:44:30.746Z"
      },
      {
        "duration": 56,
        "start_time": "2022-10-03T18:44:30.769Z"
      },
      {
        "duration": 73,
        "start_time": "2022-10-03T18:44:30.827Z"
      },
      {
        "duration": 0,
        "start_time": "2022-10-03T18:44:30.903Z"
      },
      {
        "duration": 0,
        "start_time": "2022-10-03T18:44:30.905Z"
      },
      {
        "duration": 0,
        "start_time": "2022-10-03T18:44:30.907Z"
      },
      {
        "duration": 0,
        "start_time": "2022-10-03T18:44:30.908Z"
      },
      {
        "duration": 0,
        "start_time": "2022-10-03T18:44:30.909Z"
      },
      {
        "duration": 0,
        "start_time": "2022-10-03T18:44:30.910Z"
      },
      {
        "duration": 0,
        "start_time": "2022-10-03T18:44:30.911Z"
      },
      {
        "duration": 0,
        "start_time": "2022-10-03T18:44:30.912Z"
      },
      {
        "duration": 0,
        "start_time": "2022-10-03T18:44:30.914Z"
      },
      {
        "duration": 0,
        "start_time": "2022-10-03T18:44:30.915Z"
      },
      {
        "duration": 0,
        "start_time": "2022-10-03T18:44:30.917Z"
      },
      {
        "duration": 0,
        "start_time": "2022-10-03T18:44:30.918Z"
      },
      {
        "duration": 0,
        "start_time": "2022-10-03T18:44:30.919Z"
      },
      {
        "duration": 0,
        "start_time": "2022-10-03T18:44:30.920Z"
      },
      {
        "duration": 0,
        "start_time": "2022-10-03T18:44:30.921Z"
      },
      {
        "duration": 0,
        "start_time": "2022-10-03T18:44:30.922Z"
      },
      {
        "duration": 0,
        "start_time": "2022-10-03T18:44:30.923Z"
      },
      {
        "duration": 0,
        "start_time": "2022-10-03T18:44:30.924Z"
      },
      {
        "duration": 0,
        "start_time": "2022-10-03T18:44:30.925Z"
      },
      {
        "duration": 0,
        "start_time": "2022-10-03T18:44:30.926Z"
      },
      {
        "duration": 0,
        "start_time": "2022-10-03T18:44:30.927Z"
      },
      {
        "duration": 0,
        "start_time": "2022-10-03T18:44:30.928Z"
      },
      {
        "duration": 0,
        "start_time": "2022-10-03T18:44:30.929Z"
      },
      {
        "duration": 0,
        "start_time": "2022-10-03T18:44:30.930Z"
      },
      {
        "duration": 0,
        "start_time": "2022-10-03T18:44:30.931Z"
      },
      {
        "duration": 0,
        "start_time": "2022-10-03T18:44:30.932Z"
      },
      {
        "duration": 0,
        "start_time": "2022-10-03T18:44:30.933Z"
      },
      {
        "duration": 0,
        "start_time": "2022-10-03T18:44:30.934Z"
      },
      {
        "duration": 0,
        "start_time": "2022-10-03T18:44:30.935Z"
      },
      {
        "duration": 0,
        "start_time": "2022-10-03T18:44:30.936Z"
      },
      {
        "duration": 0,
        "start_time": "2022-10-03T18:44:30.937Z"
      },
      {
        "duration": 0,
        "start_time": "2022-10-03T18:44:30.938Z"
      },
      {
        "duration": 0,
        "start_time": "2022-10-03T18:44:30.994Z"
      },
      {
        "duration": 447,
        "start_time": "2022-10-03T18:45:57.904Z"
      },
      {
        "duration": 200,
        "start_time": "2022-10-03T18:45:58.353Z"
      },
      {
        "duration": 20,
        "start_time": "2022-10-03T18:45:58.554Z"
      },
      {
        "duration": 49,
        "start_time": "2022-10-03T18:45:58.576Z"
      },
      {
        "duration": 20,
        "start_time": "2022-10-03T18:45:58.627Z"
      },
      {
        "duration": 11,
        "start_time": "2022-10-03T18:45:58.649Z"
      },
      {
        "duration": 26,
        "start_time": "2022-10-03T18:45:58.662Z"
      },
      {
        "duration": 14,
        "start_time": "2022-10-03T18:45:58.690Z"
      },
      {
        "duration": 27,
        "start_time": "2022-10-03T18:45:58.706Z"
      },
      {
        "duration": 19,
        "start_time": "2022-10-03T18:45:58.736Z"
      },
      {
        "duration": 45,
        "start_time": "2022-10-03T18:45:58.757Z"
      },
      {
        "duration": 91,
        "start_time": "2022-10-03T18:45:58.805Z"
      },
      {
        "duration": 90,
        "start_time": "2022-10-03T18:45:58.899Z"
      },
      {
        "duration": 74,
        "start_time": "2022-10-03T18:45:58.992Z"
      },
      {
        "duration": 75,
        "start_time": "2022-10-03T18:45:59.068Z"
      },
      {
        "duration": 13,
        "start_time": "2022-10-03T18:45:59.144Z"
      },
      {
        "duration": 85,
        "start_time": "2022-10-03T18:45:59.158Z"
      },
      {
        "duration": 48,
        "start_time": "2022-10-03T18:45:59.245Z"
      },
      {
        "duration": 5,
        "start_time": "2022-10-03T18:45:59.295Z"
      },
      {
        "duration": 9,
        "start_time": "2022-10-03T18:45:59.302Z"
      },
      {
        "duration": 12,
        "start_time": "2022-10-03T18:45:59.313Z"
      },
      {
        "duration": 9,
        "start_time": "2022-10-03T18:45:59.327Z"
      },
      {
        "duration": 4,
        "start_time": "2022-10-03T18:45:59.338Z"
      },
      {
        "duration": 29,
        "start_time": "2022-10-03T18:45:59.344Z"
      },
      {
        "duration": 39,
        "start_time": "2022-10-03T18:45:59.375Z"
      },
      {
        "duration": 27,
        "start_time": "2022-10-03T18:45:59.416Z"
      },
      {
        "duration": 25,
        "start_time": "2022-10-03T18:45:59.445Z"
      },
      {
        "duration": 35,
        "start_time": "2022-10-03T18:45:59.473Z"
      },
      {
        "duration": 12,
        "start_time": "2022-10-03T18:45:59.510Z"
      },
      {
        "duration": 72,
        "start_time": "2022-10-03T18:45:59.524Z"
      },
      {
        "duration": 0,
        "start_time": "2022-10-03T18:45:59.598Z"
      },
      {
        "duration": 0,
        "start_time": "2022-10-03T18:45:59.600Z"
      },
      {
        "duration": 0,
        "start_time": "2022-10-03T18:45:59.602Z"
      },
      {
        "duration": 0,
        "start_time": "2022-10-03T18:45:59.604Z"
      },
      {
        "duration": 0,
        "start_time": "2022-10-03T18:45:59.606Z"
      },
      {
        "duration": 0,
        "start_time": "2022-10-03T18:45:59.608Z"
      },
      {
        "duration": 0,
        "start_time": "2022-10-03T18:45:59.610Z"
      },
      {
        "duration": 0,
        "start_time": "2022-10-03T18:45:59.611Z"
      },
      {
        "duration": 4,
        "start_time": "2022-10-03T19:25:15.165Z"
      },
      {
        "duration": 7,
        "start_time": "2022-10-03T19:25:27.513Z"
      },
      {
        "duration": 4,
        "start_time": "2022-10-03T19:26:06.473Z"
      },
      {
        "duration": 72,
        "start_time": "2022-10-03T19:26:33.382Z"
      },
      {
        "duration": 8,
        "start_time": "2022-10-03T19:26:43.514Z"
      },
      {
        "duration": 8,
        "start_time": "2022-10-03T19:26:53.977Z"
      },
      {
        "duration": 436,
        "start_time": "2022-10-03T19:27:04.407Z"
      },
      {
        "duration": 181,
        "start_time": "2022-10-03T19:27:04.845Z"
      },
      {
        "duration": 18,
        "start_time": "2022-10-03T19:27:05.027Z"
      },
      {
        "duration": 48,
        "start_time": "2022-10-03T19:27:05.047Z"
      },
      {
        "duration": 4,
        "start_time": "2022-10-03T19:27:05.098Z"
      },
      {
        "duration": 32,
        "start_time": "2022-10-03T19:27:05.104Z"
      },
      {
        "duration": 19,
        "start_time": "2022-10-03T19:27:05.137Z"
      },
      {
        "duration": 9,
        "start_time": "2022-10-03T19:27:05.158Z"
      },
      {
        "duration": 42,
        "start_time": "2022-10-03T19:27:05.168Z"
      },
      {
        "duration": 21,
        "start_time": "2022-10-03T19:27:05.212Z"
      },
      {
        "duration": 26,
        "start_time": "2022-10-03T19:27:05.234Z"
      },
      {
        "duration": 96,
        "start_time": "2022-10-03T19:27:05.262Z"
      },
      {
        "duration": 100,
        "start_time": "2022-10-03T19:27:05.360Z"
      },
      {
        "duration": 75,
        "start_time": "2022-10-03T19:27:05.462Z"
      },
      {
        "duration": 64,
        "start_time": "2022-10-03T19:27:05.538Z"
      },
      {
        "duration": 13,
        "start_time": "2022-10-03T19:27:05.603Z"
      },
      {
        "duration": 50,
        "start_time": "2022-10-03T19:27:05.618Z"
      },
      {
        "duration": 65,
        "start_time": "2022-10-03T19:27:05.670Z"
      },
      {
        "duration": 4,
        "start_time": "2022-10-03T19:27:05.737Z"
      },
      {
        "duration": 5,
        "start_time": "2022-10-03T19:27:05.742Z"
      },
      {
        "duration": 9,
        "start_time": "2022-10-03T19:27:05.748Z"
      },
      {
        "duration": 9,
        "start_time": "2022-10-03T19:27:05.758Z"
      },
      {
        "duration": 6,
        "start_time": "2022-10-03T19:27:05.768Z"
      },
      {
        "duration": 11,
        "start_time": "2022-10-03T19:27:05.775Z"
      },
      {
        "duration": 12,
        "start_time": "2022-10-03T19:27:05.791Z"
      },
      {
        "duration": 10,
        "start_time": "2022-10-03T19:27:05.805Z"
      },
      {
        "duration": 7,
        "start_time": "2022-10-03T19:27:05.817Z"
      },
      {
        "duration": 5,
        "start_time": "2022-10-03T19:27:05.827Z"
      },
      {
        "duration": 5,
        "start_time": "2022-10-03T19:27:05.834Z"
      },
      {
        "duration": 75,
        "start_time": "2022-10-03T19:27:05.840Z"
      },
      {
        "duration": 0,
        "start_time": "2022-10-03T19:27:05.917Z"
      },
      {
        "duration": 0,
        "start_time": "2022-10-03T19:27:05.918Z"
      },
      {
        "duration": 0,
        "start_time": "2022-10-03T19:27:05.919Z"
      },
      {
        "duration": 0,
        "start_time": "2022-10-03T19:27:05.921Z"
      },
      {
        "duration": 0,
        "start_time": "2022-10-03T19:27:05.922Z"
      },
      {
        "duration": 0,
        "start_time": "2022-10-03T19:27:05.923Z"
      },
      {
        "duration": 0,
        "start_time": "2022-10-03T19:27:05.924Z"
      },
      {
        "duration": 0,
        "start_time": "2022-10-03T19:27:05.925Z"
      },
      {
        "duration": 71,
        "start_time": "2022-10-03T19:27:31.474Z"
      },
      {
        "duration": 424,
        "start_time": "2022-10-03T19:28:38.914Z"
      },
      {
        "duration": 186,
        "start_time": "2022-10-03T19:28:39.340Z"
      },
      {
        "duration": 20,
        "start_time": "2022-10-03T19:28:39.528Z"
      },
      {
        "duration": 46,
        "start_time": "2022-10-03T19:28:39.551Z"
      },
      {
        "duration": 3,
        "start_time": "2022-10-03T19:28:39.599Z"
      },
      {
        "duration": 10,
        "start_time": "2022-10-03T19:28:39.604Z"
      },
      {
        "duration": 15,
        "start_time": "2022-10-03T19:28:39.616Z"
      },
      {
        "duration": 7,
        "start_time": "2022-10-03T19:28:39.632Z"
      },
      {
        "duration": 27,
        "start_time": "2022-10-03T19:28:39.641Z"
      },
      {
        "duration": 42,
        "start_time": "2022-10-03T19:28:39.671Z"
      },
      {
        "duration": 24,
        "start_time": "2022-10-03T19:28:39.715Z"
      },
      {
        "duration": 83,
        "start_time": "2022-10-03T19:28:39.741Z"
      },
      {
        "duration": 87,
        "start_time": "2022-10-03T19:28:39.826Z"
      },
      {
        "duration": 63,
        "start_time": "2022-10-03T19:28:39.914Z"
      },
      {
        "duration": 59,
        "start_time": "2022-10-03T19:28:39.989Z"
      },
      {
        "duration": 13,
        "start_time": "2022-10-03T19:28:40.049Z"
      },
      {
        "duration": 75,
        "start_time": "2022-10-03T19:28:40.064Z"
      },
      {
        "duration": 2,
        "start_time": "2022-10-03T19:28:40.141Z"
      },
      {
        "duration": 7,
        "start_time": "2022-10-03T19:28:40.144Z"
      },
      {
        "duration": 6,
        "start_time": "2022-10-03T19:28:40.153Z"
      },
      {
        "duration": 7,
        "start_time": "2022-10-03T19:28:40.161Z"
      },
      {
        "duration": 28,
        "start_time": "2022-10-03T19:28:40.170Z"
      },
      {
        "duration": 8,
        "start_time": "2022-10-03T19:28:40.200Z"
      },
      {
        "duration": 7,
        "start_time": "2022-10-03T19:28:40.210Z"
      },
      {
        "duration": 5,
        "start_time": "2022-10-03T19:28:40.219Z"
      },
      {
        "duration": 6,
        "start_time": "2022-10-03T19:28:40.225Z"
      },
      {
        "duration": 6,
        "start_time": "2022-10-03T19:28:40.232Z"
      },
      {
        "duration": 4,
        "start_time": "2022-10-03T19:28:40.241Z"
      },
      {
        "duration": 5,
        "start_time": "2022-10-03T19:28:40.247Z"
      },
      {
        "duration": 78,
        "start_time": "2022-10-03T19:28:40.254Z"
      },
      {
        "duration": 0,
        "start_time": "2022-10-03T19:28:40.333Z"
      },
      {
        "duration": 0,
        "start_time": "2022-10-03T19:28:40.334Z"
      },
      {
        "duration": 0,
        "start_time": "2022-10-03T19:28:40.336Z"
      },
      {
        "duration": 0,
        "start_time": "2022-10-03T19:28:40.336Z"
      },
      {
        "duration": 0,
        "start_time": "2022-10-03T19:28:40.337Z"
      },
      {
        "duration": 0,
        "start_time": "2022-10-03T19:28:40.339Z"
      },
      {
        "duration": 0,
        "start_time": "2022-10-03T19:28:40.340Z"
      },
      {
        "duration": 0,
        "start_time": "2022-10-03T19:28:40.341Z"
      },
      {
        "duration": 4,
        "start_time": "2022-10-03T19:29:11.334Z"
      },
      {
        "duration": 68,
        "start_time": "2022-10-03T19:30:26.402Z"
      },
      {
        "duration": 49,
        "start_time": "2022-10-03T19:30:48.317Z"
      },
      {
        "duration": 477,
        "start_time": "2022-10-03T19:30:57.875Z"
      },
      {
        "duration": 199,
        "start_time": "2022-10-03T19:30:58.354Z"
      },
      {
        "duration": 20,
        "start_time": "2022-10-03T19:30:58.555Z"
      },
      {
        "duration": 52,
        "start_time": "2022-10-03T19:30:58.578Z"
      },
      {
        "duration": 2,
        "start_time": "2022-10-03T19:30:58.632Z"
      },
      {
        "duration": 5,
        "start_time": "2022-10-03T19:30:58.636Z"
      },
      {
        "duration": 12,
        "start_time": "2022-10-03T19:30:58.643Z"
      },
      {
        "duration": 6,
        "start_time": "2022-10-03T19:30:58.657Z"
      },
      {
        "duration": 53,
        "start_time": "2022-10-03T19:30:58.664Z"
      },
      {
        "duration": 25,
        "start_time": "2022-10-03T19:30:58.720Z"
      },
      {
        "duration": 50,
        "start_time": "2022-10-03T19:30:58.748Z"
      },
      {
        "duration": 90,
        "start_time": "2022-10-03T19:30:58.800Z"
      },
      {
        "duration": 102,
        "start_time": "2022-10-03T19:30:58.893Z"
      },
      {
        "duration": 72,
        "start_time": "2022-10-03T19:30:59.007Z"
      },
      {
        "duration": 69,
        "start_time": "2022-10-03T19:30:59.081Z"
      },
      {
        "duration": 16,
        "start_time": "2022-10-03T19:30:59.152Z"
      },
      {
        "duration": 71,
        "start_time": "2022-10-03T19:30:59.170Z"
      },
      {
        "duration": 88,
        "start_time": "2022-10-03T19:30:59.243Z"
      },
      {
        "duration": 0,
        "start_time": "2022-10-03T19:30:59.333Z"
      },
      {
        "duration": 0,
        "start_time": "2022-10-03T19:30:59.335Z"
      },
      {
        "duration": 0,
        "start_time": "2022-10-03T19:30:59.336Z"
      },
      {
        "duration": 0,
        "start_time": "2022-10-03T19:30:59.337Z"
      },
      {
        "duration": 0,
        "start_time": "2022-10-03T19:30:59.338Z"
      },
      {
        "duration": 0,
        "start_time": "2022-10-03T19:30:59.340Z"
      },
      {
        "duration": 0,
        "start_time": "2022-10-03T19:30:59.341Z"
      },
      {
        "duration": 0,
        "start_time": "2022-10-03T19:30:59.342Z"
      },
      {
        "duration": 0,
        "start_time": "2022-10-03T19:30:59.343Z"
      },
      {
        "duration": 0,
        "start_time": "2022-10-03T19:30:59.344Z"
      },
      {
        "duration": 0,
        "start_time": "2022-10-03T19:30:59.345Z"
      },
      {
        "duration": 0,
        "start_time": "2022-10-03T19:30:59.347Z"
      },
      {
        "duration": 0,
        "start_time": "2022-10-03T19:30:59.348Z"
      },
      {
        "duration": 0,
        "start_time": "2022-10-03T19:30:59.350Z"
      },
      {
        "duration": 0,
        "start_time": "2022-10-03T19:30:59.351Z"
      },
      {
        "duration": 0,
        "start_time": "2022-10-03T19:30:59.352Z"
      },
      {
        "duration": 0,
        "start_time": "2022-10-03T19:30:59.353Z"
      },
      {
        "duration": 0,
        "start_time": "2022-10-03T19:30:59.354Z"
      },
      {
        "duration": 0,
        "start_time": "2022-10-03T19:30:59.389Z"
      },
      {
        "duration": 0,
        "start_time": "2022-10-03T19:30:59.391Z"
      },
      {
        "duration": 5,
        "start_time": "2022-10-03T19:31:56.789Z"
      },
      {
        "duration": 198,
        "start_time": "2022-10-03T19:32:01.437Z"
      },
      {
        "duration": 19,
        "start_time": "2022-10-03T19:32:05.682Z"
      },
      {
        "duration": 40,
        "start_time": "2022-10-03T19:32:09.686Z"
      },
      {
        "duration": 5,
        "start_time": "2022-10-03T19:32:17.614Z"
      },
      {
        "duration": 12,
        "start_time": "2022-10-03T19:32:22.932Z"
      },
      {
        "duration": 5,
        "start_time": "2022-10-03T19:32:26.229Z"
      },
      {
        "duration": 35,
        "start_time": "2022-10-03T19:32:30.579Z"
      },
      {
        "duration": 19,
        "start_time": "2022-10-03T19:32:34.566Z"
      },
      {
        "duration": 29,
        "start_time": "2022-10-03T19:32:38.228Z"
      },
      {
        "duration": 85,
        "start_time": "2022-10-03T19:32:41.881Z"
      },
      {
        "duration": 90,
        "start_time": "2022-10-03T19:32:45.938Z"
      },
      {
        "duration": 81,
        "start_time": "2022-10-03T19:32:48.827Z"
      },
      {
        "duration": 57,
        "start_time": "2022-10-03T19:32:52.490Z"
      },
      {
        "duration": 13,
        "start_time": "2022-10-03T19:32:57.656Z"
      },
      {
        "duration": 53,
        "start_time": "2022-10-03T19:33:01.421Z"
      },
      {
        "duration": 9,
        "start_time": "2022-10-03T19:33:10.654Z"
      },
      {
        "duration": 39,
        "start_time": "2022-10-03T19:33:30.199Z"
      },
      {
        "duration": 9,
        "start_time": "2022-10-03T19:34:21.403Z"
      },
      {
        "duration": 2367,
        "start_time": "2022-10-03T19:36:06.007Z"
      },
      {
        "duration": 15,
        "start_time": "2022-10-03T19:37:14.388Z"
      },
      {
        "duration": 18,
        "start_time": "2022-10-03T19:37:56.893Z"
      },
      {
        "duration": 22,
        "start_time": "2022-10-03T19:39:10.181Z"
      },
      {
        "duration": 444,
        "start_time": "2022-10-03T19:41:19.667Z"
      },
      {
        "duration": 195,
        "start_time": "2022-10-03T19:41:20.113Z"
      },
      {
        "duration": 20,
        "start_time": "2022-10-03T19:41:20.310Z"
      },
      {
        "duration": 30,
        "start_time": "2022-10-03T19:41:20.332Z"
      },
      {
        "duration": 3,
        "start_time": "2022-10-03T19:41:20.363Z"
      },
      {
        "duration": 27,
        "start_time": "2022-10-03T19:41:20.368Z"
      },
      {
        "duration": 22,
        "start_time": "2022-10-03T19:41:20.397Z"
      },
      {
        "duration": 8,
        "start_time": "2022-10-03T19:41:20.421Z"
      },
      {
        "duration": 32,
        "start_time": "2022-10-03T19:41:20.431Z"
      },
      {
        "duration": 31,
        "start_time": "2022-10-03T19:41:20.465Z"
      },
      {
        "duration": 30,
        "start_time": "2022-10-03T19:41:20.503Z"
      },
      {
        "duration": 87,
        "start_time": "2022-10-03T19:41:20.535Z"
      },
      {
        "duration": 94,
        "start_time": "2022-10-03T19:41:20.624Z"
      },
      {
        "duration": 82,
        "start_time": "2022-10-03T19:41:20.719Z"
      },
      {
        "duration": 56,
        "start_time": "2022-10-03T19:41:20.805Z"
      },
      {
        "duration": 12,
        "start_time": "2022-10-03T19:41:20.862Z"
      },
      {
        "duration": 63,
        "start_time": "2022-10-03T19:41:20.875Z"
      },
      {
        "duration": 4564,
        "start_time": "2022-10-03T19:41:20.939Z"
      },
      {
        "duration": 3,
        "start_time": "2022-10-03T19:41:25.505Z"
      },
      {
        "duration": 7,
        "start_time": "2022-10-03T19:41:25.509Z"
      },
      {
        "duration": 7,
        "start_time": "2022-10-03T19:41:25.518Z"
      },
      {
        "duration": 7,
        "start_time": "2022-10-03T19:41:25.527Z"
      },
      {
        "duration": 5,
        "start_time": "2022-10-03T19:41:25.536Z"
      },
      {
        "duration": 4,
        "start_time": "2022-10-03T19:41:25.542Z"
      },
      {
        "duration": 7,
        "start_time": "2022-10-03T19:41:25.548Z"
      },
      {
        "duration": 5,
        "start_time": "2022-10-03T19:41:25.557Z"
      },
      {
        "duration": 6,
        "start_time": "2022-10-03T19:41:25.563Z"
      },
      {
        "duration": 3,
        "start_time": "2022-10-03T19:41:25.573Z"
      },
      {
        "duration": 6,
        "start_time": "2022-10-03T19:41:25.590Z"
      },
      {
        "duration": 84,
        "start_time": "2022-10-03T19:41:25.597Z"
      },
      {
        "duration": 0,
        "start_time": "2022-10-03T19:41:25.682Z"
      },
      {
        "duration": 0,
        "start_time": "2022-10-03T19:41:25.683Z"
      },
      {
        "duration": 0,
        "start_time": "2022-10-03T19:41:25.684Z"
      },
      {
        "duration": 0,
        "start_time": "2022-10-03T19:41:25.685Z"
      },
      {
        "duration": 0,
        "start_time": "2022-10-03T19:41:25.687Z"
      },
      {
        "duration": 0,
        "start_time": "2022-10-03T19:41:25.688Z"
      },
      {
        "duration": 0,
        "start_time": "2022-10-03T19:41:25.689Z"
      },
      {
        "duration": 0,
        "start_time": "2022-10-03T19:41:25.690Z"
      },
      {
        "duration": 3,
        "start_time": "2022-10-03T19:41:59.041Z"
      },
      {
        "duration": 73,
        "start_time": "2022-10-03T19:42:04.150Z"
      },
      {
        "duration": 419,
        "start_time": "2022-10-03T19:42:14.141Z"
      },
      {
        "duration": 187,
        "start_time": "2022-10-03T19:42:14.561Z"
      },
      {
        "duration": 18,
        "start_time": "2022-10-03T19:42:14.750Z"
      },
      {
        "duration": 49,
        "start_time": "2022-10-03T19:42:14.770Z"
      },
      {
        "duration": 10,
        "start_time": "2022-10-03T19:42:14.821Z"
      },
      {
        "duration": 6,
        "start_time": "2022-10-03T19:42:14.833Z"
      },
      {
        "duration": 24,
        "start_time": "2022-10-03T19:42:14.841Z"
      },
      {
        "duration": 12,
        "start_time": "2022-10-03T19:42:14.867Z"
      },
      {
        "duration": 46,
        "start_time": "2022-10-03T19:42:14.881Z"
      },
      {
        "duration": 21,
        "start_time": "2022-10-03T19:42:14.930Z"
      },
      {
        "duration": 34,
        "start_time": "2022-10-03T19:42:14.952Z"
      },
      {
        "duration": 81,
        "start_time": "2022-10-03T19:42:14.996Z"
      },
      {
        "duration": 103,
        "start_time": "2022-10-03T19:42:15.079Z"
      },
      {
        "duration": 74,
        "start_time": "2022-10-03T19:42:15.189Z"
      },
      {
        "duration": 74,
        "start_time": "2022-10-03T19:42:15.265Z"
      },
      {
        "duration": 14,
        "start_time": "2022-10-03T19:42:15.341Z"
      },
      {
        "duration": 84,
        "start_time": "2022-10-03T19:42:15.357Z"
      },
      {
        "duration": 4,
        "start_time": "2022-10-03T19:42:15.443Z"
      },
      {
        "duration": 9,
        "start_time": "2022-10-03T19:42:15.448Z"
      },
      {
        "duration": 15,
        "start_time": "2022-10-03T19:42:15.459Z"
      },
      {
        "duration": 11,
        "start_time": "2022-10-03T19:42:15.475Z"
      },
      {
        "duration": 26,
        "start_time": "2022-10-03T19:42:15.488Z"
      },
      {
        "duration": 20,
        "start_time": "2022-10-03T19:42:15.516Z"
      },
      {
        "duration": 5,
        "start_time": "2022-10-03T19:42:15.538Z"
      },
      {
        "duration": 21,
        "start_time": "2022-10-03T19:42:15.545Z"
      },
      {
        "duration": 12,
        "start_time": "2022-10-03T19:42:15.567Z"
      },
      {
        "duration": 14,
        "start_time": "2022-10-03T19:42:15.580Z"
      },
      {
        "duration": 15,
        "start_time": "2022-10-03T19:42:15.597Z"
      },
      {
        "duration": 9,
        "start_time": "2022-10-03T19:42:15.614Z"
      },
      {
        "duration": 106,
        "start_time": "2022-10-03T19:42:15.625Z"
      },
      {
        "duration": 0,
        "start_time": "2022-10-03T19:42:15.732Z"
      },
      {
        "duration": 0,
        "start_time": "2022-10-03T19:42:15.734Z"
      },
      {
        "duration": 0,
        "start_time": "2022-10-03T19:42:15.735Z"
      },
      {
        "duration": 0,
        "start_time": "2022-10-03T19:42:15.736Z"
      },
      {
        "duration": 0,
        "start_time": "2022-10-03T19:42:15.737Z"
      },
      {
        "duration": 0,
        "start_time": "2022-10-03T19:42:15.739Z"
      },
      {
        "duration": 0,
        "start_time": "2022-10-03T19:42:15.740Z"
      },
      {
        "duration": 0,
        "start_time": "2022-10-03T19:42:15.742Z"
      },
      {
        "duration": 73,
        "start_time": "2022-10-03T19:48:11.588Z"
      },
      {
        "duration": 2,
        "start_time": "2022-10-03T19:48:21.455Z"
      },
      {
        "duration": 187,
        "start_time": "2022-10-03T19:48:25.120Z"
      },
      {
        "duration": 11,
        "start_time": "2022-10-03T19:48:33.467Z"
      },
      {
        "duration": 33,
        "start_time": "2022-10-03T19:48:37.601Z"
      },
      {
        "duration": 4,
        "start_time": "2022-10-03T19:48:45.412Z"
      },
      {
        "duration": 11,
        "start_time": "2022-10-03T19:48:49.344Z"
      },
      {
        "duration": 4,
        "start_time": "2022-10-03T19:48:53.818Z"
      },
      {
        "duration": 28,
        "start_time": "2022-10-03T19:48:55.981Z"
      },
      {
        "duration": 25,
        "start_time": "2022-10-03T19:48:57.992Z"
      },
      {
        "duration": 31,
        "start_time": "2022-10-03T19:48:59.501Z"
      },
      {
        "duration": 70,
        "start_time": "2022-10-03T19:49:02.177Z"
      },
      {
        "duration": 90,
        "start_time": "2022-10-03T19:49:03.361Z"
      },
      {
        "duration": 68,
        "start_time": "2022-10-03T19:49:04.645Z"
      },
      {
        "duration": 69,
        "start_time": "2022-10-03T19:49:08.489Z"
      },
      {
        "duration": 24,
        "start_time": "2022-10-03T19:49:10.388Z"
      },
      {
        "duration": 61,
        "start_time": "2022-10-03T19:49:12.359Z"
      },
      {
        "duration": 30,
        "start_time": "2022-10-03T19:49:16.488Z"
      },
      {
        "duration": 29,
        "start_time": "2022-10-03T19:49:40.785Z"
      },
      {
        "duration": 97,
        "start_time": "2022-10-03T19:51:07.971Z"
      },
      {
        "duration": 618,
        "start_time": "2022-10-03T19:51:20.417Z"
      },
      {
        "duration": 20,
        "start_time": "2022-10-03T19:51:36.736Z"
      },
      {
        "duration": 6,
        "start_time": "2022-10-03T19:52:23.911Z"
      },
      {
        "duration": 8,
        "start_time": "2022-10-03T19:52:30.367Z"
      },
      {
        "duration": 8,
        "start_time": "2022-10-03T19:54:21.129Z"
      },
      {
        "duration": 9,
        "start_time": "2022-10-03T19:54:57.484Z"
      },
      {
        "duration": 11,
        "start_time": "2022-10-03T19:56:49.933Z"
      },
      {
        "duration": 426,
        "start_time": "2022-10-03T19:57:14.242Z"
      },
      {
        "duration": 192,
        "start_time": "2022-10-03T19:57:14.670Z"
      },
      {
        "duration": 17,
        "start_time": "2022-10-03T19:57:14.864Z"
      },
      {
        "duration": 40,
        "start_time": "2022-10-03T19:57:14.890Z"
      },
      {
        "duration": 2,
        "start_time": "2022-10-03T19:57:14.932Z"
      },
      {
        "duration": 7,
        "start_time": "2022-10-03T19:57:14.936Z"
      },
      {
        "duration": 15,
        "start_time": "2022-10-03T19:57:14.945Z"
      },
      {
        "duration": 37,
        "start_time": "2022-10-03T19:57:14.961Z"
      },
      {
        "duration": 42,
        "start_time": "2022-10-03T19:57:15.000Z"
      },
      {
        "duration": 30,
        "start_time": "2022-10-03T19:57:15.045Z"
      },
      {
        "duration": 42,
        "start_time": "2022-10-03T19:57:15.077Z"
      },
      {
        "duration": 93,
        "start_time": "2022-10-03T19:57:15.120Z"
      },
      {
        "duration": 107,
        "start_time": "2022-10-03T19:57:15.215Z"
      },
      {
        "duration": 93,
        "start_time": "2022-10-03T19:57:15.323Z"
      },
      {
        "duration": 60,
        "start_time": "2022-10-03T19:57:15.418Z"
      },
      {
        "duration": 19,
        "start_time": "2022-10-03T19:57:15.490Z"
      },
      {
        "duration": 65,
        "start_time": "2022-10-03T19:57:15.511Z"
      },
      {
        "duration": 38,
        "start_time": "2022-10-03T19:57:15.578Z"
      },
      {
        "duration": 3,
        "start_time": "2022-10-03T19:57:15.617Z"
      },
      {
        "duration": 21,
        "start_time": "2022-10-03T19:57:15.621Z"
      },
      {
        "duration": 11,
        "start_time": "2022-10-03T19:57:15.644Z"
      },
      {
        "duration": 19,
        "start_time": "2022-10-03T19:57:15.657Z"
      },
      {
        "duration": 19,
        "start_time": "2022-10-03T19:57:15.678Z"
      },
      {
        "duration": 19,
        "start_time": "2022-10-03T19:57:15.700Z"
      },
      {
        "duration": 17,
        "start_time": "2022-10-03T19:57:15.721Z"
      },
      {
        "duration": 7,
        "start_time": "2022-10-03T19:57:15.740Z"
      },
      {
        "duration": 11,
        "start_time": "2022-10-03T19:57:15.749Z"
      },
      {
        "duration": 10,
        "start_time": "2022-10-03T19:57:15.765Z"
      },
      {
        "duration": 12,
        "start_time": "2022-10-03T19:57:15.777Z"
      },
      {
        "duration": 88,
        "start_time": "2022-10-03T19:57:15.791Z"
      },
      {
        "duration": 0,
        "start_time": "2022-10-03T19:57:15.881Z"
      },
      {
        "duration": 0,
        "start_time": "2022-10-03T19:57:15.882Z"
      },
      {
        "duration": 0,
        "start_time": "2022-10-03T19:57:15.882Z"
      },
      {
        "duration": 0,
        "start_time": "2022-10-03T19:57:15.883Z"
      },
      {
        "duration": 0,
        "start_time": "2022-10-03T19:57:15.885Z"
      },
      {
        "duration": 0,
        "start_time": "2022-10-03T19:57:15.885Z"
      },
      {
        "duration": 0,
        "start_time": "2022-10-03T19:57:15.886Z"
      },
      {
        "duration": 0,
        "start_time": "2022-10-03T19:57:15.887Z"
      },
      {
        "duration": 5,
        "start_time": "2022-10-03T19:58:42.973Z"
      },
      {
        "duration": 79,
        "start_time": "2022-10-03T19:58:50.138Z"
      },
      {
        "duration": 441,
        "start_time": "2022-10-03T19:58:58.385Z"
      },
      {
        "duration": 181,
        "start_time": "2022-10-03T19:58:58.828Z"
      },
      {
        "duration": 19,
        "start_time": "2022-10-03T19:58:59.010Z"
      },
      {
        "duration": 44,
        "start_time": "2022-10-03T19:58:59.031Z"
      },
      {
        "duration": 13,
        "start_time": "2022-10-03T19:58:59.077Z"
      },
      {
        "duration": 16,
        "start_time": "2022-10-03T19:58:59.093Z"
      },
      {
        "duration": 21,
        "start_time": "2022-10-03T19:58:59.111Z"
      },
      {
        "duration": 11,
        "start_time": "2022-10-03T19:58:59.134Z"
      },
      {
        "duration": 58,
        "start_time": "2022-10-03T19:58:59.146Z"
      },
      {
        "duration": 30,
        "start_time": "2022-10-03T19:58:59.208Z"
      },
      {
        "duration": 26,
        "start_time": "2022-10-03T19:58:59.239Z"
      },
      {
        "duration": 80,
        "start_time": "2022-10-03T19:58:59.267Z"
      },
      {
        "duration": 98,
        "start_time": "2022-10-03T19:58:59.350Z"
      },
      {
        "duration": 81,
        "start_time": "2022-10-03T19:58:59.450Z"
      },
      {
        "duration": 66,
        "start_time": "2022-10-03T19:58:59.533Z"
      },
      {
        "duration": 16,
        "start_time": "2022-10-03T19:58:59.601Z"
      },
      {
        "duration": 53,
        "start_time": "2022-10-03T19:58:59.619Z"
      },
      {
        "duration": 57,
        "start_time": "2022-10-03T19:58:59.674Z"
      },
      {
        "duration": 2,
        "start_time": "2022-10-03T19:58:59.733Z"
      },
      {
        "duration": 6,
        "start_time": "2022-10-03T19:58:59.737Z"
      },
      {
        "duration": 5,
        "start_time": "2022-10-03T19:58:59.744Z"
      },
      {
        "duration": 8,
        "start_time": "2022-10-03T19:58:59.751Z"
      },
      {
        "duration": 14,
        "start_time": "2022-10-03T19:58:59.762Z"
      },
      {
        "duration": 20,
        "start_time": "2022-10-03T19:58:59.790Z"
      },
      {
        "duration": 4,
        "start_time": "2022-10-03T19:58:59.812Z"
      },
      {
        "duration": 7,
        "start_time": "2022-10-03T19:58:59.818Z"
      },
      {
        "duration": 4,
        "start_time": "2022-10-03T19:58:59.828Z"
      },
      {
        "duration": 3,
        "start_time": "2022-10-03T19:58:59.836Z"
      },
      {
        "duration": 4,
        "start_time": "2022-10-03T19:58:59.841Z"
      },
      {
        "duration": 71,
        "start_time": "2022-10-03T19:58:59.847Z"
      },
      {
        "duration": 0,
        "start_time": "2022-10-03T19:58:59.920Z"
      },
      {
        "duration": 0,
        "start_time": "2022-10-03T19:58:59.921Z"
      },
      {
        "duration": 0,
        "start_time": "2022-10-03T19:58:59.922Z"
      },
      {
        "duration": 1,
        "start_time": "2022-10-03T19:58:59.923Z"
      },
      {
        "duration": 0,
        "start_time": "2022-10-03T19:58:59.925Z"
      },
      {
        "duration": 0,
        "start_time": "2022-10-03T19:58:59.926Z"
      },
      {
        "duration": 0,
        "start_time": "2022-10-03T19:58:59.928Z"
      },
      {
        "duration": 0,
        "start_time": "2022-10-03T19:58:59.929Z"
      },
      {
        "duration": 81,
        "start_time": "2022-10-03T20:00:23.986Z"
      },
      {
        "duration": 11,
        "start_time": "2022-10-03T20:00:34.020Z"
      },
      {
        "duration": 438,
        "start_time": "2022-10-03T20:00:42.627Z"
      },
      {
        "duration": 205,
        "start_time": "2022-10-03T20:00:43.067Z"
      },
      {
        "duration": 30,
        "start_time": "2022-10-03T20:00:43.274Z"
      },
      {
        "duration": 36,
        "start_time": "2022-10-03T20:00:43.308Z"
      },
      {
        "duration": 2,
        "start_time": "2022-10-03T20:00:43.346Z"
      },
      {
        "duration": 8,
        "start_time": "2022-10-03T20:00:43.350Z"
      },
      {
        "duration": 36,
        "start_time": "2022-10-03T20:00:43.360Z"
      },
      {
        "duration": 11,
        "start_time": "2022-10-03T20:00:43.398Z"
      },
      {
        "duration": 32,
        "start_time": "2022-10-03T20:00:43.411Z"
      },
      {
        "duration": 23,
        "start_time": "2022-10-03T20:00:43.446Z"
      },
      {
        "duration": 45,
        "start_time": "2022-10-03T20:00:43.471Z"
      },
      {
        "duration": 98,
        "start_time": "2022-10-03T20:00:43.517Z"
      },
      {
        "duration": 99,
        "start_time": "2022-10-03T20:00:43.616Z"
      },
      {
        "duration": 73,
        "start_time": "2022-10-03T20:00:43.717Z"
      },
      {
        "duration": 60,
        "start_time": "2022-10-03T20:00:43.792Z"
      },
      {
        "duration": 13,
        "start_time": "2022-10-03T20:00:43.854Z"
      },
      {
        "duration": 74,
        "start_time": "2022-10-03T20:00:43.869Z"
      },
      {
        "duration": 117,
        "start_time": "2022-10-03T20:00:43.945Z"
      },
      {
        "duration": 0,
        "start_time": "2022-10-03T20:00:44.064Z"
      },
      {
        "duration": 0,
        "start_time": "2022-10-03T20:00:44.065Z"
      },
      {
        "duration": 0,
        "start_time": "2022-10-03T20:00:44.067Z"
      },
      {
        "duration": 0,
        "start_time": "2022-10-03T20:00:44.068Z"
      },
      {
        "duration": 0,
        "start_time": "2022-10-03T20:00:44.070Z"
      },
      {
        "duration": 0,
        "start_time": "2022-10-03T20:00:44.071Z"
      },
      {
        "duration": 0,
        "start_time": "2022-10-03T20:00:44.072Z"
      },
      {
        "duration": 0,
        "start_time": "2022-10-03T20:00:44.096Z"
      },
      {
        "duration": 0,
        "start_time": "2022-10-03T20:00:44.098Z"
      },
      {
        "duration": 0,
        "start_time": "2022-10-03T20:00:44.100Z"
      },
      {
        "duration": 0,
        "start_time": "2022-10-03T20:00:44.102Z"
      },
      {
        "duration": 0,
        "start_time": "2022-10-03T20:00:44.103Z"
      },
      {
        "duration": 0,
        "start_time": "2022-10-03T20:00:44.104Z"
      },
      {
        "duration": 0,
        "start_time": "2022-10-03T20:00:44.107Z"
      },
      {
        "duration": 0,
        "start_time": "2022-10-03T20:00:44.108Z"
      },
      {
        "duration": 0,
        "start_time": "2022-10-03T20:00:44.109Z"
      },
      {
        "duration": 0,
        "start_time": "2022-10-03T20:00:44.110Z"
      },
      {
        "duration": 0,
        "start_time": "2022-10-03T20:00:44.112Z"
      },
      {
        "duration": 0,
        "start_time": "2022-10-03T20:00:44.113Z"
      },
      {
        "duration": 0,
        "start_time": "2022-10-03T20:00:44.114Z"
      },
      {
        "duration": 16,
        "start_time": "2022-10-03T20:01:24.889Z"
      },
      {
        "duration": 8,
        "start_time": "2022-10-03T20:02:02.437Z"
      },
      {
        "duration": 1254,
        "start_time": "2022-10-03T20:03:59.421Z"
      },
      {
        "duration": 429,
        "start_time": "2022-10-03T20:04:09.623Z"
      },
      {
        "duration": 204,
        "start_time": "2022-10-03T20:04:10.054Z"
      },
      {
        "duration": 19,
        "start_time": "2022-10-03T20:04:10.259Z"
      },
      {
        "duration": 41,
        "start_time": "2022-10-03T20:04:10.288Z"
      },
      {
        "duration": 3,
        "start_time": "2022-10-03T20:04:10.331Z"
      },
      {
        "duration": 6,
        "start_time": "2022-10-03T20:04:10.336Z"
      },
      {
        "duration": 13,
        "start_time": "2022-10-03T20:04:10.344Z"
      },
      {
        "duration": 8,
        "start_time": "2022-10-03T20:04:10.399Z"
      },
      {
        "duration": 29,
        "start_time": "2022-10-03T20:04:10.409Z"
      },
      {
        "duration": 25,
        "start_time": "2022-10-03T20:04:10.441Z"
      },
      {
        "duration": 54,
        "start_time": "2022-10-03T20:04:10.468Z"
      },
      {
        "duration": 87,
        "start_time": "2022-10-03T20:04:10.524Z"
      },
      {
        "duration": 104,
        "start_time": "2022-10-03T20:04:10.613Z"
      },
      {
        "duration": 85,
        "start_time": "2022-10-03T20:04:10.719Z"
      },
      {
        "duration": 59,
        "start_time": "2022-10-03T20:04:10.807Z"
      },
      {
        "duration": 32,
        "start_time": "2022-10-03T20:04:10.868Z"
      },
      {
        "duration": 55,
        "start_time": "2022-10-03T20:04:10.902Z"
      },
      {
        "duration": 49,
        "start_time": "2022-10-03T20:04:10.959Z"
      },
      {
        "duration": 3,
        "start_time": "2022-10-03T20:04:11.011Z"
      },
      {
        "duration": 9,
        "start_time": "2022-10-03T20:04:11.016Z"
      },
      {
        "duration": 14,
        "start_time": "2022-10-03T20:04:11.027Z"
      },
      {
        "duration": 6,
        "start_time": "2022-10-03T20:04:11.043Z"
      },
      {
        "duration": 7,
        "start_time": "2022-10-03T20:04:11.051Z"
      },
      {
        "duration": 8,
        "start_time": "2022-10-03T20:04:11.060Z"
      },
      {
        "duration": 14,
        "start_time": "2022-10-03T20:04:11.070Z"
      },
      {
        "duration": 12,
        "start_time": "2022-10-03T20:04:11.086Z"
      },
      {
        "duration": 11,
        "start_time": "2022-10-03T20:04:11.101Z"
      },
      {
        "duration": 7,
        "start_time": "2022-10-03T20:04:11.116Z"
      },
      {
        "duration": 8,
        "start_time": "2022-10-03T20:04:11.124Z"
      },
      {
        "duration": 74,
        "start_time": "2022-10-03T20:04:11.134Z"
      },
      {
        "duration": 0,
        "start_time": "2022-10-03T20:04:11.210Z"
      },
      {
        "duration": 0,
        "start_time": "2022-10-03T20:04:11.211Z"
      },
      {
        "duration": 0,
        "start_time": "2022-10-03T20:04:11.212Z"
      },
      {
        "duration": 0,
        "start_time": "2022-10-03T20:04:11.213Z"
      },
      {
        "duration": 0,
        "start_time": "2022-10-03T20:04:11.214Z"
      },
      {
        "duration": 0,
        "start_time": "2022-10-03T20:04:11.216Z"
      },
      {
        "duration": 0,
        "start_time": "2022-10-03T20:04:11.217Z"
      },
      {
        "duration": 0,
        "start_time": "2022-10-03T20:04:11.218Z"
      },
      {
        "duration": 24,
        "start_time": "2022-10-03T20:14:08.208Z"
      },
      {
        "duration": 6,
        "start_time": "2022-10-03T20:24:37.940Z"
      },
      {
        "duration": 5,
        "start_time": "2022-10-03T20:27:56.379Z"
      },
      {
        "duration": 470,
        "start_time": "2022-10-03T20:28:09.972Z"
      },
      {
        "duration": 190,
        "start_time": "2022-10-03T20:28:10.444Z"
      },
      {
        "duration": 17,
        "start_time": "2022-10-03T20:28:10.635Z"
      },
      {
        "duration": 45,
        "start_time": "2022-10-03T20:28:10.654Z"
      },
      {
        "duration": 4,
        "start_time": "2022-10-03T20:28:10.702Z"
      },
      {
        "duration": 7,
        "start_time": "2022-10-03T20:28:10.707Z"
      },
      {
        "duration": 16,
        "start_time": "2022-10-03T20:28:10.716Z"
      },
      {
        "duration": 9,
        "start_time": "2022-10-03T20:28:10.734Z"
      },
      {
        "duration": 49,
        "start_time": "2022-10-03T20:28:10.746Z"
      },
      {
        "duration": 28,
        "start_time": "2022-10-03T20:28:10.798Z"
      },
      {
        "duration": 31,
        "start_time": "2022-10-03T20:28:10.829Z"
      },
      {
        "duration": 90,
        "start_time": "2022-10-03T20:28:10.862Z"
      },
      {
        "duration": 102,
        "start_time": "2022-10-03T20:28:10.954Z"
      },
      {
        "duration": 74,
        "start_time": "2022-10-03T20:28:11.058Z"
      },
      {
        "duration": 59,
        "start_time": "2022-10-03T20:28:11.133Z"
      },
      {
        "duration": 18,
        "start_time": "2022-10-03T20:28:11.195Z"
      },
      {
        "duration": 62,
        "start_time": "2022-10-03T20:28:11.215Z"
      },
      {
        "duration": 64,
        "start_time": "2022-10-03T20:28:11.279Z"
      },
      {
        "duration": 3,
        "start_time": "2022-10-03T20:28:11.345Z"
      },
      {
        "duration": 25,
        "start_time": "2022-10-03T20:28:11.350Z"
      },
      {
        "duration": 17,
        "start_time": "2022-10-03T20:28:11.377Z"
      },
      {
        "duration": 28,
        "start_time": "2022-10-03T20:28:11.396Z"
      },
      {
        "duration": 28,
        "start_time": "2022-10-03T20:28:11.426Z"
      },
      {
        "duration": 13,
        "start_time": "2022-10-03T20:28:11.457Z"
      },
      {
        "duration": 14,
        "start_time": "2022-10-03T20:28:11.472Z"
      },
      {
        "duration": 22,
        "start_time": "2022-10-03T20:28:11.488Z"
      },
      {
        "duration": 10,
        "start_time": "2022-10-03T20:28:11.512Z"
      },
      {
        "duration": 12,
        "start_time": "2022-10-03T20:28:11.525Z"
      },
      {
        "duration": 18,
        "start_time": "2022-10-03T20:28:11.538Z"
      },
      {
        "duration": 79,
        "start_time": "2022-10-03T20:28:11.558Z"
      },
      {
        "duration": 0,
        "start_time": "2022-10-03T20:28:11.639Z"
      },
      {
        "duration": 0,
        "start_time": "2022-10-03T20:28:11.640Z"
      },
      {
        "duration": 0,
        "start_time": "2022-10-03T20:28:11.641Z"
      },
      {
        "duration": 0,
        "start_time": "2022-10-03T20:28:11.642Z"
      },
      {
        "duration": 0,
        "start_time": "2022-10-03T20:28:11.643Z"
      },
      {
        "duration": 0,
        "start_time": "2022-10-03T20:28:11.644Z"
      },
      {
        "duration": 0,
        "start_time": "2022-10-03T20:28:11.646Z"
      },
      {
        "duration": 0,
        "start_time": "2022-10-03T20:28:11.648Z"
      },
      {
        "duration": 82,
        "start_time": "2022-10-03T20:29:08.183Z"
      },
      {
        "duration": 12,
        "start_time": "2022-10-03T20:29:27.895Z"
      },
      {
        "duration": 10,
        "start_time": "2022-10-03T20:29:36.293Z"
      },
      {
        "duration": 9,
        "start_time": "2022-10-03T20:30:18.671Z"
      },
      {
        "duration": 468,
        "start_time": "2022-10-03T20:30:27.887Z"
      },
      {
        "duration": 200,
        "start_time": "2022-10-03T20:30:28.357Z"
      },
      {
        "duration": 18,
        "start_time": "2022-10-03T20:30:28.559Z"
      },
      {
        "duration": 54,
        "start_time": "2022-10-03T20:30:28.579Z"
      },
      {
        "duration": 3,
        "start_time": "2022-10-03T20:30:28.635Z"
      },
      {
        "duration": 7,
        "start_time": "2022-10-03T20:30:28.640Z"
      },
      {
        "duration": 14,
        "start_time": "2022-10-03T20:30:28.648Z"
      },
      {
        "duration": 30,
        "start_time": "2022-10-03T20:30:28.664Z"
      },
      {
        "duration": 32,
        "start_time": "2022-10-03T20:30:28.697Z"
      },
      {
        "duration": 22,
        "start_time": "2022-10-03T20:30:28.731Z"
      },
      {
        "duration": 44,
        "start_time": "2022-10-03T20:30:28.754Z"
      },
      {
        "duration": 100,
        "start_time": "2022-10-03T20:30:28.800Z"
      },
      {
        "duration": 97,
        "start_time": "2022-10-03T20:30:28.902Z"
      },
      {
        "duration": 66,
        "start_time": "2022-10-03T20:30:29.001Z"
      },
      {
        "duration": 77,
        "start_time": "2022-10-03T20:30:29.070Z"
      },
      {
        "duration": 10,
        "start_time": "2022-10-03T20:30:29.149Z"
      },
      {
        "duration": 75,
        "start_time": "2022-10-03T20:30:29.161Z"
      },
      {
        "duration": 37,
        "start_time": "2022-10-03T20:30:29.238Z"
      },
      {
        "duration": 19,
        "start_time": "2022-10-03T20:30:29.277Z"
      },
      {
        "duration": 6,
        "start_time": "2022-10-03T20:30:29.301Z"
      },
      {
        "duration": 12,
        "start_time": "2022-10-03T20:30:29.309Z"
      },
      {
        "duration": 5,
        "start_time": "2022-10-03T20:30:29.323Z"
      },
      {
        "duration": 6,
        "start_time": "2022-10-03T20:30:29.330Z"
      },
      {
        "duration": 4,
        "start_time": "2022-10-03T20:30:29.338Z"
      },
      {
        "duration": 8,
        "start_time": "2022-10-03T20:30:29.344Z"
      },
      {
        "duration": 8,
        "start_time": "2022-10-03T20:30:29.354Z"
      },
      {
        "duration": 4,
        "start_time": "2022-10-03T20:30:29.364Z"
      },
      {
        "duration": 10,
        "start_time": "2022-10-03T20:30:29.373Z"
      },
      {
        "duration": 21,
        "start_time": "2022-10-03T20:30:29.392Z"
      },
      {
        "duration": 78,
        "start_time": "2022-10-03T20:30:29.415Z"
      },
      {
        "duration": 0,
        "start_time": "2022-10-03T20:30:29.494Z"
      },
      {
        "duration": 0,
        "start_time": "2022-10-03T20:30:29.496Z"
      },
      {
        "duration": 0,
        "start_time": "2022-10-03T20:30:29.497Z"
      },
      {
        "duration": 0,
        "start_time": "2022-10-03T20:30:29.498Z"
      },
      {
        "duration": 0,
        "start_time": "2022-10-03T20:30:29.500Z"
      },
      {
        "duration": 0,
        "start_time": "2022-10-03T20:30:29.501Z"
      },
      {
        "duration": 0,
        "start_time": "2022-10-03T20:30:29.502Z"
      },
      {
        "duration": 0,
        "start_time": "2022-10-03T20:30:29.503Z"
      },
      {
        "duration": 49,
        "start_time": "2022-10-03T22:54:47.588Z"
      },
      {
        "duration": 458,
        "start_time": "2022-10-03T22:54:57.750Z"
      },
      {
        "duration": 280,
        "start_time": "2022-10-03T22:54:58.210Z"
      },
      {
        "duration": 23,
        "start_time": "2022-10-03T22:54:58.493Z"
      },
      {
        "duration": 39,
        "start_time": "2022-10-03T22:54:58.518Z"
      },
      {
        "duration": 19,
        "start_time": "2022-10-03T22:54:58.568Z"
      },
      {
        "duration": 10,
        "start_time": "2022-10-03T22:54:58.589Z"
      },
      {
        "duration": 18,
        "start_time": "2022-10-03T22:54:58.600Z"
      },
      {
        "duration": 8,
        "start_time": "2022-10-03T22:54:58.620Z"
      },
      {
        "duration": 46,
        "start_time": "2022-10-03T22:54:58.630Z"
      },
      {
        "duration": 38,
        "start_time": "2022-10-03T22:54:58.680Z"
      },
      {
        "duration": 26,
        "start_time": "2022-10-03T22:54:58.720Z"
      },
      {
        "duration": 86,
        "start_time": "2022-10-03T22:54:58.748Z"
      },
      {
        "duration": 98,
        "start_time": "2022-10-03T22:54:58.836Z"
      },
      {
        "duration": 91,
        "start_time": "2022-10-03T22:54:58.936Z"
      },
      {
        "duration": 69,
        "start_time": "2022-10-03T22:54:59.029Z"
      },
      {
        "duration": 10,
        "start_time": "2022-10-03T22:54:59.099Z"
      },
      {
        "duration": 71,
        "start_time": "2022-10-03T22:54:59.111Z"
      },
      {
        "duration": 88,
        "start_time": "2022-10-03T22:54:59.184Z"
      },
      {
        "duration": 0,
        "start_time": "2022-10-03T22:54:59.274Z"
      },
      {
        "duration": 0,
        "start_time": "2022-10-03T22:54:59.276Z"
      },
      {
        "duration": 0,
        "start_time": "2022-10-03T22:54:59.277Z"
      },
      {
        "duration": 0,
        "start_time": "2022-10-03T22:54:59.279Z"
      },
      {
        "duration": 0,
        "start_time": "2022-10-03T22:54:59.280Z"
      },
      {
        "duration": 0,
        "start_time": "2022-10-03T22:54:59.282Z"
      },
      {
        "duration": 0,
        "start_time": "2022-10-03T22:54:59.283Z"
      },
      {
        "duration": 0,
        "start_time": "2022-10-03T22:54:59.284Z"
      },
      {
        "duration": 0,
        "start_time": "2022-10-03T22:54:59.286Z"
      },
      {
        "duration": 0,
        "start_time": "2022-10-03T22:54:59.287Z"
      },
      {
        "duration": 0,
        "start_time": "2022-10-03T22:54:59.288Z"
      },
      {
        "duration": 0,
        "start_time": "2022-10-03T22:54:59.289Z"
      },
      {
        "duration": 0,
        "start_time": "2022-10-03T22:54:59.291Z"
      },
      {
        "duration": 0,
        "start_time": "2022-10-03T22:54:59.292Z"
      },
      {
        "duration": 0,
        "start_time": "2022-10-03T22:54:59.293Z"
      },
      {
        "duration": 0,
        "start_time": "2022-10-03T22:54:59.294Z"
      },
      {
        "duration": 0,
        "start_time": "2022-10-03T22:54:59.295Z"
      },
      {
        "duration": 0,
        "start_time": "2022-10-03T22:54:59.296Z"
      },
      {
        "duration": 0,
        "start_time": "2022-10-03T22:54:59.297Z"
      },
      {
        "duration": 0,
        "start_time": "2022-10-03T22:54:59.298Z"
      },
      {
        "duration": 36,
        "start_time": "2022-10-03T22:55:14.098Z"
      },
      {
        "duration": 12,
        "start_time": "2022-10-03T23:18:16.246Z"
      },
      {
        "duration": 453,
        "start_time": "2022-10-03T23:18:31.824Z"
      },
      {
        "duration": 200,
        "start_time": "2022-10-03T23:18:32.279Z"
      },
      {
        "duration": 18,
        "start_time": "2022-10-03T23:18:32.481Z"
      },
      {
        "duration": 30,
        "start_time": "2022-10-03T23:18:32.501Z"
      },
      {
        "duration": 2,
        "start_time": "2022-10-03T23:18:32.533Z"
      },
      {
        "duration": 4,
        "start_time": "2022-10-03T23:18:32.561Z"
      },
      {
        "duration": 26,
        "start_time": "2022-10-03T23:18:32.567Z"
      },
      {
        "duration": 7,
        "start_time": "2022-10-03T23:18:32.594Z"
      },
      {
        "duration": 33,
        "start_time": "2022-10-03T23:18:32.602Z"
      },
      {
        "duration": 35,
        "start_time": "2022-10-03T23:18:32.638Z"
      },
      {
        "duration": 25,
        "start_time": "2022-10-03T23:18:32.676Z"
      },
      {
        "duration": 92,
        "start_time": "2022-10-03T23:18:32.703Z"
      },
      {
        "duration": 107,
        "start_time": "2022-10-03T23:18:32.796Z"
      },
      {
        "duration": 80,
        "start_time": "2022-10-03T23:18:32.905Z"
      },
      {
        "duration": 49,
        "start_time": "2022-10-03T23:18:32.987Z"
      },
      {
        "duration": 24,
        "start_time": "2022-10-03T23:18:33.038Z"
      },
      {
        "duration": 56,
        "start_time": "2022-10-03T23:18:33.065Z"
      },
      {
        "duration": 56,
        "start_time": "2022-10-03T23:18:33.123Z"
      },
      {
        "duration": 2,
        "start_time": "2022-10-03T23:18:33.181Z"
      },
      {
        "duration": 7,
        "start_time": "2022-10-03T23:18:33.185Z"
      },
      {
        "duration": 13,
        "start_time": "2022-10-03T23:18:33.193Z"
      },
      {
        "duration": 7,
        "start_time": "2022-10-03T23:18:33.208Z"
      },
      {
        "duration": 6,
        "start_time": "2022-10-03T23:18:33.217Z"
      },
      {
        "duration": 7,
        "start_time": "2022-10-03T23:18:33.225Z"
      },
      {
        "duration": 8,
        "start_time": "2022-10-03T23:18:33.234Z"
      },
      {
        "duration": 13,
        "start_time": "2022-10-03T23:18:33.244Z"
      },
      {
        "duration": 11,
        "start_time": "2022-10-03T23:18:33.259Z"
      },
      {
        "duration": 8,
        "start_time": "2022-10-03T23:18:33.274Z"
      },
      {
        "duration": 5,
        "start_time": "2022-10-03T23:18:33.284Z"
      },
      {
        "duration": 40,
        "start_time": "2022-10-03T23:18:33.290Z"
      },
      {
        "duration": 0,
        "start_time": "2022-10-03T23:18:33.333Z"
      },
      {
        "duration": 0,
        "start_time": "2022-10-03T23:18:33.333Z"
      },
      {
        "duration": 0,
        "start_time": "2022-10-03T23:18:33.334Z"
      },
      {
        "duration": 0,
        "start_time": "2022-10-03T23:18:33.336Z"
      },
      {
        "duration": 0,
        "start_time": "2022-10-03T23:18:33.337Z"
      },
      {
        "duration": 0,
        "start_time": "2022-10-03T23:18:33.338Z"
      },
      {
        "duration": 0,
        "start_time": "2022-10-03T23:18:33.339Z"
      },
      {
        "duration": 0,
        "start_time": "2022-10-03T23:18:33.341Z"
      },
      {
        "duration": 12,
        "start_time": "2022-10-03T23:25:17.599Z"
      },
      {
        "duration": 4,
        "start_time": "2022-10-03T23:26:36.566Z"
      },
      {
        "duration": 36,
        "start_time": "2022-10-03T23:27:10.693Z"
      },
      {
        "duration": 12,
        "start_time": "2022-10-03T23:31:24.862Z"
      },
      {
        "duration": 468,
        "start_time": "2022-10-04T00:07:40.239Z"
      },
      {
        "duration": 198,
        "start_time": "2022-10-04T00:07:40.709Z"
      },
      {
        "duration": 18,
        "start_time": "2022-10-04T00:07:40.909Z"
      },
      {
        "duration": 57,
        "start_time": "2022-10-04T00:07:40.929Z"
      },
      {
        "duration": 3,
        "start_time": "2022-10-04T00:07:40.987Z"
      },
      {
        "duration": 22,
        "start_time": "2022-10-04T00:07:40.991Z"
      },
      {
        "duration": 25,
        "start_time": "2022-10-04T00:07:41.015Z"
      },
      {
        "duration": 15,
        "start_time": "2022-10-04T00:07:41.042Z"
      },
      {
        "duration": 39,
        "start_time": "2022-10-04T00:07:41.059Z"
      },
      {
        "duration": 30,
        "start_time": "2022-10-04T00:07:41.100Z"
      },
      {
        "duration": 28,
        "start_time": "2022-10-04T00:07:41.132Z"
      },
      {
        "duration": 93,
        "start_time": "2022-10-04T00:07:41.162Z"
      },
      {
        "duration": 103,
        "start_time": "2022-10-04T00:07:41.257Z"
      },
      {
        "duration": 77,
        "start_time": "2022-10-04T00:07:41.362Z"
      },
      {
        "duration": 80,
        "start_time": "2022-10-04T00:07:41.441Z"
      },
      {
        "duration": 11,
        "start_time": "2022-10-04T00:07:41.523Z"
      },
      {
        "duration": 102,
        "start_time": "2022-10-04T00:07:41.536Z"
      },
      {
        "duration": 17,
        "start_time": "2022-10-04T00:07:41.640Z"
      },
      {
        "duration": 53,
        "start_time": "2022-10-04T00:07:41.659Z"
      },
      {
        "duration": 17,
        "start_time": "2022-10-04T00:07:41.714Z"
      },
      {
        "duration": 47,
        "start_time": "2022-10-04T00:07:41.733Z"
      },
      {
        "duration": 12,
        "start_time": "2022-10-04T00:07:41.782Z"
      },
      {
        "duration": 10,
        "start_time": "2022-10-04T00:07:41.797Z"
      },
      {
        "duration": 11,
        "start_time": "2022-10-04T00:07:41.809Z"
      },
      {
        "duration": 13,
        "start_time": "2022-10-04T00:07:41.821Z"
      },
      {
        "duration": 11,
        "start_time": "2022-10-04T00:07:41.836Z"
      },
      {
        "duration": 17,
        "start_time": "2022-10-04T00:07:41.848Z"
      },
      {
        "duration": 12,
        "start_time": "2022-10-04T00:07:41.871Z"
      },
      {
        "duration": 13,
        "start_time": "2022-10-04T00:07:41.885Z"
      },
      {
        "duration": 173,
        "start_time": "2022-10-04T00:07:41.900Z"
      },
      {
        "duration": 0,
        "start_time": "2022-10-04T00:07:42.076Z"
      },
      {
        "duration": 0,
        "start_time": "2022-10-04T00:07:42.077Z"
      },
      {
        "duration": 0,
        "start_time": "2022-10-04T00:07:42.078Z"
      },
      {
        "duration": 0,
        "start_time": "2022-10-04T00:07:42.079Z"
      },
      {
        "duration": 0,
        "start_time": "2022-10-04T00:07:42.080Z"
      },
      {
        "duration": 0,
        "start_time": "2022-10-04T00:07:42.082Z"
      },
      {
        "duration": 0,
        "start_time": "2022-10-04T00:07:42.083Z"
      },
      {
        "duration": 0,
        "start_time": "2022-10-04T00:07:42.084Z"
      },
      {
        "duration": 73,
        "start_time": "2022-10-04T00:13:40.858Z"
      },
      {
        "duration": 4,
        "start_time": "2022-10-04T00:13:50.393Z"
      },
      {
        "duration": 19,
        "start_time": "2022-10-04T00:13:55.444Z"
      },
      {
        "duration": 18,
        "start_time": "2022-10-04T00:14:08.474Z"
      },
      {
        "duration": 81,
        "start_time": "2022-10-04T00:14:20.682Z"
      },
      {
        "duration": 466,
        "start_time": "2022-10-04T00:14:50.724Z"
      },
      {
        "duration": 206,
        "start_time": "2022-10-04T00:14:51.193Z"
      },
      {
        "duration": 20,
        "start_time": "2022-10-04T00:14:51.401Z"
      },
      {
        "duration": 71,
        "start_time": "2022-10-04T00:14:51.428Z"
      },
      {
        "duration": 45,
        "start_time": "2022-10-04T00:14:51.502Z"
      },
      {
        "duration": 46,
        "start_time": "2022-10-04T00:14:51.549Z"
      },
      {
        "duration": 37,
        "start_time": "2022-10-04T00:14:51.597Z"
      },
      {
        "duration": 68,
        "start_time": "2022-10-04T00:14:51.637Z"
      },
      {
        "duration": 88,
        "start_time": "2022-10-04T00:14:51.707Z"
      },
      {
        "duration": 33,
        "start_time": "2022-10-04T00:14:51.799Z"
      },
      {
        "duration": 72,
        "start_time": "2022-10-04T00:14:51.834Z"
      },
      {
        "duration": 113,
        "start_time": "2022-10-04T00:14:51.909Z"
      },
      {
        "duration": 107,
        "start_time": "2022-10-04T00:14:52.024Z"
      },
      {
        "duration": 85,
        "start_time": "2022-10-04T00:14:52.132Z"
      },
      {
        "duration": 70,
        "start_time": "2022-10-04T00:14:52.219Z"
      },
      {
        "duration": 14,
        "start_time": "2022-10-04T00:14:52.291Z"
      },
      {
        "duration": 89,
        "start_time": "2022-10-04T00:14:52.308Z"
      },
      {
        "duration": 12,
        "start_time": "2022-10-04T00:14:52.398Z"
      },
      {
        "duration": 27,
        "start_time": "2022-10-04T00:14:52.412Z"
      },
      {
        "duration": 28,
        "start_time": "2022-10-04T00:14:52.441Z"
      },
      {
        "duration": 62,
        "start_time": "2022-10-04T00:14:52.472Z"
      },
      {
        "duration": 68,
        "start_time": "2022-10-04T00:14:52.537Z"
      },
      {
        "duration": 64,
        "start_time": "2022-10-04T00:14:52.608Z"
      },
      {
        "duration": 0,
        "start_time": "2022-10-04T00:14:52.681Z"
      },
      {
        "duration": 0,
        "start_time": "2022-10-04T00:14:52.683Z"
      },
      {
        "duration": 0,
        "start_time": "2022-10-04T00:14:52.684Z"
      },
      {
        "duration": 0,
        "start_time": "2022-10-04T00:14:52.685Z"
      },
      {
        "duration": 0,
        "start_time": "2022-10-04T00:14:52.686Z"
      },
      {
        "duration": 0,
        "start_time": "2022-10-04T00:14:52.687Z"
      },
      {
        "duration": 0,
        "start_time": "2022-10-04T00:14:52.688Z"
      },
      {
        "duration": 0,
        "start_time": "2022-10-04T00:14:52.689Z"
      },
      {
        "duration": 0,
        "start_time": "2022-10-04T00:14:52.690Z"
      },
      {
        "duration": 1,
        "start_time": "2022-10-04T00:14:52.691Z"
      },
      {
        "duration": 0,
        "start_time": "2022-10-04T00:14:52.693Z"
      },
      {
        "duration": 0,
        "start_time": "2022-10-04T00:14:52.694Z"
      },
      {
        "duration": 0,
        "start_time": "2022-10-04T00:14:52.695Z"
      },
      {
        "duration": 0,
        "start_time": "2022-10-04T00:14:52.697Z"
      },
      {
        "duration": 0,
        "start_time": "2022-10-04T00:14:52.698Z"
      },
      {
        "duration": 460,
        "start_time": "2022-10-04T00:16:04.882Z"
      },
      {
        "duration": 197,
        "start_time": "2022-10-04T00:16:05.347Z"
      },
      {
        "duration": 25,
        "start_time": "2022-10-04T00:16:05.546Z"
      },
      {
        "duration": 39,
        "start_time": "2022-10-04T00:16:05.574Z"
      },
      {
        "duration": 2,
        "start_time": "2022-10-04T00:16:05.616Z"
      },
      {
        "duration": 14,
        "start_time": "2022-10-04T00:16:05.620Z"
      },
      {
        "duration": 35,
        "start_time": "2022-10-04T00:16:05.636Z"
      },
      {
        "duration": 13,
        "start_time": "2022-10-04T00:16:05.673Z"
      },
      {
        "duration": 28,
        "start_time": "2022-10-04T00:16:05.687Z"
      },
      {
        "duration": 21,
        "start_time": "2022-10-04T00:16:05.718Z"
      },
      {
        "duration": 27,
        "start_time": "2022-10-04T00:16:05.753Z"
      },
      {
        "duration": 98,
        "start_time": "2022-10-04T00:16:05.782Z"
      },
      {
        "duration": 97,
        "start_time": "2022-10-04T00:16:05.882Z"
      },
      {
        "duration": 73,
        "start_time": "2022-10-04T00:16:05.982Z"
      },
      {
        "duration": 63,
        "start_time": "2022-10-04T00:16:06.057Z"
      },
      {
        "duration": 33,
        "start_time": "2022-10-04T00:16:06.121Z"
      },
      {
        "duration": 60,
        "start_time": "2022-10-04T00:16:06.157Z"
      },
      {
        "duration": 12,
        "start_time": "2022-10-04T00:16:06.219Z"
      },
      {
        "duration": 32,
        "start_time": "2022-10-04T00:16:06.233Z"
      },
      {
        "duration": 8,
        "start_time": "2022-10-04T00:16:06.268Z"
      },
      {
        "duration": 25,
        "start_time": "2022-10-04T00:16:06.279Z"
      },
      {
        "duration": 16,
        "start_time": "2022-10-04T00:16:06.305Z"
      },
      {
        "duration": 40,
        "start_time": "2022-10-04T00:16:06.322Z"
      },
      {
        "duration": 26,
        "start_time": "2022-10-04T00:16:06.364Z"
      },
      {
        "duration": 18,
        "start_time": "2022-10-04T00:16:06.392Z"
      },
      {
        "duration": 15,
        "start_time": "2022-10-04T00:16:06.412Z"
      },
      {
        "duration": 2,
        "start_time": "2022-10-04T00:16:06.429Z"
      },
      {
        "duration": 24,
        "start_time": "2022-10-04T00:16:06.434Z"
      },
      {
        "duration": 11,
        "start_time": "2022-10-04T00:16:06.461Z"
      },
      {
        "duration": 61,
        "start_time": "2022-10-04T00:16:06.474Z"
      },
      {
        "duration": 0,
        "start_time": "2022-10-04T00:16:06.537Z"
      },
      {
        "duration": 0,
        "start_time": "2022-10-04T00:16:06.539Z"
      },
      {
        "duration": 0,
        "start_time": "2022-10-04T00:16:06.541Z"
      },
      {
        "duration": 0,
        "start_time": "2022-10-04T00:16:06.543Z"
      },
      {
        "duration": 0,
        "start_time": "2022-10-04T00:16:06.544Z"
      },
      {
        "duration": 0,
        "start_time": "2022-10-04T00:16:06.545Z"
      },
      {
        "duration": 0,
        "start_time": "2022-10-04T00:16:06.547Z"
      },
      {
        "duration": 0,
        "start_time": "2022-10-04T00:16:06.548Z"
      },
      {
        "duration": 69,
        "start_time": "2022-10-04T00:21:47.414Z"
      },
      {
        "duration": 9,
        "start_time": "2022-10-04T00:23:24.078Z"
      },
      {
        "duration": 10,
        "start_time": "2022-10-04T00:24:47.212Z"
      },
      {
        "duration": 64,
        "start_time": "2022-10-04T00:27:31.877Z"
      },
      {
        "duration": 86,
        "start_time": "2022-10-04T00:30:37.180Z"
      },
      {
        "duration": 61,
        "start_time": "2022-10-04T00:31:14.669Z"
      },
      {
        "duration": 419,
        "start_time": "2022-10-04T00:32:59.565Z"
      },
      {
        "duration": 187,
        "start_time": "2022-10-04T00:32:59.986Z"
      },
      {
        "duration": 18,
        "start_time": "2022-10-04T00:33:00.174Z"
      },
      {
        "duration": 45,
        "start_time": "2022-10-04T00:33:00.194Z"
      },
      {
        "duration": 11,
        "start_time": "2022-10-04T00:33:00.241Z"
      },
      {
        "duration": 31,
        "start_time": "2022-10-04T00:33:00.254Z"
      },
      {
        "duration": 28,
        "start_time": "2022-10-04T00:33:00.286Z"
      },
      {
        "duration": 22,
        "start_time": "2022-10-04T00:33:00.316Z"
      },
      {
        "duration": 44,
        "start_time": "2022-10-04T00:33:00.340Z"
      },
      {
        "duration": 32,
        "start_time": "2022-10-04T00:33:00.386Z"
      },
      {
        "duration": 65,
        "start_time": "2022-10-04T00:33:00.420Z"
      },
      {
        "duration": 82,
        "start_time": "2022-10-04T00:33:00.486Z"
      },
      {
        "duration": 109,
        "start_time": "2022-10-04T00:33:00.570Z"
      },
      {
        "duration": 76,
        "start_time": "2022-10-04T00:33:00.681Z"
      },
      {
        "duration": 53,
        "start_time": "2022-10-04T00:33:00.759Z"
      },
      {
        "duration": 10,
        "start_time": "2022-10-04T00:33:00.814Z"
      },
      {
        "duration": 133,
        "start_time": "2022-10-04T00:33:00.825Z"
      },
      {
        "duration": 11,
        "start_time": "2022-10-04T00:33:00.960Z"
      },
      {
        "duration": 33,
        "start_time": "2022-10-04T00:33:00.973Z"
      },
      {
        "duration": 9,
        "start_time": "2022-10-04T00:33:01.007Z"
      },
      {
        "duration": 47,
        "start_time": "2022-10-04T00:33:01.018Z"
      },
      {
        "duration": 66,
        "start_time": "2022-10-04T00:33:01.067Z"
      },
      {
        "duration": 99,
        "start_time": "2022-10-04T00:33:01.135Z"
      },
      {
        "duration": 69,
        "start_time": "2022-10-04T00:33:01.235Z"
      },
      {
        "duration": 34,
        "start_time": "2022-10-04T00:33:01.305Z"
      },
      {
        "duration": 19,
        "start_time": "2022-10-04T00:33:01.341Z"
      },
      {
        "duration": 50,
        "start_time": "2022-10-04T00:33:01.362Z"
      },
      {
        "duration": 0,
        "start_time": "2022-10-04T00:33:01.414Z"
      },
      {
        "duration": 0,
        "start_time": "2022-10-04T00:33:01.416Z"
      },
      {
        "duration": 0,
        "start_time": "2022-10-04T00:33:01.418Z"
      },
      {
        "duration": 0,
        "start_time": "2022-10-04T00:33:01.418Z"
      },
      {
        "duration": 0,
        "start_time": "2022-10-04T00:33:01.420Z"
      },
      {
        "duration": 0,
        "start_time": "2022-10-04T00:33:01.421Z"
      },
      {
        "duration": 0,
        "start_time": "2022-10-04T00:33:01.422Z"
      },
      {
        "duration": 0,
        "start_time": "2022-10-04T00:33:01.423Z"
      },
      {
        "duration": 0,
        "start_time": "2022-10-04T00:33:01.424Z"
      },
      {
        "duration": 0,
        "start_time": "2022-10-04T00:33:01.425Z"
      },
      {
        "duration": 0,
        "start_time": "2022-10-04T00:33:01.426Z"
      },
      {
        "duration": 58,
        "start_time": "2022-10-04T00:33:38.997Z"
      },
      {
        "duration": 50,
        "start_time": "2022-10-04T00:35:26.286Z"
      },
      {
        "duration": 4,
        "start_time": "2022-10-04T00:35:51.305Z"
      },
      {
        "duration": 53,
        "start_time": "2022-10-04T00:38:46.785Z"
      },
      {
        "duration": 61,
        "start_time": "2022-10-04T00:39:04.250Z"
      },
      {
        "duration": 61,
        "start_time": "2022-10-04T00:39:11.500Z"
      },
      {
        "duration": 59,
        "start_time": "2022-10-04T00:39:24.961Z"
      },
      {
        "duration": 10,
        "start_time": "2022-10-04T00:41:27.373Z"
      },
      {
        "duration": 4,
        "start_time": "2022-10-04T00:41:59.980Z"
      },
      {
        "duration": 451,
        "start_time": "2022-10-04T00:42:08.229Z"
      },
      {
        "duration": 178,
        "start_time": "2022-10-04T00:42:08.682Z"
      },
      {
        "duration": 18,
        "start_time": "2022-10-04T00:42:08.862Z"
      },
      {
        "duration": 31,
        "start_time": "2022-10-04T00:42:08.882Z"
      },
      {
        "duration": 3,
        "start_time": "2022-10-04T00:42:08.915Z"
      },
      {
        "duration": 9,
        "start_time": "2022-10-04T00:42:08.920Z"
      },
      {
        "duration": 13,
        "start_time": "2022-10-04T00:42:08.955Z"
      },
      {
        "duration": 8,
        "start_time": "2022-10-04T00:42:08.970Z"
      },
      {
        "duration": 27,
        "start_time": "2022-10-04T00:42:08.980Z"
      },
      {
        "duration": 48,
        "start_time": "2022-10-04T00:42:09.011Z"
      },
      {
        "duration": 23,
        "start_time": "2022-10-04T00:42:09.061Z"
      },
      {
        "duration": 86,
        "start_time": "2022-10-04T00:42:09.086Z"
      },
      {
        "duration": 104,
        "start_time": "2022-10-04T00:42:09.175Z"
      },
      {
        "duration": 74,
        "start_time": "2022-10-04T00:42:09.281Z"
      },
      {
        "duration": 52,
        "start_time": "2022-10-04T00:42:09.357Z"
      },
      {
        "duration": 11,
        "start_time": "2022-10-04T00:42:09.410Z"
      },
      {
        "duration": 73,
        "start_time": "2022-10-04T00:42:09.423Z"
      },
      {
        "duration": 11,
        "start_time": "2022-10-04T00:42:09.498Z"
      },
      {
        "duration": 13,
        "start_time": "2022-10-04T00:42:09.511Z"
      },
      {
        "duration": 29,
        "start_time": "2022-10-04T00:42:09.526Z"
      },
      {
        "duration": 22,
        "start_time": "2022-10-04T00:42:09.557Z"
      },
      {
        "duration": 14,
        "start_time": "2022-10-04T00:42:09.581Z"
      },
      {
        "duration": 16,
        "start_time": "2022-10-04T00:42:09.597Z"
      },
      {
        "duration": 14,
        "start_time": "2022-10-04T00:42:09.615Z"
      },
      {
        "duration": 19,
        "start_time": "2022-10-04T00:42:09.655Z"
      },
      {
        "duration": 75,
        "start_time": "2022-10-04T00:42:09.676Z"
      },
      {
        "duration": 21,
        "start_time": "2022-10-04T00:42:09.753Z"
      },
      {
        "duration": 25,
        "start_time": "2022-10-04T00:42:09.777Z"
      },
      {
        "duration": 17,
        "start_time": "2022-10-04T00:42:09.805Z"
      },
      {
        "duration": 52,
        "start_time": "2022-10-04T00:42:09.824Z"
      },
      {
        "duration": 0,
        "start_time": "2022-10-04T00:42:09.877Z"
      },
      {
        "duration": 0,
        "start_time": "2022-10-04T00:42:09.879Z"
      },
      {
        "duration": 0,
        "start_time": "2022-10-04T00:42:09.880Z"
      },
      {
        "duration": 0,
        "start_time": "2022-10-04T00:42:09.881Z"
      },
      {
        "duration": 0,
        "start_time": "2022-10-04T00:42:09.882Z"
      },
      {
        "duration": 0,
        "start_time": "2022-10-04T00:42:09.884Z"
      },
      {
        "duration": 0,
        "start_time": "2022-10-04T00:42:09.885Z"
      },
      {
        "duration": 0,
        "start_time": "2022-10-04T00:42:09.887Z"
      },
      {
        "duration": 68,
        "start_time": "2022-10-04T00:45:28.074Z"
      },
      {
        "duration": 63,
        "start_time": "2022-10-04T00:45:45.800Z"
      },
      {
        "duration": 8,
        "start_time": "2022-10-04T00:46:11.511Z"
      },
      {
        "duration": 39,
        "start_time": "2022-10-04T00:47:31.149Z"
      },
      {
        "duration": 6,
        "start_time": "2022-10-04T00:47:38.560Z"
      },
      {
        "duration": 4,
        "start_time": "2022-10-04T00:48:17.820Z"
      },
      {
        "duration": 5,
        "start_time": "2022-10-04T00:48:29.502Z"
      },
      {
        "duration": 209,
        "start_time": "2022-10-04T00:49:24.590Z"
      },
      {
        "duration": 6,
        "start_time": "2022-10-04T00:49:32.724Z"
      },
      {
        "duration": 6,
        "start_time": "2022-10-04T00:50:49.978Z"
      },
      {
        "duration": 6,
        "start_time": "2022-10-04T00:51:20.223Z"
      },
      {
        "duration": 23,
        "start_time": "2022-10-04T00:53:01.981Z"
      },
      {
        "duration": 20,
        "start_time": "2022-10-04T00:54:21.181Z"
      },
      {
        "duration": 434,
        "start_time": "2022-10-04T00:55:35.255Z"
      },
      {
        "duration": 183,
        "start_time": "2022-10-04T00:55:35.691Z"
      },
      {
        "duration": 20,
        "start_time": "2022-10-04T00:55:35.876Z"
      },
      {
        "duration": 32,
        "start_time": "2022-10-04T00:55:35.898Z"
      },
      {
        "duration": 3,
        "start_time": "2022-10-04T00:55:35.931Z"
      },
      {
        "duration": 28,
        "start_time": "2022-10-04T00:55:35.935Z"
      },
      {
        "duration": 18,
        "start_time": "2022-10-04T00:55:35.964Z"
      },
      {
        "duration": 7,
        "start_time": "2022-10-04T00:55:35.984Z"
      },
      {
        "duration": 33,
        "start_time": "2022-10-04T00:55:35.993Z"
      },
      {
        "duration": 29,
        "start_time": "2022-10-04T00:55:36.028Z"
      },
      {
        "duration": 24,
        "start_time": "2022-10-04T00:55:36.058Z"
      },
      {
        "duration": 99,
        "start_time": "2022-10-04T00:55:36.083Z"
      },
      {
        "duration": 104,
        "start_time": "2022-10-04T00:55:36.184Z"
      },
      {
        "duration": 78,
        "start_time": "2022-10-04T00:55:36.290Z"
      },
      {
        "duration": 56,
        "start_time": "2022-10-04T00:55:36.369Z"
      },
      {
        "duration": 9,
        "start_time": "2022-10-04T00:55:36.427Z"
      },
      {
        "duration": 50,
        "start_time": "2022-10-04T00:55:36.453Z"
      },
      {
        "duration": 13,
        "start_time": "2022-10-04T00:55:36.505Z"
      },
      {
        "duration": 35,
        "start_time": "2022-10-04T00:55:36.520Z"
      },
      {
        "duration": 4,
        "start_time": "2022-10-04T00:55:36.557Z"
      },
      {
        "duration": 31,
        "start_time": "2022-10-04T00:55:36.562Z"
      },
      {
        "duration": 17,
        "start_time": "2022-10-04T00:55:36.595Z"
      },
      {
        "duration": 28,
        "start_time": "2022-10-04T00:55:36.614Z"
      },
      {
        "duration": 18,
        "start_time": "2022-10-04T00:55:36.654Z"
      },
      {
        "duration": 21,
        "start_time": "2022-10-04T00:55:36.674Z"
      },
      {
        "duration": 24,
        "start_time": "2022-10-04T00:55:36.697Z"
      },
      {
        "duration": 36,
        "start_time": "2022-10-04T00:55:36.723Z"
      },
      {
        "duration": 29,
        "start_time": "2022-10-04T00:55:36.764Z"
      },
      {
        "duration": 23,
        "start_time": "2022-10-04T00:55:36.795Z"
      },
      {
        "duration": 59,
        "start_time": "2022-10-04T00:55:36.821Z"
      },
      {
        "duration": 0,
        "start_time": "2022-10-04T00:55:36.882Z"
      },
      {
        "duration": 0,
        "start_time": "2022-10-04T00:55:36.884Z"
      },
      {
        "duration": 0,
        "start_time": "2022-10-04T00:55:36.884Z"
      },
      {
        "duration": 0,
        "start_time": "2022-10-04T00:55:36.886Z"
      },
      {
        "duration": 0,
        "start_time": "2022-10-04T00:55:36.887Z"
      },
      {
        "duration": 0,
        "start_time": "2022-10-04T00:55:36.889Z"
      },
      {
        "duration": 0,
        "start_time": "2022-10-04T00:55:36.890Z"
      },
      {
        "duration": 0,
        "start_time": "2022-10-04T00:55:36.891Z"
      },
      {
        "duration": 22,
        "start_time": "2022-10-04T00:59:15.861Z"
      },
      {
        "duration": 5,
        "start_time": "2022-10-04T01:24:43.220Z"
      },
      {
        "duration": 5,
        "start_time": "2022-10-04T01:24:50.133Z"
      },
      {
        "duration": 7,
        "start_time": "2022-10-04T01:25:14.912Z"
      },
      {
        "duration": 10,
        "start_time": "2022-10-04T12:15:04.323Z"
      },
      {
        "duration": 5,
        "start_time": "2022-10-04T12:15:09.221Z"
      },
      {
        "duration": 5,
        "start_time": "2022-10-04T12:15:26.679Z"
      },
      {
        "duration": 54,
        "start_time": "2022-10-04T12:15:48.539Z"
      },
      {
        "duration": 5,
        "start_time": "2022-10-04T12:15:55.551Z"
      },
      {
        "duration": 5,
        "start_time": "2022-10-04T12:15:58.567Z"
      },
      {
        "duration": 6,
        "start_time": "2022-10-04T12:26:33.047Z"
      },
      {
        "duration": 376,
        "start_time": "2022-10-04T12:26:53.422Z"
      },
      {
        "duration": 246,
        "start_time": "2022-10-04T12:26:53.800Z"
      },
      {
        "duration": 18,
        "start_time": "2022-10-04T12:26:54.048Z"
      },
      {
        "duration": 30,
        "start_time": "2022-10-04T12:26:54.068Z"
      },
      {
        "duration": 3,
        "start_time": "2022-10-04T12:26:54.100Z"
      },
      {
        "duration": 20,
        "start_time": "2022-10-04T12:26:54.104Z"
      },
      {
        "duration": 27,
        "start_time": "2022-10-04T12:26:54.126Z"
      },
      {
        "duration": 15,
        "start_time": "2022-10-04T12:26:54.155Z"
      },
      {
        "duration": 28,
        "start_time": "2022-10-04T12:26:54.172Z"
      },
      {
        "duration": 26,
        "start_time": "2022-10-04T12:26:54.202Z"
      },
      {
        "duration": 35,
        "start_time": "2022-10-04T12:26:54.230Z"
      },
      {
        "duration": 91,
        "start_time": "2022-10-04T12:26:54.266Z"
      },
      {
        "duration": 82,
        "start_time": "2022-10-04T12:26:54.359Z"
      },
      {
        "duration": 61,
        "start_time": "2022-10-04T12:26:54.443Z"
      },
      {
        "duration": 49,
        "start_time": "2022-10-04T12:26:54.506Z"
      },
      {
        "duration": 24,
        "start_time": "2022-10-04T12:26:54.558Z"
      },
      {
        "duration": 64,
        "start_time": "2022-10-04T12:26:54.583Z"
      },
      {
        "duration": 11,
        "start_time": "2022-10-04T12:26:54.649Z"
      },
      {
        "duration": 25,
        "start_time": "2022-10-04T12:26:54.661Z"
      },
      {
        "duration": 16,
        "start_time": "2022-10-04T12:26:54.688Z"
      },
      {
        "duration": 33,
        "start_time": "2022-10-04T12:26:54.705Z"
      },
      {
        "duration": 19,
        "start_time": "2022-10-04T12:26:54.740Z"
      },
      {
        "duration": 38,
        "start_time": "2022-10-04T12:26:54.761Z"
      },
      {
        "duration": 22,
        "start_time": "2022-10-04T12:26:54.801Z"
      },
      {
        "duration": 34,
        "start_time": "2022-10-04T12:26:54.825Z"
      },
      {
        "duration": 24,
        "start_time": "2022-10-04T12:26:54.860Z"
      },
      {
        "duration": 8,
        "start_time": "2022-10-04T12:26:54.886Z"
      },
      {
        "duration": 27,
        "start_time": "2022-10-04T12:26:54.897Z"
      },
      {
        "duration": 19,
        "start_time": "2022-10-04T12:26:54.925Z"
      },
      {
        "duration": 26,
        "start_time": "2022-10-04T12:26:54.945Z"
      },
      {
        "duration": 33,
        "start_time": "2022-10-04T12:26:54.972Z"
      },
      {
        "duration": 13,
        "start_time": "2022-10-04T12:26:55.007Z"
      },
      {
        "duration": 32,
        "start_time": "2022-10-04T12:26:55.022Z"
      },
      {
        "duration": 22,
        "start_time": "2022-10-04T12:26:55.055Z"
      },
      {
        "duration": 15,
        "start_time": "2022-10-04T12:26:55.079Z"
      },
      {
        "duration": 22,
        "start_time": "2022-10-04T12:26:55.096Z"
      },
      {
        "duration": 19,
        "start_time": "2022-10-04T12:26:55.120Z"
      },
      {
        "duration": 23,
        "start_time": "2022-10-04T12:26:55.141Z"
      },
      {
        "duration": 69,
        "start_time": "2022-10-04T12:51:10.678Z"
      },
      {
        "duration": 388,
        "start_time": "2022-10-04T12:52:12.213Z"
      },
      {
        "duration": 156,
        "start_time": "2022-10-04T12:52:12.604Z"
      },
      {
        "duration": 22,
        "start_time": "2022-10-04T12:52:12.762Z"
      },
      {
        "duration": 27,
        "start_time": "2022-10-04T12:52:12.786Z"
      },
      {
        "duration": 3,
        "start_time": "2022-10-04T12:52:12.814Z"
      },
      {
        "duration": 7,
        "start_time": "2022-10-04T12:52:12.819Z"
      },
      {
        "duration": 33,
        "start_time": "2022-10-04T12:52:12.827Z"
      },
      {
        "duration": 10,
        "start_time": "2022-10-04T12:52:12.862Z"
      },
      {
        "duration": 29,
        "start_time": "2022-10-04T12:52:12.874Z"
      },
      {
        "duration": 30,
        "start_time": "2022-10-04T12:52:12.906Z"
      },
      {
        "duration": 32,
        "start_time": "2022-10-04T12:52:12.937Z"
      },
      {
        "duration": 70,
        "start_time": "2022-10-04T12:52:12.971Z"
      },
      {
        "duration": 84,
        "start_time": "2022-10-04T12:52:13.043Z"
      },
      {
        "duration": 70,
        "start_time": "2022-10-04T12:52:13.128Z"
      },
      {
        "duration": 48,
        "start_time": "2022-10-04T12:52:13.200Z"
      },
      {
        "duration": 31,
        "start_time": "2022-10-04T12:52:13.250Z"
      },
      {
        "duration": 47,
        "start_time": "2022-10-04T12:52:13.283Z"
      },
      {
        "duration": 10,
        "start_time": "2022-10-04T12:52:13.332Z"
      },
      {
        "duration": 12,
        "start_time": "2022-10-04T12:52:13.344Z"
      },
      {
        "duration": 4,
        "start_time": "2022-10-04T12:52:13.377Z"
      },
      {
        "duration": 35,
        "start_time": "2022-10-04T12:52:13.383Z"
      },
      {
        "duration": 15,
        "start_time": "2022-10-04T12:52:13.420Z"
      },
      {
        "duration": 18,
        "start_time": "2022-10-04T12:52:13.437Z"
      },
      {
        "duration": 25,
        "start_time": "2022-10-04T12:52:13.457Z"
      },
      {
        "duration": 15,
        "start_time": "2022-10-04T12:52:13.484Z"
      },
      {
        "duration": 14,
        "start_time": "2022-10-04T12:52:13.501Z"
      },
      {
        "duration": 11,
        "start_time": "2022-10-04T12:52:13.516Z"
      },
      {
        "duration": 9,
        "start_time": "2022-10-04T12:52:13.530Z"
      },
      {
        "duration": 10,
        "start_time": "2022-10-04T12:52:13.541Z"
      },
      {
        "duration": 25,
        "start_time": "2022-10-04T12:52:13.552Z"
      },
      {
        "duration": 13,
        "start_time": "2022-10-04T12:52:13.579Z"
      },
      {
        "duration": 5,
        "start_time": "2022-10-04T12:52:13.594Z"
      },
      {
        "duration": 12,
        "start_time": "2022-10-04T12:52:13.600Z"
      },
      {
        "duration": 6,
        "start_time": "2022-10-04T12:52:13.614Z"
      },
      {
        "duration": 5,
        "start_time": "2022-10-04T12:52:13.621Z"
      },
      {
        "duration": 9,
        "start_time": "2022-10-04T12:52:13.628Z"
      },
      {
        "duration": 11,
        "start_time": "2022-10-04T12:52:13.638Z"
      },
      {
        "duration": 9,
        "start_time": "2022-10-04T12:52:13.651Z"
      },
      {
        "duration": 403,
        "start_time": "2022-10-04T15:02:17.810Z"
      },
      {
        "duration": 162,
        "start_time": "2022-10-04T15:02:18.215Z"
      },
      {
        "duration": 17,
        "start_time": "2022-10-04T15:02:18.379Z"
      },
      {
        "duration": 26,
        "start_time": "2022-10-04T15:02:18.398Z"
      },
      {
        "duration": 2,
        "start_time": "2022-10-04T15:02:18.426Z"
      },
      {
        "duration": 12,
        "start_time": "2022-10-04T15:02:18.430Z"
      },
      {
        "duration": 14,
        "start_time": "2022-10-04T15:02:18.443Z"
      },
      {
        "duration": 4,
        "start_time": "2022-10-04T15:02:18.477Z"
      },
      {
        "duration": 25,
        "start_time": "2022-10-04T15:02:18.482Z"
      },
      {
        "duration": 21,
        "start_time": "2022-10-04T15:02:18.509Z"
      },
      {
        "duration": 44,
        "start_time": "2022-10-04T15:02:18.532Z"
      },
      {
        "duration": 65,
        "start_time": "2022-10-04T15:02:18.578Z"
      },
      {
        "duration": 82,
        "start_time": "2022-10-04T15:02:18.645Z"
      },
      {
        "duration": 67,
        "start_time": "2022-10-04T15:02:18.729Z"
      },
      {
        "duration": 48,
        "start_time": "2022-10-04T15:02:18.797Z"
      },
      {
        "duration": 9,
        "start_time": "2022-10-04T15:02:18.847Z"
      },
      {
        "duration": 45,
        "start_time": "2022-10-04T15:02:18.876Z"
      },
      {
        "duration": 10,
        "start_time": "2022-10-04T15:02:18.923Z"
      },
      {
        "duration": 14,
        "start_time": "2022-10-04T15:02:18.934Z"
      },
      {
        "duration": 4,
        "start_time": "2022-10-04T15:02:18.949Z"
      },
      {
        "duration": 34,
        "start_time": "2022-10-04T15:02:18.954Z"
      },
      {
        "duration": 13,
        "start_time": "2022-10-04T15:02:18.989Z"
      },
      {
        "duration": 17,
        "start_time": "2022-10-04T15:02:19.003Z"
      },
      {
        "duration": 13,
        "start_time": "2022-10-04T15:02:19.022Z"
      },
      {
        "duration": 40,
        "start_time": "2022-10-04T15:02:19.037Z"
      },
      {
        "duration": 14,
        "start_time": "2022-10-04T15:02:19.079Z"
      },
      {
        "duration": 9,
        "start_time": "2022-10-04T15:02:19.094Z"
      },
      {
        "duration": 4,
        "start_time": "2022-10-04T15:02:19.106Z"
      },
      {
        "duration": 10,
        "start_time": "2022-10-04T15:02:19.112Z"
      },
      {
        "duration": 6,
        "start_time": "2022-10-04T15:02:19.123Z"
      },
      {
        "duration": 9,
        "start_time": "2022-10-04T15:02:19.130Z"
      },
      {
        "duration": 7,
        "start_time": "2022-10-04T15:02:19.140Z"
      },
      {
        "duration": 5,
        "start_time": "2022-10-04T15:02:19.148Z"
      },
      {
        "duration": 22,
        "start_time": "2022-10-04T15:02:19.155Z"
      },
      {
        "duration": 5,
        "start_time": "2022-10-04T15:02:19.178Z"
      },
      {
        "duration": 10,
        "start_time": "2022-10-04T15:02:19.185Z"
      },
      {
        "duration": 6,
        "start_time": "2022-10-04T15:02:19.197Z"
      },
      {
        "duration": 7,
        "start_time": "2022-10-04T15:02:19.204Z"
      },
      {
        "duration": 7,
        "start_time": "2022-10-04T15:03:03.108Z"
      },
      {
        "duration": 20,
        "start_time": "2022-10-04T15:03:24.273Z"
      },
      {
        "duration": 18,
        "start_time": "2022-10-04T15:03:29.669Z"
      },
      {
        "duration": 449,
        "start_time": "2022-10-04T15:05:01.346Z"
      },
      {
        "duration": 171,
        "start_time": "2022-10-04T15:05:01.797Z"
      },
      {
        "duration": 17,
        "start_time": "2022-10-04T15:05:01.970Z"
      },
      {
        "duration": 30,
        "start_time": "2022-10-04T15:05:01.989Z"
      },
      {
        "duration": 7,
        "start_time": "2022-10-04T15:05:02.021Z"
      },
      {
        "duration": 17,
        "start_time": "2022-10-04T15:05:02.029Z"
      },
      {
        "duration": 36,
        "start_time": "2022-10-04T15:05:02.048Z"
      },
      {
        "duration": 17,
        "start_time": "2022-10-04T15:05:02.086Z"
      },
      {
        "duration": 36,
        "start_time": "2022-10-04T15:05:02.105Z"
      },
      {
        "duration": 27,
        "start_time": "2022-10-04T15:05:02.145Z"
      },
      {
        "duration": 45,
        "start_time": "2022-10-04T15:05:02.174Z"
      },
      {
        "duration": 90,
        "start_time": "2022-10-04T15:05:02.221Z"
      },
      {
        "duration": 79,
        "start_time": "2022-10-04T15:05:02.312Z"
      },
      {
        "duration": 60,
        "start_time": "2022-10-04T15:05:02.393Z"
      },
      {
        "duration": 60,
        "start_time": "2022-10-04T15:05:02.455Z"
      },
      {
        "duration": 32,
        "start_time": "2022-10-04T15:05:02.517Z"
      },
      {
        "duration": 65,
        "start_time": "2022-10-04T15:05:02.551Z"
      },
      {
        "duration": 11,
        "start_time": "2022-10-04T15:05:02.617Z"
      },
      {
        "duration": 38,
        "start_time": "2022-10-04T15:05:02.630Z"
      },
      {
        "duration": 24,
        "start_time": "2022-10-04T15:05:02.670Z"
      },
      {
        "duration": 39,
        "start_time": "2022-10-04T15:05:02.695Z"
      },
      {
        "duration": 26,
        "start_time": "2022-10-04T15:05:02.735Z"
      },
      {
        "duration": 38,
        "start_time": "2022-10-04T15:05:02.762Z"
      },
      {
        "duration": 32,
        "start_time": "2022-10-04T15:05:02.801Z"
      },
      {
        "duration": 22,
        "start_time": "2022-10-04T15:05:02.835Z"
      },
      {
        "duration": 26,
        "start_time": "2022-10-04T15:05:02.859Z"
      },
      {
        "duration": 26,
        "start_time": "2022-10-04T15:05:02.887Z"
      },
      {
        "duration": 38,
        "start_time": "2022-10-04T15:05:02.916Z"
      },
      {
        "duration": 24,
        "start_time": "2022-10-04T15:05:02.956Z"
      },
      {
        "duration": 7,
        "start_time": "2022-10-04T15:05:02.982Z"
      },
      {
        "duration": 22,
        "start_time": "2022-10-04T15:05:02.991Z"
      },
      {
        "duration": 19,
        "start_time": "2022-10-04T15:05:03.015Z"
      },
      {
        "duration": 23,
        "start_time": "2022-10-04T15:05:03.036Z"
      },
      {
        "duration": 30,
        "start_time": "2022-10-04T15:05:03.060Z"
      },
      {
        "duration": 9,
        "start_time": "2022-10-04T15:05:03.091Z"
      },
      {
        "duration": 23,
        "start_time": "2022-10-04T15:05:03.102Z"
      },
      {
        "duration": 13,
        "start_time": "2022-10-04T15:05:03.126Z"
      },
      {
        "duration": 14,
        "start_time": "2022-10-04T15:05:03.141Z"
      },
      {
        "duration": 421,
        "start_time": "2022-10-04T15:08:23.701Z"
      },
      {
        "duration": 172,
        "start_time": "2022-10-04T15:08:24.124Z"
      },
      {
        "duration": 19,
        "start_time": "2022-10-04T15:08:24.298Z"
      },
      {
        "duration": 30,
        "start_time": "2022-10-04T15:08:24.320Z"
      },
      {
        "duration": 2,
        "start_time": "2022-10-04T15:08:24.352Z"
      },
      {
        "duration": 5,
        "start_time": "2022-10-04T15:08:24.377Z"
      },
      {
        "duration": 12,
        "start_time": "2022-10-04T15:08:24.384Z"
      },
      {
        "duration": 5,
        "start_time": "2022-10-04T15:08:24.398Z"
      },
      {
        "duration": 25,
        "start_time": "2022-10-04T15:08:24.405Z"
      },
      {
        "duration": 50,
        "start_time": "2022-10-04T15:08:24.433Z"
      },
      {
        "duration": 24,
        "start_time": "2022-10-04T15:08:24.484Z"
      },
      {
        "duration": 91,
        "start_time": "2022-10-04T15:08:24.509Z"
      },
      {
        "duration": 80,
        "start_time": "2022-10-04T15:08:24.602Z"
      },
      {
        "duration": 64,
        "start_time": "2022-10-04T15:08:24.684Z"
      },
      {
        "duration": 61,
        "start_time": "2022-10-04T15:08:24.750Z"
      },
      {
        "duration": 11,
        "start_time": "2022-10-04T15:08:24.813Z"
      },
      {
        "duration": 60,
        "start_time": "2022-10-04T15:08:24.826Z"
      },
      {
        "duration": 11,
        "start_time": "2022-10-04T15:08:24.888Z"
      },
      {
        "duration": 11,
        "start_time": "2022-10-04T15:08:24.901Z"
      },
      {
        "duration": 4,
        "start_time": "2022-10-04T15:08:24.913Z"
      },
      {
        "duration": 20,
        "start_time": "2022-10-04T15:08:24.918Z"
      },
      {
        "duration": 37,
        "start_time": "2022-10-04T15:08:24.940Z"
      },
      {
        "duration": 14,
        "start_time": "2022-10-04T15:08:24.979Z"
      },
      {
        "duration": 13,
        "start_time": "2022-10-04T15:08:24.995Z"
      },
      {
        "duration": 17,
        "start_time": "2022-10-04T15:08:25.009Z"
      },
      {
        "duration": 14,
        "start_time": "2022-10-04T15:08:25.028Z"
      },
      {
        "duration": 39,
        "start_time": "2022-10-04T15:08:25.044Z"
      },
      {
        "duration": 24,
        "start_time": "2022-10-04T15:08:25.086Z"
      },
      {
        "duration": 19,
        "start_time": "2022-10-04T15:08:25.111Z"
      },
      {
        "duration": 5,
        "start_time": "2022-10-04T15:08:25.132Z"
      },
      {
        "duration": 8,
        "start_time": "2022-10-04T15:08:25.139Z"
      },
      {
        "duration": 8,
        "start_time": "2022-10-04T15:08:25.148Z"
      },
      {
        "duration": 8,
        "start_time": "2022-10-04T15:08:25.177Z"
      },
      {
        "duration": 9,
        "start_time": "2022-10-04T15:08:25.187Z"
      },
      {
        "duration": 10,
        "start_time": "2022-10-04T15:08:25.198Z"
      },
      {
        "duration": 10,
        "start_time": "2022-10-04T15:08:25.211Z"
      },
      {
        "duration": 10,
        "start_time": "2022-10-04T15:08:25.224Z"
      },
      {
        "duration": 11,
        "start_time": "2022-10-04T15:08:25.236Z"
      },
      {
        "duration": 46,
        "start_time": "2022-10-04T16:47:59.771Z"
      },
      {
        "duration": 400,
        "start_time": "2022-10-04T16:49:52.367Z"
      },
      {
        "duration": 230,
        "start_time": "2022-10-04T16:49:52.769Z"
      },
      {
        "duration": 17,
        "start_time": "2022-10-04T16:49:53.001Z"
      },
      {
        "duration": 38,
        "start_time": "2022-10-04T16:49:53.021Z"
      },
      {
        "duration": 3,
        "start_time": "2022-10-04T16:49:53.060Z"
      },
      {
        "duration": 10,
        "start_time": "2022-10-04T16:49:53.064Z"
      },
      {
        "duration": 17,
        "start_time": "2022-10-04T16:49:53.075Z"
      },
      {
        "duration": 6,
        "start_time": "2022-10-04T16:49:53.094Z"
      },
      {
        "duration": 32,
        "start_time": "2022-10-04T16:49:53.102Z"
      },
      {
        "duration": 19,
        "start_time": "2022-10-04T16:49:53.137Z"
      },
      {
        "duration": 25,
        "start_time": "2022-10-04T16:49:53.158Z"
      },
      {
        "duration": 84,
        "start_time": "2022-10-04T16:49:53.184Z"
      },
      {
        "duration": 73,
        "start_time": "2022-10-04T16:49:53.270Z"
      },
      {
        "duration": 58,
        "start_time": "2022-10-04T16:49:53.345Z"
      },
      {
        "duration": 64,
        "start_time": "2022-10-04T16:49:53.405Z"
      },
      {
        "duration": 11,
        "start_time": "2022-10-04T16:49:53.471Z"
      },
      {
        "duration": 63,
        "start_time": "2022-10-04T16:49:53.483Z"
      },
      {
        "duration": 12,
        "start_time": "2022-10-04T16:49:53.548Z"
      },
      {
        "duration": 10,
        "start_time": "2022-10-04T16:49:53.561Z"
      },
      {
        "duration": 6,
        "start_time": "2022-10-04T16:49:53.573Z"
      },
      {
        "duration": 22,
        "start_time": "2022-10-04T16:49:53.580Z"
      },
      {
        "duration": 34,
        "start_time": "2022-10-04T16:49:53.604Z"
      },
      {
        "duration": 14,
        "start_time": "2022-10-04T16:49:53.640Z"
      },
      {
        "duration": 13,
        "start_time": "2022-10-04T16:49:53.656Z"
      },
      {
        "duration": 16,
        "start_time": "2022-10-04T16:49:53.670Z"
      },
      {
        "duration": 27,
        "start_time": "2022-10-04T16:49:53.689Z"
      },
      {
        "duration": 22,
        "start_time": "2022-10-04T16:49:53.718Z"
      },
      {
        "duration": 12,
        "start_time": "2022-10-04T16:49:53.743Z"
      },
      {
        "duration": 10,
        "start_time": "2022-10-04T16:49:53.756Z"
      },
      {
        "duration": 5,
        "start_time": "2022-10-04T16:49:53.767Z"
      },
      {
        "duration": 34,
        "start_time": "2022-10-04T16:49:53.773Z"
      },
      {
        "duration": 73,
        "start_time": "2022-10-04T16:49:53.809Z"
      },
      {
        "duration": 0,
        "start_time": "2022-10-04T16:49:53.884Z"
      },
      {
        "duration": 0,
        "start_time": "2022-10-04T16:49:53.885Z"
      },
      {
        "duration": 0,
        "start_time": "2022-10-04T16:49:53.885Z"
      },
      {
        "duration": 0,
        "start_time": "2022-10-04T16:49:53.886Z"
      },
      {
        "duration": 0,
        "start_time": "2022-10-04T16:49:53.887Z"
      },
      {
        "duration": 0,
        "start_time": "2022-10-04T16:49:53.888Z"
      },
      {
        "duration": 14,
        "start_time": "2022-10-04T16:51:39.057Z"
      },
      {
        "duration": 22,
        "start_time": "2022-10-04T16:51:44.355Z"
      },
      {
        "duration": 17,
        "start_time": "2022-10-04T16:51:45.540Z"
      },
      {
        "duration": 9,
        "start_time": "2022-10-04T17:05:15.715Z"
      },
      {
        "duration": 456,
        "start_time": "2022-10-04T17:05:47.667Z"
      },
      {
        "duration": 196,
        "start_time": "2022-10-04T17:05:48.126Z"
      },
      {
        "duration": 25,
        "start_time": "2022-10-04T17:05:48.324Z"
      },
      {
        "duration": 49,
        "start_time": "2022-10-04T17:05:48.351Z"
      },
      {
        "duration": 3,
        "start_time": "2022-10-04T17:05:48.402Z"
      },
      {
        "duration": 17,
        "start_time": "2022-10-04T17:05:48.406Z"
      },
      {
        "duration": 13,
        "start_time": "2022-10-04T17:05:48.434Z"
      },
      {
        "duration": 19,
        "start_time": "2022-10-04T17:05:48.448Z"
      },
      {
        "duration": 31,
        "start_time": "2022-10-04T17:05:48.469Z"
      },
      {
        "duration": 29,
        "start_time": "2022-10-04T17:05:48.502Z"
      },
      {
        "duration": 35,
        "start_time": "2022-10-04T17:05:48.533Z"
      },
      {
        "duration": 102,
        "start_time": "2022-10-04T17:05:48.570Z"
      },
      {
        "duration": 95,
        "start_time": "2022-10-04T17:05:48.674Z"
      },
      {
        "duration": 92,
        "start_time": "2022-10-04T17:05:48.771Z"
      },
      {
        "duration": 94,
        "start_time": "2022-10-04T17:05:48.865Z"
      },
      {
        "duration": 10,
        "start_time": "2022-10-04T17:05:48.961Z"
      },
      {
        "duration": 83,
        "start_time": "2022-10-04T17:05:48.973Z"
      },
      {
        "duration": 13,
        "start_time": "2022-10-04T17:05:49.058Z"
      },
      {
        "duration": 15,
        "start_time": "2022-10-04T17:05:49.073Z"
      },
      {
        "duration": 5,
        "start_time": "2022-10-04T17:05:49.089Z"
      },
      {
        "duration": 41,
        "start_time": "2022-10-04T17:05:49.096Z"
      },
      {
        "duration": 26,
        "start_time": "2022-10-04T17:05:49.139Z"
      },
      {
        "duration": 37,
        "start_time": "2022-10-04T17:05:49.168Z"
      },
      {
        "duration": 25,
        "start_time": "2022-10-04T17:05:49.208Z"
      },
      {
        "duration": 32,
        "start_time": "2022-10-04T17:05:49.235Z"
      },
      {
        "duration": 14,
        "start_time": "2022-10-04T17:05:49.269Z"
      },
      {
        "duration": 13,
        "start_time": "2022-10-04T17:05:49.285Z"
      },
      {
        "duration": 15,
        "start_time": "2022-10-04T17:05:49.301Z"
      },
      {
        "duration": 20,
        "start_time": "2022-10-04T17:05:49.318Z"
      },
      {
        "duration": 7,
        "start_time": "2022-10-04T17:05:49.340Z"
      },
      {
        "duration": 42,
        "start_time": "2022-10-04T17:05:49.348Z"
      },
      {
        "duration": 14,
        "start_time": "2022-10-04T17:05:49.392Z"
      },
      {
        "duration": 45,
        "start_time": "2022-10-04T17:05:49.408Z"
      },
      {
        "duration": 21,
        "start_time": "2022-10-04T17:05:49.456Z"
      },
      {
        "duration": 9,
        "start_time": "2022-10-04T17:05:49.480Z"
      },
      {
        "duration": 11,
        "start_time": "2022-10-04T17:05:49.491Z"
      },
      {
        "duration": 10,
        "start_time": "2022-10-04T17:05:49.504Z"
      },
      {
        "duration": 17,
        "start_time": "2022-10-04T17:05:49.516Z"
      }
    ],
    "colab": {
      "collapsed_sections": [
        "E0vqbgi9ay0H",
        "VUC88oWjTJw2"
      ],
      "provenance": []
    },
    "kernelspec": {
      "display_name": "Python 3 (ipykernel)",
      "language": "python",
      "name": "python3"
    },
    "language_info": {
      "codemirror_mode": {
        "name": "ipython",
        "version": 3
      },
      "file_extension": ".py",
      "mimetype": "text/x-python",
      "name": "python",
      "nbconvert_exporter": "python",
      "pygments_lexer": "ipython3",
      "version": "3.9.5"
    },
    "toc": {
      "base_numbering": 1,
      "nav_menu": {
        "height": "215px",
        "width": "403px"
      },
      "number_sections": true,
      "sideBar": true,
      "skip_h1_title": true,
      "title_cell": "Table of Contents",
      "title_sidebar": "Contents",
      "toc_cell": false,
      "toc_position": {
        "height": "calc(100% - 180px)",
        "left": "10px",
        "top": "150px",
        "width": "285.825px"
      },
      "toc_section_display": true,
      "toc_window_display": false
    }
  },
  "nbformat": 4,
  "nbformat_minor": 0
}